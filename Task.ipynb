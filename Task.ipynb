{
 "cells": [
  {
   "cell_type": "code",
   "execution_count": 1,
   "metadata": {},
   "outputs": [
    {
     "name": "stdout",
     "output_type": "stream",
     "text": [
      "           Id ActivityDate  TotalSteps  TotalDistance  TrackerDistance  \\\n",
      "0  1503960366    4/12/2016       13162           8.50             8.50   \n",
      "1  1503960366    4/13/2016       10735           6.97             6.97   \n",
      "2  1503960366    4/14/2016       10460           6.74             6.74   \n",
      "3  1503960366    4/15/2016        9762           6.28             6.28   \n",
      "4  1503960366    4/16/2016       12669           8.16             8.16   \n",
      "\n",
      "   LoggedActivitiesDistance  VeryActiveDistance  ModeratelyActiveDistance  \\\n",
      "0                       0.0                1.88                      0.55   \n",
      "1                       0.0                1.57                      0.69   \n",
      "2                       0.0                2.44                      0.40   \n",
      "3                       0.0                2.14                      1.26   \n",
      "4                       0.0                2.71                      0.41   \n",
      "\n",
      "   LightActiveDistance  SedentaryActiveDistance  VeryActiveMinutes  \\\n",
      "0                 6.06                      0.0                 25   \n",
      "1                 4.71                      0.0                 21   \n",
      "2                 3.91                      0.0                 30   \n",
      "3                 2.83                      0.0                 29   \n",
      "4                 5.04                      0.0                 36   \n",
      "\n",
      "   FairlyActiveMinutes  LightlyActiveMinutes  SedentaryMinutes  Calories  \n",
      "0                   13                   328               728      1985  \n",
      "1                   19                   217               776      1797  \n",
      "2                   11                   181              1218      1776  \n",
      "3                   34                   209               726      1745  \n",
      "4                   10                   221               773      1863  \n"
     ]
    }
   ],
   "source": [
    "import pandas as pd\n",
    "# Read the CSV file into a DataFrame\n",
    "df = pd.read_csv('dailyActivity_merged.csv')\n",
    "# Display the first few rows of the DataFrame\n",
    "print(df.head())\n"
   ]
  },
  {
   "cell_type": "code",
   "execution_count": 2,
   "metadata": {},
   "outputs": [
    {
     "name": "stdout",
     "output_type": "stream",
     "text": [
      "Id                          0\n",
      "ActivityDate                0\n",
      "TotalSteps                  0\n",
      "TotalDistance               0\n",
      "TrackerDistance             0\n",
      "LoggedActivitiesDistance    0\n",
      "VeryActiveDistance          0\n",
      "ModeratelyActiveDistance    0\n",
      "LightActiveDistance         0\n",
      "SedentaryActiveDistance     0\n",
      "VeryActiveMinutes           0\n",
      "FairlyActiveMinutes         0\n",
      "LightlyActiveMinutes        0\n",
      "SedentaryMinutes            0\n",
      "Calories                    0\n",
      "dtype: int64\n",
      "<class 'pandas.core.frame.DataFrame'>\n",
      "RangeIndex: 940 entries, 0 to 939\n",
      "Data columns (total 15 columns):\n",
      " #   Column                    Non-Null Count  Dtype  \n",
      "---  ------                    --------------  -----  \n",
      " 0   Id                        940 non-null    int64  \n",
      " 1   ActivityDate              940 non-null    object \n",
      " 2   TotalSteps                940 non-null    int64  \n",
      " 3   TotalDistance             940 non-null    float64\n",
      " 4   TrackerDistance           940 non-null    float64\n",
      " 5   LoggedActivitiesDistance  940 non-null    float64\n",
      " 6   VeryActiveDistance        940 non-null    float64\n",
      " 7   ModeratelyActiveDistance  940 non-null    float64\n",
      " 8   LightActiveDistance       940 non-null    float64\n",
      " 9   SedentaryActiveDistance   940 non-null    float64\n",
      " 10  VeryActiveMinutes         940 non-null    int64  \n",
      " 11  FairlyActiveMinutes       940 non-null    int64  \n",
      " 12  LightlyActiveMinutes      940 non-null    int64  \n",
      " 13  SedentaryMinutes          940 non-null    int64  \n",
      " 14  Calories                  940 non-null    int64  \n",
      "dtypes: float64(7), int64(7), object(1)\n",
      "memory usage: 110.3+ KB\n",
      "None\n"
     ]
    }
   ],
   "source": [
    "\n",
    "print(df.isnull().sum())\n",
    "print(df.info())\n"
   ]
  },
  {
   "cell_type": "code",
   "execution_count": 3,
   "metadata": {},
   "outputs": [],
   "source": [
    "# Group by 'Id' and calculate the total steps and calories for each user\n",
    "user_summary = df.groupby('Id').agg({'TotalSteps': 'sum', 'Calories': 'sum'}).reset_index()\n"
   ]
  },
  {
   "cell_type": "code",
   "execution_count": 4,
   "metadata": {},
   "outputs": [
    {
     "name": "stdout",
     "output_type": "stream",
     "text": [
      "<class 'pandas.core.frame.DataFrame'>\n",
      "RangeIndex: 940 entries, 0 to 939\n",
      "Data columns (total 15 columns):\n",
      " #   Column                    Non-Null Count  Dtype         \n",
      "---  ------                    --------------  -----         \n",
      " 0   Id                        940 non-null    int64         \n",
      " 1   ActivityDate              940 non-null    datetime64[ns]\n",
      " 2   TotalSteps                940 non-null    int64         \n",
      " 3   TotalDistance             940 non-null    float64       \n",
      " 4   TrackerDistance           940 non-null    float64       \n",
      " 5   LoggedActivitiesDistance  940 non-null    float64       \n",
      " 6   VeryActiveDistance        940 non-null    float64       \n",
      " 7   ModeratelyActiveDistance  940 non-null    float64       \n",
      " 8   LightActiveDistance       940 non-null    float64       \n",
      " 9   SedentaryActiveDistance   940 non-null    float64       \n",
      " 10  VeryActiveMinutes         940 non-null    int64         \n",
      " 11  FairlyActiveMinutes       940 non-null    int64         \n",
      " 12  LightlyActiveMinutes      940 non-null    int64         \n",
      " 13  SedentaryMinutes          940 non-null    int64         \n",
      " 14  Calories                  940 non-null    int64         \n",
      "dtypes: datetime64[ns](1), float64(7), int64(7)\n",
      "memory usage: 110.3 KB\n",
      "None\n"
     ]
    }
   ],
   "source": [
    "# Convert 'ActivityDate' to a datetime object\n",
    "df['ActivityDate'] = pd.to_datetime(df['ActivityDate'])\n",
    "print(df.info())\n",
    "# Extract year and month from 'ActivityDate'\n",
    "df['Year'] = df['ActivityDate'].dt.year\n",
    "df['Month'] = df['ActivityDate'].dt.month\n"
   ]
  },
  {
   "cell_type": "code",
   "execution_count": 29,
   "metadata": {},
   "outputs": [
    {
     "name": "stdout",
     "output_type": "stream",
     "text": [
      "Month              4         5\n",
      "Id                            \n",
      "1503960366  238807.0  136812.0\n",
      "1624580081  110060.0   68001.0\n",
      "1644430081  142055.0   76434.0\n",
      "1844505072   68989.0   10993.0\n",
      "1927972279   15193.0   13207.0\n",
      "2022484408  226934.0  125556.0\n",
      "2026352035   90894.0   81679.0\n",
      "2320127002   92151.0   54072.0\n",
      "2347167796  171354.0       0.0\n",
      "2873212765  145123.0   89106.0\n",
      "3372868164  134156.0    3077.0\n",
      "3977333714  197080.0  132457.0\n",
      "4020332650   12589.0   57695.0\n",
      "4057192912   15352.0       0.0\n",
      "4319703577  130943.0   94391.0\n",
      "4388161847  192846.0  142386.0\n",
      "4445114986   86263.0   62430.0\n",
      "4558609924  153974.0   84265.0\n",
      "4702921684  166683.0   99051.0\n",
      "5553957443  167030.0   99960.0\n",
      "5577150313  183247.0   65886.0\n",
      "6117666160  148158.0   49150.0\n",
      "6290855005  103392.0   60445.0\n",
      "6775888955   56352.0    9160.0\n",
      "6962181067  197483.0  106156.0\n",
      "7007744171  234789.0   59620.0\n",
      "7086361926  160918.0  129607.0\n",
      "8053475328  309238.0  148424.0\n",
      "8253242879  123161.0       0.0\n",
      "8378563200  184488.0   85761.0\n",
      "8583815059  134148.0   89006.0\n",
      "8792009665   45604.0    8154.0\n",
      "8877689391  333267.0  163974.0\n"
     ]
    }
   ],
   "source": [
    "# First, aggregate the data by summing 'TotalSteps' for each 'Id' and 'Month'\n",
    "agg_df = df.groupby(['Id', 'Month'])['TotalSteps'].sum().reset_index()\n",
    "\n",
    "# Now, pivot the aggregated data\n",
    "pivot_table = agg_df.pivot(index='Id', columns='Month', values='TotalSteps').fillna(0)\n",
    "print(pivot_table)\n"
   ]
  },
  {
   "cell_type": "code",
   "execution_count": 30,
   "metadata": {},
   "outputs": [
    {
     "name": "stdout",
     "output_type": "stream",
     "text": [
      "           Id UserName\n",
      "0  1503960366    User1\n",
      "1  1234567890    User2\n",
      "\n",
      "\n",
      "\n",
      "             Id ActivityDate  TotalSteps  TotalDistance  TrackerDistance  \\\n",
      "0    1503960366   2016-04-12       13162       8.500000         8.500000   \n",
      "1    1503960366   2016-04-13       10735       6.970000         6.970000   \n",
      "2    1503960366   2016-04-14       10460       6.740000         6.740000   \n",
      "3    1503960366   2016-04-15        9762       6.280000         6.280000   \n",
      "4    1503960366   2016-04-16       12669       8.160000         8.160000   \n",
      "..          ...          ...         ...            ...              ...   \n",
      "935  8877689391   2016-05-08       10686       8.110000         8.110000   \n",
      "936  8877689391   2016-05-09       20226      18.250000        18.250000   \n",
      "937  8877689391   2016-05-10       10733       8.150000         8.150000   \n",
      "938  8877689391   2016-05-11       21420      19.559999        19.559999   \n",
      "939  8877689391   2016-05-12        8064       6.120000         6.120000   \n",
      "\n",
      "     LoggedActivitiesDistance  VeryActiveDistance  ModeratelyActiveDistance  \\\n",
      "0                         0.0                1.88                      0.55   \n",
      "1                         0.0                1.57                      0.69   \n",
      "2                         0.0                2.44                      0.40   \n",
      "3                         0.0                2.14                      1.26   \n",
      "4                         0.0                2.71                      0.41   \n",
      "..                        ...                 ...                       ...   \n",
      "935                       0.0                1.08                      0.20   \n",
      "936                       0.0               11.10                      0.80   \n",
      "937                       0.0                1.35                      0.46   \n",
      "938                       0.0               13.22                      0.41   \n",
      "939                       0.0                1.82                      0.04   \n",
      "\n",
      "     LightActiveDistance  SedentaryActiveDistance  VeryActiveMinutes  \\\n",
      "0                   6.06                     0.00                 25   \n",
      "1                   4.71                     0.00                 21   \n",
      "2                   3.91                     0.00                 30   \n",
      "3                   2.83                     0.00                 29   \n",
      "4                   5.04                     0.00                 36   \n",
      "..                   ...                      ...                ...   \n",
      "935                 6.80                     0.00                 17   \n",
      "936                 6.24                     0.05                 73   \n",
      "937                 6.28                     0.00                 18   \n",
      "938                 5.89                     0.00                 88   \n",
      "939                 4.25                     0.00                 23   \n",
      "\n",
      "     FairlyActiveMinutes  LightlyActiveMinutes  SedentaryMinutes  Calories  \\\n",
      "0                     13                   328               728      1985   \n",
      "1                     19                   217               776      1797   \n",
      "2                     11                   181              1218      1776   \n",
      "3                     34                   209               726      1745   \n",
      "4                     10                   221               773      1863   \n",
      "..                   ...                   ...               ...       ...   \n",
      "935                    4                   245              1174      2847   \n",
      "936                   19                   217              1131      3710   \n",
      "937                   11                   224              1187      2832   \n",
      "938                   12                   213              1127      3832   \n",
      "939                    1                   137               770      1849   \n",
      "\n",
      "     Year  Month ActivityLevel        Day UserName  \n",
      "0    2016      4          High    Tuesday    User1  \n",
      "1    2016      4          High  Wednesday    User1  \n",
      "2    2016      4          High   Thursday    User1  \n",
      "3    2016      4      Moderate     Friday    User1  \n",
      "4    2016      4          High   Saturday    User1  \n",
      "..    ...    ...           ...        ...      ...  \n",
      "935  2016      5          High     Sunday      NaN  \n",
      "936  2016      5          High     Monday      NaN  \n",
      "937  2016      5          High    Tuesday      NaN  \n",
      "938  2016      5          High  Wednesday      NaN  \n",
      "939  2016      5      Moderate   Thursday      NaN  \n",
      "\n",
      "[940 rows x 20 columns]\n"
     ]
    }
   ],
   "source": [
    "# Create a second DataFrame with additional user information\n",
    "user_info = pd.DataFrame({'Id': [1503960366, 1234567890], 'UserName': ['User1', 'User2']})\n",
    "\n",
    "# Merge the two DataFrames based on 'Id'\n",
    "merged_df = df.merge(user_info, on='Id', how='left')\n",
    "print(user_info)\n",
    "print(\"\\n\\n\")\n",
    "print(merged_df)\n",
    "\n"
   ]
  },
  {
   "cell_type": "code",
   "execution_count": 7,
   "metadata": {},
   "outputs": [],
   "source": [
    "# Define a custom function to categorize activity levels based on 'TotalSteps'\n",
    "def categorize_activity(total_steps):\n",
    "    if total_steps < 5000:\n",
    "        return 'Low'\n",
    "    elif total_steps < 10000:\n",
    "        return 'Moderate'\n",
    "    else:\n",
    "        return 'High'\n",
    "\n",
    "# Apply the custom function to create a new column\n",
    "df['ActivityLevel'] = df['TotalSteps'].apply(categorize_activity)\n"
   ]
  },
  {
   "cell_type": "code",
   "execution_count": 8,
   "metadata": {},
   "outputs": [
    {
     "name": "stdout",
     "output_type": "stream",
     "text": [
      "         TotalSteps     Calories\n",
      "count    940.000000   940.000000\n",
      "mean    7637.910638  2303.609574\n",
      "std     5087.150742   718.166862\n",
      "min        0.000000     0.000000\n",
      "25%     3789.750000  1828.500000\n",
      "50%     7405.500000  2134.000000\n",
      "75%    10727.000000  2793.250000\n",
      "max    36019.000000  4900.000000\n"
     ]
    }
   ],
   "source": [
    "# Calculate summary statistics\n",
    "summary_stats = df[['TotalSteps', 'Calories']].describe()\n",
    "print(summary_stats)\n"
   ]
  },
  {
   "cell_type": "code",
   "execution_count": 9,
   "metadata": {},
   "outputs": [
    {
     "name": "stdout",
     "output_type": "stream",
     "text": [
      "            Id  TotalSteps\n",
      "32  8877689391      497241\n",
      "27  8053475328      457662\n",
      "0   1503960366      375619\n",
      "5   2022484408      352490\n",
      "15  4388161847      335232\n"
     ]
    }
   ],
   "source": [
    "# Group by 'Id' and calculate the total steps for each user\n",
    "user_total_steps = df.groupby('Id')['TotalSteps'].sum().reset_index()\n",
    "\n",
    "# Sort by total steps in descending order and select the top 5 users\n",
    "top_5_users = user_total_steps.sort_values(by='TotalSteps', ascending=False).head(5)\n",
    "print(top_5_users)\n"
   ]
  },
  {
   "cell_type": "code",
   "execution_count": 10,
   "metadata": {},
   "outputs": [
    {
     "name": "stdout",
     "output_type": "stream",
     "text": [
      "   Year  Month   TotalSteps\n",
      "0  2016      4  7811.327332\n",
      "1  2016      5  7315.851064\n"
     ]
    }
   ],
   "source": [
    "# Group by 'Year' and 'Month' and calculate the average steps per day\n",
    "avg_steps_by_month = df.groupby(['Year', 'Month'])['TotalSteps'].mean().reset_index()\n",
    "print(avg_steps_by_month)\n"
   ]
  },
  {
   "cell_type": "code",
   "execution_count": 11,
   "metadata": {},
   "outputs": [
    {
     "data": {
      "image/png": "[encoded data removed]",
      "text/plain": [
       "<Figure size 1000x600 with 1 Axes>"
      ]
     },
     "metadata": {},
     "output_type": "display_data"
    },
    {
     "data": {
      "image/png": "[encoded data removed]",
      "text/plain": [
       "<Figure size 1000x600 with 1 Axes>"
      ]
     },
     "metadata": {},
     "output_type": "display_data"
    },
    {
     "data": {
      "image/png": "[encoded data removed]",
      "text/plain": [
       "<Figure size 1250x1250 with 30 Axes>"
      ]
     },
     "metadata": {},
     "output_type": "display_data"
    }
   ],
   "source": [
    "import seaborn as sns\n",
    "import matplotlib.pyplot as plt\n",
    "import plotly.graph_objects as go\n",
    "import plotly.express as px\n",
    "\n",
    "\n",
    "# Set a seaborn style (optional)\n",
    "#sns.set_style('whitegrid')\n",
    "\n",
    "# Visualization 1: Histogram of Total Steps\n",
    "plt.figure(figsize=(10, 6))\n",
    "sns.histplot(data=df, x='TotalSteps', bins=20, kde=True)\n",
    "plt.xlabel('Total Steps')\n",
    "plt.ylabel('Frequency')\n",
    "plt.title('Histogram of Total Steps')\n",
    "plt.show()\n",
    "\n",
    "# Visualization 2: Box Plot of Total Steps by Activity Level\n",
    "plt.figure(figsize=(10, 6))\n",
    "sns.boxplot(data=df, x='ActivityLevel', y='TotalSteps', order=['Low', 'Moderate', 'High'])\n",
    "plt.xlabel('Activity Level')\n",
    "plt.ylabel('Total Steps')\n",
    "plt.title('Box Plot of Total Steps by Activity Level')\n",
    "plt.show()\n",
    "\n",
    "# Visualization 3: Pair Plot of Numeric Variables\n",
    "numeric_vars = ['TotalSteps', 'TotalDistance', 'VeryActiveDistance', 'ModeratelyActiveDistance', 'LightActiveDistance']\n",
    "sns.pairplot(df[numeric_vars])\n",
    "plt.suptitle('Pair Plot of Numeric Variables', y=1.02)\n",
    "plt.show()\n"
   ]
  },
  {
   "cell_type": "code",
   "execution_count": 12,
   "metadata": {},
   "outputs": [
    {
     "data": {
      "image/png": "[encoded data removed]",
      "text/plain": [
       "<Figure size 1200x600 with 1 Axes>"
      ]
     },
     "metadata": {},
     "output_type": "display_data"
    }
   ],
   "source": [
    "\n",
    "# Group by 'ActivityDate' and calculate the total steps for each date\n",
    "daily_steps = df.groupby('ActivityDate')['TotalSteps'].sum()\n",
    "\n",
    "# Plot the trend of total steps over time\n",
    "plt.figure(figsize=(12, 6))\n",
    "plt.plot(daily_steps.index, daily_steps.values)\n",
    "plt.xlabel('Date')\n",
    "plt.ylabel('Total Steps')\n",
    "plt.title('Total Steps Over Time')\n",
    "plt.xticks(rotation=45)\n",
    "plt.grid(True)\n",
    "plt.show()\n"
   ]
  },
  {
   "cell_type": "code",
   "execution_count": 23,
   "metadata": {},
   "outputs": [
    {
     "data": {
      "application/vnd.plotly.v1+json": {
       "config": {
        "plotlyServerURL": "https://plot.ly"
       },
       "data": [
        {
         "hole": 0.4,
         "labels": [
          "VeryActiveMinutes",
          "FairlyActiveMinutes",
          "LightlyActiveMinutes",
          "SedentaryMinutes"
         ],
         "marker": {
          "colors": [
           "gold",
           "red",
           "brown",
           "neon"
          ],
          "line": {
           "color": "white",
           "width": 2
          }
         },
         "textinfo": "label+percent",
         "type": "pie",
         "values": [
          21.164893617021278,
          13.564893617021276,
          192.8127659574468,
          991.2106382978724
         ]
        }
       ],
       "layout": {
        "height": 500,
        "legend": {
         "orientation": "h",
         "x": 0.5,
         "y": -0.1
        },
        "margin": {
         "b": 20,
         "l": 20,
         "r": 20,
         "t": 100
        },
        "showlegend": true,
        "template": {
         "data": {
          "bar": [
           {
            "error_x": {
             "color": "#2a3f5f"
            },
            "error_y": {
             "color": "#2a3f5f"
            },
            "marker": {
             "line": {
              "color": "#E5ECF6",
              "width": 0.5
             },
             "pattern": {
              "fillmode": "overlay",
              "size": 10,
              "solidity": 0.2
             }
            },
            "type": "bar"
           }
          ],
          "barpolar": [
           {
            "marker": {
             "line": {
              "color": "#E5ECF6",
              "width": 0.5
             },
             "pattern": {
              "fillmode": "overlay",
              "size": 10,
              "solidity": 0.2
             }
            },
            "type": "barpolar"
           }
          ],
          "carpet": [
           {
            "aaxis": {
             "endlinecolor": "#2a3f5f",
             "gridcolor": "white",
             "linecolor": "white",
             "minorgridcolor": "white",
             "startlinecolor": "#2a3f5f"
            },
            "baxis": {
             "endlinecolor": "#2a3f5f",
             "gridcolor": "white",
             "linecolor": "white",
             "minorgridcolor": "white",
             "startlinecolor": "#2a3f5f"
            },
            "type": "carpet"
           }
          ],
          "choropleth": [
           {
            "colorbar": {
             "outlinewidth": 0,
             "ticks": ""
            },
            "type": "choropleth"
           }
          ],
          "contour": [
           {
            "colorbar": {
             "outlinewidth": 0,
             "ticks": ""
            },
            "colorscale": [
             [
              0,
              "#0d0887"
             ],
             [
              0.1111111111111111,
              "#46039f"
             ],
             [
              0.2222222222222222,
              "#7201a8"
             ],
             [
              0.3333333333333333,
              "#9c179e"
             ],
             [
              0.4444444444444444,
              "#bd3786"
             ],
             [
              0.5555555555555556,
              "#d8576b"
             ],
             [
              0.6666666666666666,
              "#ed7953"
             ],
             [
              0.7777777777777778,
              "#fb9f3a"
             ],
             [
              0.8888888888888888,
              "#fdca26"
             ],
             [
              1,
              "#f0f921"
             ]
            ],
            "type": "contour"
           }
          ],
          "contourcarpet": [
           {
            "colorbar": {
             "outlinewidth": 0,
             "ticks": ""
            },
            "type": "contourcarpet"
           }
          ],
          "heatmap": [
           {
            "colorbar": {
             "outlinewidth": 0,
             "ticks": ""
            },
            "colorscale": [
             [
              0,
              "#0d0887"
             ],
             [
              0.1111111111111111,
              "#46039f"
             ],
             [
              0.2222222222222222,
              "#7201a8"
             ],
             [
              0.3333333333333333,
              "#9c179e"
             ],
             [
              0.4444444444444444,
              "#bd3786"
             ],
             [
              0.5555555555555556,
              "#d8576b"
             ],
             [
              0.6666666666666666,
              "#ed7953"
             ],
             [
              0.7777777777777778,
              "#fb9f3a"
             ],
             [
              0.8888888888888888,
              "#fdca26"
             ],
             [
              1,
              "#f0f921"
             ]
            ],
            "type": "heatmap"
           }
          ],
          "heatmapgl": [
           {
            "colorbar": {
             "outlinewidth": 0,
             "ticks": ""
            },
            "colorscale": [
             [
              0,
              "#0d0887"
             ],
             [
              0.1111111111111111,
              "#46039f"
             ],
             [
              0.2222222222222222,
              "#7201a8"
             ],
             [
              0.3333333333333333,
              "#9c179e"
             ],
             [
              0.4444444444444444,
              "#bd3786"
             ],
             [
              0.5555555555555556,
              "#d8576b"
             ],
             [
              0.6666666666666666,
              "#ed7953"
             ],
             [
              0.7777777777777778,
              "#fb9f3a"
             ],
             [
              0.8888888888888888,
              "#fdca26"
             ],
             [
              1,
              "#f0f921"
             ]
            ],
            "type": "heatmapgl"
           }
          ],
          "histogram": [
           {
            "marker": {
             "pattern": {
              "fillmode": "overlay",
              "size": 10,
              "solidity": 0.2
             }
            },
            "type": "histogram"
           }
          ],
          "histogram2d": [
           {
            "colorbar": {
             "outlinewidth": 0,
             "ticks": ""
            },
            "colorscale": [
             [
              0,
              "#0d0887"
             ],
             [
              0.1111111111111111,
              "#46039f"
             ],
             [
              0.2222222222222222,
              "#7201a8"
             ],
             [
              0.3333333333333333,
              "#9c179e"
             ],
             [
              0.4444444444444444,
              "#bd3786"
             ],
             [
              0.5555555555555556,
              "#d8576b"
             ],
             [
              0.6666666666666666,
              "#ed7953"
             ],
             [
              0.7777777777777778,
              "#fb9f3a"
             ],
             [
              0.8888888888888888,
              "#fdca26"
             ],
             [
              1,
              "#f0f921"
             ]
            ],
            "type": "histogram2d"
           }
          ],
          "histogram2dcontour": [
           {
            "colorbar": {
             "outlinewidth": 0,
             "ticks": ""
            },
            "colorscale": [
             [
              0,
              "#0d0887"
             ],
             [
              0.1111111111111111,
              "#46039f"
             ],
             [
              0.2222222222222222,
              "#7201a8"
             ],
             [
              0.3333333333333333,
              "#9c179e"
             ],
             [
              0.4444444444444444,
              "#bd3786"
             ],
             [
              0.5555555555555556,
              "#d8576b"
             ],
             [
              0.6666666666666666,
              "#ed7953"
             ],
             [
              0.7777777777777778,
              "#fb9f3a"
             ],
             [
              0.8888888888888888,
              "#fdca26"
             ],
             [
              1,
              "#f0f921"
             ]
            ],
            "type": "histogram2dcontour"
           }
          ],
          "mesh3d": [
           {
            "colorbar": {
             "outlinewidth": 0,
             "ticks": ""
            },
            "type": "mesh3d"
           }
          ],
          "parcoords": [
           {
            "line": {
             "colorbar": {
              "outlinewidth": 0,
              "ticks": ""
             }
            },
            "type": "parcoords"
           }
          ],
          "pie": [
           {
            "automargin": true,
            "type": "pie"
           }
          ],
          "scatter": [
           {
            "fillpattern": {
             "fillmode": "overlay",
             "size": 10,
             "solidity": 0.2
            },
            "type": "scatter"
           }
          ],
          "scatter3d": [
           {
            "line": {
             "colorbar": {
              "outlinewidth": 0,
              "ticks": ""
             }
            },
            "marker": {
             "colorbar": {
              "outlinewidth": 0,
              "ticks": ""
             }
            },
            "type": "scatter3d"
           }
          ],
          "scattercarpet": [
           {
            "marker": {
             "colorbar": {
              "outlinewidth": 0,
              "ticks": ""
             }
            },
            "type": "scattercarpet"
           }
          ],
          "scattergeo": [
           {
            "marker": {
             "colorbar": {
              "outlinewidth": 0,
              "ticks": ""
             }
            },
            "type": "scattergeo"
           }
          ],
          "scattergl": [
           {
            "marker": {
             "colorbar": {
              "outlinewidth": 0,
              "ticks": ""
             }
            },
            "type": "scattergl"
           }
          ],
          "scattermapbox": [
           {
            "marker": {
             "colorbar": {
              "outlinewidth": 0,
              "ticks": ""
             }
            },
            "type": "scattermapbox"
           }
          ],
          "scatterpolar": [
           {
            "marker": {
             "colorbar": {
              "outlinewidth": 0,
              "ticks": ""
             }
            },
            "type": "scatterpolar"
           }
          ],
          "scatterpolargl": [
           {
            "marker": {
             "colorbar": {
              "outlinewidth": 0,
              "ticks": ""
             }
            },
            "type": "scatterpolargl"
           }
          ],
          "scatterternary": [
           {
            "marker": {
             "colorbar": {
              "outlinewidth": 0,
              "ticks": ""
             }
            },
            "type": "scatterternary"
           }
          ],
          "surface": [
           {
            "colorbar": {
             "outlinewidth": 0,
             "ticks": ""
            },
            "colorscale": [
             [
              0,
              "#0d0887"
             ],
             [
              0.1111111111111111,
              "#46039f"
             ],
             [
              0.2222222222222222,
              "#7201a8"
             ],
             [
              0.3333333333333333,
              "#9c179e"
             ],
             [
              0.4444444444444444,
              "#bd3786"
             ],
             [
              0.5555555555555556,
              "#d8576b"
             ],
             [
              0.6666666666666666,
              "#ed7953"
             ],
             [
              0.7777777777777778,
              "#fb9f3a"
             ],
             [
              0.8888888888888888,
              "#fdca26"
             ],
             [
              1,
              "#f0f921"
             ]
            ],
            "type": "surface"
           }
          ],
          "table": [
           {
            "cells": {
             "fill": {
              "color": "#EBF0F8"
             },
             "line": {
              "color": "white"
             }
            },
            "header": {
             "fill": {
              "color": "#C8D4E3"
             },
             "line": {
              "color": "white"
             }
            },
            "type": "table"
           }
          ]
         },
         "layout": {
          "annotationdefaults": {
           "arrowcolor": "#2a3f5f",
           "arrowhead": 0,
           "arrowwidth": 1
          },
          "autotypenumbers": "strict",
          "coloraxis": {
           "colorbar": {
            "outlinewidth": 0,
            "ticks": ""
           }
          },
          "colorscale": {
           "diverging": [
            [
             0,
             "#8e0152"
            ],
            [
             0.1,
             "#c51b7d"
            ],
            [
             0.2,
             "#de77ae"
            ],
            [
             0.3,
             "#f1b6da"
            ],
            [
             0.4,
             "#fde0ef"
            ],
            [
             0.5,
             "#f7f7f7"
            ],
            [
             0.6,
             "#e6f5d0"
            ],
            [
             0.7,
             "#b8e186"
            ],
            [
             0.8,
             "#7fbc41"
            ],
            [
             0.9,
             "#4d9221"
            ],
            [
             1,
             "#276419"
            ]
           ],
           "sequential": [
            [
             0,
             "#0d0887"
            ],
            [
             0.1111111111111111,
             "#46039f"
            ],
            [
             0.2222222222222222,
             "#7201a8"
            ],
            [
             0.3333333333333333,
             "#9c179e"
            ],
            [
             0.4444444444444444,
             "#bd3786"
            ],
            [
             0.5555555555555556,
             "#d8576b"
            ],
            [
             0.6666666666666666,
             "#ed7953"
            ],
            [
             0.7777777777777778,
             "#fb9f3a"
            ],
            [
             0.8888888888888888,
             "#fdca26"
            ],
            [
             1,
             "#f0f921"
            ]
           ],
           "sequentialminus": [
            [
             0,
             "#0d0887"
            ],
            [
             0.1111111111111111,
             "#46039f"
            ],
            [
             0.2222222222222222,
             "#7201a8"
            ],
            [
             0.3333333333333333,
             "#9c179e"
            ],
            [
             0.4444444444444444,
             "#bd3786"
            ],
            [
             0.5555555555555556,
             "#d8576b"
            ],
            [
             0.6666666666666666,
             "#ed7953"
            ],
            [
             0.7777777777777778,
             "#fb9f3a"
            ],
            [
             0.8888888888888888,
             "#fdca26"
            ],
            [
             1,
             "#f0f921"
            ]
           ]
          },
          "colorway": [
           "#636efa",
           "#EF553B",
           "#00cc96",
           "#ab63fa",
           "#FFA15A",
           "#19d3f3",
           "#FF6692",
           "#B6E880",
           "#FF97FF",
           "#FECB52"
          ],
          "font": {
           "color": "#2a3f5f"
          },
          "geo": {
           "bgcolor": "white",
           "lakecolor": "white",
           "landcolor": "#E5ECF6",
           "showlakes": true,
           "showland": true,
           "subunitcolor": "white"
          },
          "hoverlabel": {
           "align": "left"
          },
          "hovermode": "closest",
          "mapbox": {
           "style": "light"
          },
          "paper_bgcolor": "white",
          "plot_bgcolor": "#E5ECF6",
          "polar": {
           "angularaxis": {
            "gridcolor": "white",
            "linecolor": "white",
            "ticks": ""
           },
           "bgcolor": "#E5ECF6",
           "radialaxis": {
            "gridcolor": "white",
            "linecolor": "white",
            "ticks": ""
           }
          },
          "scene": {
           "xaxis": {
            "backgroundcolor": "#E5ECF6",
            "gridcolor": "white",
            "gridwidth": 2,
            "linecolor": "white",
            "showbackground": true,
            "ticks": "",
            "zerolinecolor": "white"
           },
           "yaxis": {
            "backgroundcolor": "#E5ECF6",
            "gridcolor": "white",
            "gridwidth": 2,
            "linecolor": "white",
            "showbackground": true,
            "ticks": "",
            "zerolinecolor": "white"
           },
           "zaxis": {
            "backgroundcolor": "#E5ECF6",
            "gridcolor": "white",
            "gridwidth": 2,
            "linecolor": "white",
            "showbackground": true,
            "ticks": "",
            "zerolinecolor": "white"
           }
          },
          "shapedefaults": {
           "line": {
            "color": "#2a3f5f"
           }
          },
          "ternary": {
           "aaxis": {
            "gridcolor": "white",
            "linecolor": "white",
            "ticks": ""
           },
           "baxis": {
            "gridcolor": "white",
            "linecolor": "white",
            "ticks": ""
           },
           "bgcolor": "#E5ECF6",
           "caxis": {
            "gridcolor": "white",
            "linecolor": "white",
            "ticks": ""
           }
          },
          "title": {
           "x": 0.05
          },
          "xaxis": {
           "automargin": true,
           "gridcolor": "white",
           "linecolor": "white",
           "ticks": "",
           "title": {
            "standoff": 15
           },
           "zerolinecolor": "white",
           "zerolinewidth": 2
          },
          "yaxis": {
           "automargin": true,
           "gridcolor": "white",
           "linecolor": "white",
           "ticks": "",
           "title": {
            "standoff": 15
           },
           "zerolinecolor": "white",
           "zerolinewidth": 2
          }
         }
        },
        "title": {
         "text": "Total Active Minutes"
        },
        "width": 700
       }
      }
     },
     "metadata": {},
     "output_type": "display_data"
    }
   ],
   "source": [
    "import plotly.graph_objects as go\n",
    "\n",
    "# Calculate the average minutes for each activity level\n",
    "activity_means = df[[\"VeryActiveMinutes\", \"FairlyActiveMinutes\", \n",
    "                     \"LightlyActiveMinutes\", \"SedentaryMinutes\"]].mean()\n",
    "\n",
    "# Define labels, values, and colors\n",
    "labels = activity_means.index\n",
    "values = activity_means.values\n",
    "colors = ['gold', 'red', 'brown', 'neon']\n",
    "\n",
    "# Create a pie chart\n",
    "fig = go.Figure(data=[go.Pie(labels=labels, values=values, hole=0.4, textinfo='label+percent')])\n",
    "\n",
    "# Customize the layout for a modern look\n",
    "fig.update_layout(\n",
    "    title_text='Total Active Minutes',\n",
    "    width=700,  # Adjust the width as needed\n",
    "    height=500,  # Adjust the height as needed\n",
    "    showlegend=True,\n",
    "    legend=dict(orientation='h', x=0.5, y=-0.1),\n",
    "    margin=dict(l=20, r=20, t=100, b=20),\n",
    ")\n",
    "\n",
    "# Customize the pie chart slices' colors and hover effects\n",
    "fig.update_traces(marker=dict(colors=colors, line=dict(color='white', width=2)))\n",
    "\n",
    "# Show the pie chart\n",
    "fig.show()\n"
   ]
  },
  {
   "cell_type": "code",
   "execution_count": 28,
   "metadata": {},
   "outputs": [
    {
     "data": {
      "application/vnd.plotly.v1+json": {
       "config": {
        "plotlyServerURL": "https://plot.ly"
       },
       "data": [
        {
         "hole": 0.4,
         "labels": [
          "Friday",
          "Monday",
          "Saturday",
          "Sunday",
          "Thursday",
          "Tuesday",
          "Wednesday"
         ],
         "marker": {
          "colors": [
           "gold",
           "lightgreen",
           "pink",
           "lightblue",
           "skyblue",
           "cyan",
           "orange"
          ],
          "line": {
           "color": "white",
           "width": 2
          }
         },
         "textinfo": "label+percent",
         "type": "pie",
         "values": [
          293805,
          278905,
          292016,
          273823,
          323337,
          358114,
          345393
         ]
        }
       ],
       "layout": {
        "height": 500,
        "legend": {
         "orientation": "h",
         "x": 0.5,
         "y": -0.1
        },
        "margin": {
         "b": 20,
         "l": 20,
         "r": 20,
         "t": 100
        },
        "showlegend": true,
        "template": {
         "data": {
          "bar": [
           {
            "error_x": {
             "color": "#2a3f5f"
            },
            "error_y": {
             "color": "#2a3f5f"
            },
            "marker": {
             "line": {
              "color": "#E5ECF6",
              "width": 0.5
             },
             "pattern": {
              "fillmode": "overlay",
              "size": 10,
              "solidity": 0.2
             }
            },
            "type": "bar"
           }
          ],
          "barpolar": [
           {
            "marker": {
             "line": {
              "color": "#E5ECF6",
              "width": 0.5
             },
             "pattern": {
              "fillmode": "overlay",
              "size": 10,
              "solidity": 0.2
             }
            },
            "type": "barpolar"
           }
          ],
          "carpet": [
           {
            "aaxis": {
             "endlinecolor": "#2a3f5f",
             "gridcolor": "white",
             "linecolor": "white",
             "minorgridcolor": "white",
             "startlinecolor": "#2a3f5f"
            },
            "baxis": {
             "endlinecolor": "#2a3f5f",
             "gridcolor": "white",
             "linecolor": "white",
             "minorgridcolor": "white",
             "startlinecolor": "#2a3f5f"
            },
            "type": "carpet"
           }
          ],
          "choropleth": [
           {
            "colorbar": {
             "outlinewidth": 0,
             "ticks": ""
            },
            "type": "choropleth"
           }
          ],
          "contour": [
           {
            "colorbar": {
             "outlinewidth": 0,
             "ticks": ""
            },
            "colorscale": [
             [
              0,
              "#0d0887"
             ],
             [
              0.1111111111111111,
              "#46039f"
             ],
             [
              0.2222222222222222,
              "#7201a8"
             ],
             [
              0.3333333333333333,
              "#9c179e"
             ],
             [
              0.4444444444444444,
              "#bd3786"
             ],
             [
              0.5555555555555556,
              "#d8576b"
             ],
             [
              0.6666666666666666,
              "#ed7953"
             ],
             [
              0.7777777777777778,
              "#fb9f3a"
             ],
             [
              0.8888888888888888,
              "#fdca26"
             ],
             [
              1,
              "#f0f921"
             ]
            ],
            "type": "contour"
           }
          ],
          "contourcarpet": [
           {
            "colorbar": {
             "outlinewidth": 0,
             "ticks": ""
            },
            "type": "contourcarpet"
           }
          ],
          "heatmap": [
           {
            "colorbar": {
             "outlinewidth": 0,
             "ticks": ""
            },
            "colorscale": [
             [
              0,
              "#0d0887"
             ],
             [
              0.1111111111111111,
              "#46039f"
             ],
             [
              0.2222222222222222,
              "#7201a8"
             ],
             [
              0.3333333333333333,
              "#9c179e"
             ],
             [
              0.4444444444444444,
              "#bd3786"
             ],
             [
              0.5555555555555556,
              "#d8576b"
             ],
             [
              0.6666666666666666,
              "#ed7953"
             ],
             [
              0.7777777777777778,
              "#fb9f3a"
             ],
             [
              0.8888888888888888,
              "#fdca26"
             ],
             [
              1,
              "#f0f921"
             ]
            ],
            "type": "heatmap"
           }
          ],
          "heatmapgl": [
           {
            "colorbar": {
             "outlinewidth": 0,
             "ticks": ""
            },
            "colorscale": [
             [
              0,
              "#0d0887"
             ],
             [
              0.1111111111111111,
              "#46039f"
             ],
             [
              0.2222222222222222,
              "#7201a8"
             ],
             [
              0.3333333333333333,
              "#9c179e"
             ],
             [
              0.4444444444444444,
              "#bd3786"
             ],
             [
              0.5555555555555556,
              "#d8576b"
             ],
             [
              0.6666666666666666,
              "#ed7953"
             ],
             [
              0.7777777777777778,
              "#fb9f3a"
             ],
             [
              0.8888888888888888,
              "#fdca26"
             ],
             [
              1,
              "#f0f921"
             ]
            ],
            "type": "heatmapgl"
           }
          ],
          "histogram": [
           {
            "marker": {
             "pattern": {
              "fillmode": "overlay",
              "size": 10,
              "solidity": 0.2
             }
            },
            "type": "histogram"
           }
          ],
          "histogram2d": [
           {
            "colorbar": {
             "outlinewidth": 0,
             "ticks": ""
            },
            "colorscale": [
             [
              0,
              "#0d0887"
             ],
             [
              0.1111111111111111,
              "#46039f"
             ],
             [
              0.2222222222222222,
              "#7201a8"
             ],
             [
              0.3333333333333333,
              "#9c179e"
             ],
             [
              0.4444444444444444,
              "#bd3786"
             ],
             [
              0.5555555555555556,
              "#d8576b"
             ],
             [
              0.6666666666666666,
              "#ed7953"
             ],
             [
              0.7777777777777778,
              "#fb9f3a"
             ],
             [
              0.8888888888888888,
              "#fdca26"
             ],
             [
              1,
              "#f0f921"
             ]
            ],
            "type": "histogram2d"
           }
          ],
          "histogram2dcontour": [
           {
            "colorbar": {
             "outlinewidth": 0,
             "ticks": ""
            },
            "colorscale": [
             [
              0,
              "#0d0887"
             ],
             [
              0.1111111111111111,
              "#46039f"
             ],
             [
              0.2222222222222222,
              "#7201a8"
             ],
             [
              0.3333333333333333,
              "#9c179e"
             ],
             [
              0.4444444444444444,
              "#bd3786"
             ],
             [
              0.5555555555555556,
              "#d8576b"
             ],
             [
              0.6666666666666666,
              "#ed7953"
             ],
             [
              0.7777777777777778,
              "#fb9f3a"
             ],
             [
              0.8888888888888888,
              "#fdca26"
             ],
             [
              1,
              "#f0f921"
             ]
            ],
            "type": "histogram2dcontour"
           }
          ],
          "mesh3d": [
           {
            "colorbar": {
             "outlinewidth": 0,
             "ticks": ""
            },
            "type": "mesh3d"
           }
          ],
          "parcoords": [
           {
            "line": {
             "colorbar": {
              "outlinewidth": 0,
              "ticks": ""
             }
            },
            "type": "parcoords"
           }
          ],
          "pie": [
           {
            "automargin": true,
            "type": "pie"
           }
          ],
          "scatter": [
           {
            "fillpattern": {
             "fillmode": "overlay",
             "size": 10,
             "solidity": 0.2
            },
            "type": "scatter"
           }
          ],
          "scatter3d": [
           {
            "line": {
             "colorbar": {
              "outlinewidth": 0,
              "ticks": ""
             }
            },
            "marker": {
             "colorbar": {
              "outlinewidth": 0,
              "ticks": ""
             }
            },
            "type": "scatter3d"
           }
          ],
          "scattercarpet": [
           {
            "marker": {
             "colorbar": {
              "outlinewidth": 0,
              "ticks": ""
             }
            },
            "type": "scattercarpet"
           }
          ],
          "scattergeo": [
           {
            "marker": {
             "colorbar": {
              "outlinewidth": 0,
              "ticks": ""
             }
            },
            "type": "scattergeo"
           }
          ],
          "scattergl": [
           {
            "marker": {
             "colorbar": {
              "outlinewidth": 0,
              "ticks": ""
             }
            },
            "type": "scattergl"
           }
          ],
          "scattermapbox": [
           {
            "marker": {
             "colorbar": {
              "outlinewidth": 0,
              "ticks": ""
             }
            },
            "type": "scattermapbox"
           }
          ],
          "scatterpolar": [
           {
            "marker": {
             "colorbar": {
              "outlinewidth": 0,
              "ticks": ""
             }
            },
            "type": "scatterpolar"
           }
          ],
          "scatterpolargl": [
           {
            "marker": {
             "colorbar": {
              "outlinewidth": 0,
              "ticks": ""
             }
            },
            "type": "scatterpolargl"
           }
          ],
          "scatterternary": [
           {
            "marker": {
             "colorbar": {
              "outlinewidth": 0,
              "ticks": ""
             }
            },
            "type": "scatterternary"
           }
          ],
          "surface": [
           {
            "colorbar": {
             "outlinewidth": 0,
             "ticks": ""
            },
            "colorscale": [
             [
              0,
              "#0d0887"
             ],
             [
              0.1111111111111111,
              "#46039f"
             ],
             [
              0.2222222222222222,
              "#7201a8"
             ],
             [
              0.3333333333333333,
              "#9c179e"
             ],
             [
              0.4444444444444444,
              "#bd3786"
             ],
             [
              0.5555555555555556,
              "#d8576b"
             ],
             [
              0.6666666666666666,
              "#ed7953"
             ],
             [
              0.7777777777777778,
              "#fb9f3a"
             ],
             [
              0.8888888888888888,
              "#fdca26"
             ],
             [
              1,
              "#f0f921"
             ]
            ],
            "type": "surface"
           }
          ],
          "table": [
           {
            "cells": {
             "fill": {
              "color": "#EBF0F8"
             },
             "line": {
              "color": "white"
             }
            },
            "header": {
             "fill": {
              "color": "#C8D4E3"
             },
             "line": {
              "color": "white"
             }
            },
            "type": "table"
           }
          ]
         },
         "layout": {
          "annotationdefaults": {
           "arrowcolor": "#2a3f5f",
           "arrowhead": 0,
           "arrowwidth": 1
          },
          "autotypenumbers": "strict",
          "coloraxis": {
           "colorbar": {
            "outlinewidth": 0,
            "ticks": ""
           }
          },
          "colorscale": {
           "diverging": [
            [
             0,
             "#8e0152"
            ],
            [
             0.1,
             "#c51b7d"
            ],
            [
             0.2,
             "#de77ae"
            ],
            [
             0.3,
             "#f1b6da"
            ],
            [
             0.4,
             "#fde0ef"
            ],
            [
             0.5,
             "#f7f7f7"
            ],
            [
             0.6,
             "#e6f5d0"
            ],
            [
             0.7,
             "#b8e186"
            ],
            [
             0.8,
             "#7fbc41"
            ],
            [
             0.9,
             "#4d9221"
            ],
            [
             1,
             "#276419"
            ]
           ],
           "sequential": [
            [
             0,
             "#0d0887"
            ],
            [
             0.1111111111111111,
             "#46039f"
            ],
            [
             0.2222222222222222,
             "#7201a8"
            ],
            [
             0.3333333333333333,
             "#9c179e"
            ],
            [
             0.4444444444444444,
             "#bd3786"
            ],
            [
             0.5555555555555556,
             "#d8576b"
            ],
            [
             0.6666666666666666,
             "#ed7953"
            ],
            [
             0.7777777777777778,
             "#fb9f3a"
            ],
            [
             0.8888888888888888,
             "#fdca26"
            ],
            [
             1,
             "#f0f921"
            ]
           ],
           "sequentialminus": [
            [
             0,
             "#0d0887"
            ],
            [
             0.1111111111111111,
             "#46039f"
            ],
            [
             0.2222222222222222,
             "#7201a8"
            ],
            [
             0.3333333333333333,
             "#9c179e"
            ],
            [
             0.4444444444444444,
             "#bd3786"
            ],
            [
             0.5555555555555556,
             "#d8576b"
            ],
            [
             0.6666666666666666,
             "#ed7953"
            ],
            [
             0.7777777777777778,
             "#fb9f3a"
            ],
            [
             0.8888888888888888,
             "#fdca26"
            ],
            [
             1,
             "#f0f921"
            ]
           ]
          },
          "colorway": [
           "#636efa",
           "#EF553B",
           "#00cc96",
           "#ab63fa",
           "#FFA15A",
           "#19d3f3",
           "#FF6692",
           "#B6E880",
           "#FF97FF",
           "#FECB52"
          ],
          "font": {
           "color": "#2a3f5f"
          },
          "geo": {
           "bgcolor": "white",
           "lakecolor": "white",
           "landcolor": "#E5ECF6",
           "showlakes": true,
           "showland": true,
           "subunitcolor": "white"
          },
          "hoverlabel": {
           "align": "left"
          },
          "hovermode": "closest",
          "mapbox": {
           "style": "light"
          },
          "paper_bgcolor": "white",
          "plot_bgcolor": "#E5ECF6",
          "polar": {
           "angularaxis": {
            "gridcolor": "white",
            "linecolor": "white",
            "ticks": ""
           },
           "bgcolor": "#E5ECF6",
           "radialaxis": {
            "gridcolor": "white",
            "linecolor": "white",
            "ticks": ""
           }
          },
          "scene": {
           "xaxis": {
            "backgroundcolor": "#E5ECF6",
            "gridcolor": "white",
            "gridwidth": 2,
            "linecolor": "white",
            "showbackground": true,
            "ticks": "",
            "zerolinecolor": "white"
           },
           "yaxis": {
            "backgroundcolor": "#E5ECF6",
            "gridcolor": "white",
            "gridwidth": 2,
            "linecolor": "white",
            "showbackground": true,
            "ticks": "",
            "zerolinecolor": "white"
           },
           "zaxis": {
            "backgroundcolor": "#E5ECF6",
            "gridcolor": "white",
            "gridwidth": 2,
            "linecolor": "white",
            "showbackground": true,
            "ticks": "",
            "zerolinecolor": "white"
           }
          },
          "shapedefaults": {
           "line": {
            "color": "#2a3f5f"
           }
          },
          "ternary": {
           "aaxis": {
            "gridcolor": "white",
            "linecolor": "white",
            "ticks": ""
           },
           "baxis": {
            "gridcolor": "white",
            "linecolor": "white",
            "ticks": ""
           },
           "bgcolor": "#E5ECF6",
           "caxis": {
            "gridcolor": "white",
            "linecolor": "white",
            "ticks": ""
           }
          },
          "title": {
           "x": 0.05
          },
          "xaxis": {
           "automargin": true,
           "gridcolor": "white",
           "linecolor": "white",
           "ticks": "",
           "title": {
            "standoff": 15
           },
           "zerolinecolor": "white",
           "zerolinewidth": 2
          },
          "yaxis": {
           "automargin": true,
           "gridcolor": "white",
           "linecolor": "white",
           "ticks": "",
           "title": {
            "standoff": 15
           },
           "zerolinecolor": "white",
           "zerolinewidth": 2
          }
         }
        },
        "title": {
         "text": "Calories Burned Daily"
        },
        "width": 700
       }
      }
     },
     "metadata": {},
     "output_type": "display_data"
    }
   ],
   "source": [
    "import plotly.graph_objects as go\n",
    "\n",
    "# Calculate the daily calories burned\n",
    "calories = df.groupby(\"Day\")[\"Calories\"].sum().reset_index()\n",
    "\n",
    "# Define labels, values, and colors\n",
    "label = calories[\"Day\"]\n",
    "counts = calories[\"Calories\"]\n",
    "colors = ['gold', 'lightgreen', 'pink', 'lightblue', 'skyblue', 'cyan', 'orange']\n",
    "\n",
    "# Create a pie chart\n",
    "fig = go.Figure(data=[go.Pie(labels=label, values=counts, hole=0.4, textinfo='label+percent')])\n",
    "\n",
    "# Customize the layout for a modern look\n",
    "fig.update_layout(\n",
    "    title_text='Calories Burned Daily',\n",
    "    width=700,  # Adjust the width as needed\n",
    "    height=500,  # Adjust the height as needed\n",
    "    showlegend=True,\n",
    "    legend=dict(orientation='h', x=0.5, y=-0.1),\n",
    "    margin=dict(l=20, r=20, t=100, b=20),\n",
    ")\n",
    "\n",
    "# Customize the pie chart slices' colors and hover effects\n",
    "fig.update_traces(marker=dict(colors=colors, line=dict(color='white', width=2)))\n",
    "\n",
    "# Show the pie chart\n",
    "fig.show()\n"
   ]
  },
  {
   "cell_type": "code",
   "execution_count": 31,
   "metadata": {},
   "outputs": [
    {
     "name": "stdout",
     "output_type": "stream",
     "text": [
      "Database is created\n"
     ]
    }
   ],
   "source": [
    "import mysql.connector as msql\n",
    "from mysql.connector import Error\n",
    "try:\n",
    "    conn = msql.connect(host='localhost', user='root',password='admin')\n",
    "    if conn.is_connected():\n",
    "        cursor = conn.cursor()\n",
    "        cursor.execute(\"CREATE DATABASE Daily_Activity\")\n",
    "        print(\"Database is created\")\n",
    "except Error as e:\n",
    "    print(\"Error while connecting to MySQL\", e)\n"
   ]
  },
  {
   "cell_type": "code",
   "execution_count": 33,
   "metadata": {},
   "outputs": [
    {
     "name": "stdout",
     "output_type": "stream",
     "text": [
      "You're connected to database: ('daily_activity',)\n",
      "Creating table....\n",
      "Table is created....\n",
      "Record inserted\n",
      "Record inserted\n",
      "Record inserted\n",
      "Record inserted\n",
      "Record inserted\n",
      "Record inserted\n",
      "Record inserted\n",
      "Record inserted\n",
      "Record inserted\n",
      "Record inserted\n",
      "Record inserted\n",
      "Record inserted\n",
      "Record inserted\n",
      "Record inserted\n",
      "Record inserted\n",
      "Record inserted\n",
      "Record inserted\n",
      "Record inserted\n",
      "Record inserted\n",
      "Record inserted\n",
      "Record inserted\n",
      "Record inserted\n",
      "Record inserted\n",
      "Record inserted\n",
      "Record inserted\n",
      "Record inserted\n",
      "Record inserted\n",
      "Record inserted\n",
      "Record inserted\n",
      "Record inserted\n",
      "Record inserted\n",
      "Record inserted\n",
      "Record inserted\n",
      "Record inserted\n",
      "Record inserted\n",
      "Record inserted\n",
      "Record inserted\n",
      "Record inserted\n",
      "Record inserted\n",
      "Record inserted\n",
      "Record inserted\n",
      "Record inserted\n",
      "Record inserted\n",
      "Record inserted\n",
      "Record inserted\n",
      "Record inserted\n",
      "Record inserted\n",
      "Record inserted\n",
      "Record inserted\n",
      "Record inserted\n",
      "Record inserted\n",
      "Record inserted\n",
      "Record inserted\n",
      "Record inserted\n",
      "Record inserted\n",
      "Record inserted\n",
      "Record inserted\n",
      "Record inserted\n",
      "Record inserted\n",
      "Record inserted\n",
      "Record inserted\n",
      "Record inserted\n",
      "Record inserted\n",
      "Record inserted\n",
      "Record inserted\n",
      "Record inserted\n",
      "Record inserted\n",
      "Record inserted\n",
      "Record inserted\n",
      "Record inserted\n",
      "Record inserted\n",
      "Record inserted\n",
      "Record inserted\n",
      "Record inserted\n",
      "Record inserted\n",
      "Record inserted\n",
      "Record inserted\n",
      "Record inserted\n",
      "Record inserted\n",
      "Record inserted\n",
      "Record inserted\n",
      "Record inserted\n",
      "Record inserted\n",
      "Record inserted\n",
      "Record inserted\n",
      "Record inserted\n",
      "Record inserted\n",
      "Record inserted\n",
      "Record inserted\n",
      "Record inserted\n",
      "Record inserted\n",
      "Record inserted\n",
      "Record inserted\n",
      "Record inserted\n",
      "Record inserted\n",
      "Record inserted\n",
      "Record inserted\n",
      "Record inserted\n",
      "Record inserted\n",
      "Record inserted\n",
      "Record inserted\n",
      "Record inserted\n",
      "Record inserted\n",
      "Record inserted\n",
      "Record inserted\n",
      "Record inserted\n",
      "Record inserted\n",
      "Record inserted\n",
      "Record inserted\n",
      "Record inserted\n",
      "Record inserted\n",
      "Record inserted\n",
      "Record inserted\n",
      "Record inserted\n",
      "Record inserted\n",
      "Record inserted\n",
      "Record inserted\n",
      "Record inserted\n",
      "Record inserted\n",
      "Record inserted\n",
      "Record inserted\n",
      "Record inserted\n",
      "Record inserted\n",
      "Record inserted\n",
      "Record inserted\n",
      "Record inserted\n",
      "Record inserted\n",
      "Record inserted\n",
      "Record inserted\n",
      "Record inserted\n",
      "Record inserted\n",
      "Record inserted\n",
      "Record inserted\n",
      "Record inserted\n",
      "Record inserted\n",
      "Record inserted\n",
      "Record inserted\n",
      "Record inserted\n",
      "Record inserted\n",
      "Record inserted\n",
      "Record inserted\n",
      "Record inserted\n",
      "Record inserted\n",
      "Record inserted\n",
      "Record inserted\n",
      "Record inserted\n",
      "Record inserted\n",
      "Record inserted\n",
      "Record inserted\n",
      "Record inserted\n",
      "Record inserted\n",
      "Record inserted\n",
      "Record inserted\n",
      "Record inserted\n",
      "Record inserted\n",
      "Record inserted\n",
      "Record inserted\n",
      "Record inserted\n",
      "Record inserted\n",
      "Record inserted\n",
      "Record inserted\n",
      "Record inserted\n",
      "Record inserted\n",
      "Record inserted\n",
      "Record inserted\n",
      "Record inserted\n",
      "Record inserted\n",
      "Record inserted\n",
      "Record inserted\n",
      "Record inserted\n",
      "Record inserted\n",
      "Record inserted\n",
      "Record inserted\n",
      "Record inserted\n",
      "Record inserted\n",
      "Record inserted\n",
      "Record inserted\n",
      "Record inserted\n",
      "Record inserted\n",
      "Record inserted\n",
      "Record inserted\n",
      "Record inserted\n",
      "Record inserted\n",
      "Record inserted\n",
      "Record inserted\n",
      "Record inserted\n",
      "Record inserted\n",
      "Record inserted\n",
      "Record inserted\n",
      "Record inserted\n",
      "Record inserted\n",
      "Record inserted\n",
      "Record inserted\n",
      "Record inserted\n",
      "Record inserted\n",
      "Record inserted\n",
      "Record inserted\n",
      "Record inserted\n",
      "Record inserted\n",
      "Record inserted\n",
      "Record inserted\n",
      "Record inserted\n",
      "Record inserted\n",
      "Record inserted\n",
      "Record inserted\n",
      "Record inserted\n",
      "Record inserted\n",
      "Record inserted\n",
      "Record inserted\n",
      "Record inserted\n",
      "Record inserted\n",
      "Record inserted\n",
      "Record inserted\n",
      "Record inserted\n",
      "Record inserted\n",
      "Record inserted\n",
      "Record inserted\n",
      "Record inserted\n",
      "Record inserted\n",
      "Record inserted\n",
      "Record inserted\n",
      "Record inserted\n",
      "Record inserted\n",
      "Record inserted\n",
      "Record inserted\n",
      "Record inserted\n",
      "Record inserted\n",
      "Record inserted\n",
      "Record inserted\n",
      "Record inserted\n",
      "Record inserted\n",
      "Record inserted\n",
      "Record inserted\n",
      "Record inserted\n",
      "Record inserted\n",
      "Record inserted\n",
      "Record inserted\n",
      "Record inserted\n",
      "Record inserted\n",
      "Record inserted\n",
      "Record inserted\n",
      "Record inserted\n",
      "Record inserted\n",
      "Record inserted\n",
      "Record inserted\n",
      "Record inserted\n",
      "Record inserted\n",
      "Record inserted\n",
      "Record inserted\n",
      "Record inserted\n",
      "Record inserted\n",
      "Record inserted\n",
      "Record inserted\n",
      "Record inserted\n",
      "Record inserted\n",
      "Record inserted\n",
      "Record inserted\n",
      "Record inserted\n",
      "Record inserted\n",
      "Record inserted\n",
      "Record inserted\n",
      "Record inserted\n",
      "Record inserted\n",
      "Record inserted\n",
      "Record inserted\n",
      "Record inserted\n",
      "Record inserted\n",
      "Record inserted\n",
      "Record inserted\n",
      "Record inserted\n",
      "Record inserted\n",
      "Record inserted\n",
      "Record inserted\n",
      "Record inserted\n",
      "Record inserted\n",
      "Record inserted\n",
      "Record inserted\n",
      "Record inserted\n",
      "Record inserted\n",
      "Record inserted\n",
      "Record inserted\n",
      "Record inserted\n",
      "Record inserted\n",
      "Record inserted\n",
      "Record inserted\n",
      "Record inserted\n",
      "Record inserted\n",
      "Record inserted\n",
      "Record inserted\n",
      "Record inserted\n",
      "Record inserted\n",
      "Record inserted\n",
      "Record inserted\n",
      "Record inserted\n",
      "Record inserted\n",
      "Record inserted\n",
      "Record inserted\n",
      "Record inserted\n",
      "Record inserted\n",
      "Record inserted\n",
      "Record inserted\n",
      "Record inserted\n",
      "Record inserted\n",
      "Record inserted\n",
      "Record inserted\n",
      "Record inserted\n",
      "Record inserted\n",
      "Record inserted\n",
      "Record inserted\n",
      "Record inserted\n",
      "Record inserted\n",
      "Record inserted\n",
      "Record inserted\n",
      "Record inserted\n",
      "Record inserted\n",
      "Record inserted\n",
      "Record inserted\n",
      "Record inserted\n",
      "Record inserted\n",
      "Record inserted\n",
      "Record inserted\n",
      "Record inserted\n",
      "Record inserted\n",
      "Record inserted\n",
      "Record inserted\n",
      "Record inserted\n",
      "Record inserted\n",
      "Record inserted\n",
      "Record inserted\n",
      "Record inserted\n",
      "Record inserted\n",
      "Record inserted\n",
      "Record inserted\n",
      "Record inserted\n",
      "Record inserted\n",
      "Record inserted\n",
      "Record inserted\n",
      "Record inserted\n",
      "Record inserted\n",
      "Record inserted\n",
      "Record inserted\n",
      "Record inserted\n",
      "Record inserted\n",
      "Record inserted\n",
      "Record inserted\n",
      "Record inserted\n",
      "Record inserted\n",
      "Record inserted\n",
      "Record inserted\n",
      "Record inserted\n",
      "Record inserted\n",
      "Record inserted\n",
      "Record inserted\n",
      "Record inserted\n",
      "Record inserted\n",
      "Record inserted\n",
      "Record inserted\n",
      "Record inserted\n",
      "Record inserted\n",
      "Record inserted\n",
      "Record inserted\n",
      "Record inserted\n",
      "Record inserted\n",
      "Record inserted\n",
      "Record inserted\n",
      "Record inserted\n",
      "Record inserted\n",
      "Record inserted\n",
      "Record inserted\n",
      "Record inserted\n",
      "Record inserted\n",
      "Record inserted\n",
      "Record inserted\n",
      "Record inserted\n",
      "Record inserted\n",
      "Record inserted\n",
      "Record inserted\n",
      "Record inserted\n",
      "Record inserted\n",
      "Record inserted\n",
      "Record inserted\n",
      "Record inserted\n",
      "Record inserted\n",
      "Record inserted\n",
      "Record inserted\n",
      "Record inserted\n",
      "Record inserted\n",
      "Record inserted\n",
      "Record inserted\n",
      "Record inserted\n",
      "Record inserted\n",
      "Record inserted\n",
      "Record inserted\n",
      "Record inserted\n",
      "Record inserted\n",
      "Record inserted\n",
      "Record inserted\n",
      "Record inserted\n",
      "Record inserted\n",
      "Record inserted\n",
      "Record inserted\n",
      "Record inserted\n",
      "Record inserted\n",
      "Record inserted\n",
      "Record inserted\n",
      "Record inserted\n",
      "Record inserted\n",
      "Record inserted\n",
      "Record inserted\n",
      "Record inserted\n",
      "Record inserted\n",
      "Record inserted\n",
      "Record inserted\n",
      "Record inserted\n",
      "Record inserted\n",
      "Record inserted\n",
      "Record inserted\n",
      "Record inserted\n",
      "Record inserted\n",
      "Record inserted\n",
      "Record inserted\n",
      "Record inserted\n",
      "Record inserted\n",
      "Record inserted\n",
      "Record inserted\n",
      "Record inserted\n",
      "Record inserted\n",
      "Record inserted\n",
      "Record inserted\n",
      "Record inserted\n",
      "Record inserted\n",
      "Record inserted\n",
      "Record inserted\n",
      "Record inserted\n",
      "Record inserted\n",
      "Record inserted\n",
      "Record inserted\n",
      "Record inserted\n",
      "Record inserted\n",
      "Record inserted\n",
      "Record inserted\n",
      "Record inserted\n",
      "Record inserted\n",
      "Record inserted\n",
      "Record inserted\n",
      "Record inserted\n",
      "Record inserted\n",
      "Record inserted\n",
      "Record inserted\n",
      "Record inserted\n",
      "Record inserted\n",
      "Record inserted\n",
      "Record inserted\n",
      "Record inserted\n",
      "Record inserted\n",
      "Record inserted\n",
      "Record inserted\n",
      "Record inserted\n",
      "Record inserted\n",
      "Record inserted\n",
      "Record inserted\n",
      "Record inserted\n",
      "Record inserted\n",
      "Record inserted\n",
      "Record inserted\n",
      "Record inserted\n",
      "Record inserted\n",
      "Record inserted\n",
      "Record inserted\n",
      "Record inserted\n",
      "Record inserted\n",
      "Record inserted\n",
      "Record inserted\n",
      "Record inserted\n",
      "Record inserted\n",
      "Record inserted\n",
      "Record inserted\n",
      "Record inserted\n",
      "Record inserted\n",
      "Record inserted\n",
      "Record inserted\n",
      "Record inserted\n",
      "Record inserted\n",
      "Record inserted\n",
      "Record inserted\n",
      "Record inserted\n",
      "Record inserted\n",
      "Record inserted\n",
      "Record inserted\n",
      "Record inserted\n",
      "Record inserted\n",
      "Record inserted\n",
      "Record inserted\n",
      "Record inserted\n",
      "Record inserted\n",
      "Record inserted\n",
      "Record inserted\n",
      "Record inserted\n",
      "Record inserted\n",
      "Record inserted\n",
      "Record inserted\n",
      "Record inserted\n",
      "Record inserted\n",
      "Record inserted\n",
      "Record inserted\n",
      "Record inserted\n",
      "Record inserted\n",
      "Record inserted\n",
      "Record inserted\n",
      "Record inserted\n",
      "Record inserted\n",
      "Record inserted\n",
      "Record inserted\n",
      "Record inserted\n",
      "Record inserted\n",
      "Record inserted\n",
      "Record inserted\n",
      "Record inserted\n",
      "Record inserted\n",
      "Record inserted\n",
      "Record inserted\n",
      "Record inserted\n",
      "Record inserted\n",
      "Record inserted\n",
      "Record inserted\n",
      "Record inserted\n",
      "Record inserted\n",
      "Record inserted\n",
      "Record inserted\n",
      "Record inserted\n",
      "Record inserted\n",
      "Record inserted\n",
      "Record inserted\n",
      "Record inserted\n",
      "Record inserted\n",
      "Record inserted\n",
      "Record inserted\n",
      "Record inserted\n",
      "Record inserted\n",
      "Record inserted\n",
      "Record inserted\n",
      "Record inserted\n",
      "Record inserted\n",
      "Record inserted\n",
      "Record inserted\n",
      "Record inserted\n",
      "Record inserted\n",
      "Record inserted\n",
      "Record inserted\n",
      "Record inserted\n",
      "Record inserted\n",
      "Record inserted\n",
      "Record inserted\n",
      "Record inserted\n",
      "Record inserted\n",
      "Record inserted\n",
      "Record inserted\n",
      "Record inserted\n",
      "Record inserted\n",
      "Record inserted\n",
      "Record inserted\n",
      "Record inserted\n",
      "Record inserted\n",
      "Record inserted\n",
      "Record inserted\n",
      "Record inserted\n",
      "Record inserted\n",
      "Record inserted\n",
      "Record inserted\n",
      "Record inserted\n",
      "Record inserted\n",
      "Record inserted\n",
      "Record inserted\n",
      "Record inserted\n",
      "Record inserted\n",
      "Record inserted\n",
      "Record inserted\n",
      "Record inserted\n",
      "Record inserted\n",
      "Record inserted\n",
      "Record inserted\n",
      "Record inserted\n",
      "Record inserted\n",
      "Record inserted\n",
      "Record inserted\n",
      "Record inserted\n",
      "Record inserted\n",
      "Record inserted\n",
      "Record inserted\n",
      "Record inserted\n",
      "Record inserted\n",
      "Record inserted\n",
      "Record inserted\n",
      "Record inserted\n",
      "Record inserted\n",
      "Record inserted\n",
      "Record inserted\n",
      "Record inserted\n",
      "Record inserted\n",
      "Record inserted\n",
      "Record inserted\n",
      "Record inserted\n",
      "Record inserted\n",
      "Record inserted\n",
      "Record inserted\n",
      "Record inserted\n",
      "Record inserted\n",
      "Record inserted\n",
      "Record inserted\n",
      "Record inserted\n",
      "Record inserted\n",
      "Record inserted\n",
      "Record inserted\n",
      "Record inserted\n",
      "Record inserted\n",
      "Record inserted\n",
      "Record inserted\n",
      "Record inserted\n",
      "Record inserted\n",
      "Record inserted\n",
      "Record inserted\n",
      "Record inserted\n",
      "Record inserted\n",
      "Record inserted\n",
      "Record inserted\n",
      "Record inserted\n",
      "Record inserted\n",
      "Record inserted\n",
      "Record inserted\n",
      "Record inserted\n",
      "Record inserted\n",
      "Record inserted\n",
      "Record inserted\n",
      "Record inserted\n",
      "Record inserted\n",
      "Record inserted\n",
      "Record inserted\n",
      "Record inserted\n",
      "Record inserted\n",
      "Record inserted\n",
      "Record inserted\n",
      "Record inserted\n",
      "Record inserted\n",
      "Record inserted\n",
      "Record inserted\n",
      "Record inserted\n",
      "Record inserted\n",
      "Record inserted\n",
      "Record inserted\n",
      "Record inserted\n",
      "Record inserted\n",
      "Record inserted\n",
      "Record inserted\n",
      "Record inserted\n",
      "Record inserted\n",
      "Record inserted\n",
      "Record inserted\n",
      "Record inserted\n",
      "Record inserted\n",
      "Record inserted\n",
      "Record inserted\n",
      "Record inserted\n",
      "Record inserted\n",
      "Record inserted\n",
      "Record inserted\n",
      "Record inserted\n",
      "Record inserted\n",
      "Record inserted\n",
      "Record inserted\n",
      "Record inserted\n",
      "Record inserted\n",
      "Record inserted\n",
      "Record inserted\n",
      "Record inserted\n",
      "Record inserted\n",
      "Record inserted\n",
      "Record inserted\n",
      "Record inserted\n",
      "Record inserted\n",
      "Record inserted\n",
      "Record inserted\n",
      "Record inserted\n",
      "Record inserted\n",
      "Record inserted\n",
      "Record inserted\n",
      "Record inserted\n",
      "Record inserted\n",
      "Record inserted\n",
      "Record inserted\n",
      "Record inserted\n",
      "Record inserted\n",
      "Record inserted\n",
      "Record inserted\n",
      "Record inserted\n",
      "Record inserted\n",
      "Record inserted\n",
      "Record inserted\n",
      "Record inserted\n",
      "Record inserted\n",
      "Record inserted\n",
      "Record inserted\n",
      "Record inserted\n",
      "Record inserted\n",
      "Record inserted\n",
      "Record inserted\n",
      "Record inserted\n",
      "Record inserted\n",
      "Record inserted\n",
      "Record inserted\n",
      "Record inserted\n",
      "Record inserted\n",
      "Record inserted\n",
      "Record inserted\n",
      "Record inserted\n",
      "Record inserted\n",
      "Record inserted\n",
      "Record inserted\n",
      "Record inserted\n",
      "Record inserted\n",
      "Record inserted\n",
      "Record inserted\n",
      "Record inserted\n",
      "Record inserted\n",
      "Record inserted\n",
      "Record inserted\n",
      "Record inserted\n",
      "Record inserted\n",
      "Record inserted\n",
      "Record inserted\n",
      "Record inserted\n",
      "Record inserted\n",
      "Record inserted\n",
      "Record inserted\n",
      "Record inserted\n",
      "Record inserted\n",
      "Record inserted\n",
      "Record inserted\n",
      "Record inserted\n",
      "Record inserted\n",
      "Record inserted\n",
      "Record inserted\n",
      "Record inserted\n",
      "Record inserted\n",
      "Record inserted\n",
      "Record inserted\n",
      "Record inserted\n",
      "Record inserted\n",
      "Record inserted\n",
      "Record inserted\n",
      "Record inserted\n",
      "Record inserted\n",
      "Record inserted\n",
      "Record inserted\n",
      "Record inserted\n",
      "Record inserted\n",
      "Record inserted\n",
      "Record inserted\n",
      "Record inserted\n",
      "Record inserted\n",
      "Record inserted\n",
      "Record inserted\n",
      "Record inserted\n",
      "Record inserted\n",
      "Record inserted\n",
      "Record inserted\n",
      "Record inserted\n",
      "Record inserted\n",
      "Record inserted\n",
      "Record inserted\n",
      "Record inserted\n",
      "Record inserted\n",
      "Record inserted\n",
      "Record inserted\n",
      "Record inserted\n",
      "Record inserted\n",
      "Record inserted\n",
      "Record inserted\n",
      "Record inserted\n",
      "Record inserted\n",
      "Record inserted\n",
      "Record inserted\n",
      "Record inserted\n",
      "Record inserted\n",
      "Record inserted\n",
      "Record inserted\n",
      "Record inserted\n",
      "Record inserted\n",
      "Record inserted\n",
      "Record inserted\n",
      "Record inserted\n",
      "Record inserted\n",
      "Record inserted\n",
      "Record inserted\n",
      "Record inserted\n",
      "Record inserted\n",
      "Record inserted\n",
      "Record inserted\n",
      "Record inserted\n",
      "Record inserted\n",
      "Record inserted\n",
      "Record inserted\n",
      "Record inserted\n",
      "Record inserted\n",
      "Record inserted\n",
      "Record inserted\n",
      "Record inserted\n",
      "Record inserted\n",
      "Record inserted\n",
      "Record inserted\n",
      "Record inserted\n",
      "Record inserted\n",
      "Record inserted\n",
      "Record inserted\n",
      "Record inserted\n",
      "Record inserted\n",
      "Record inserted\n",
      "Record inserted\n",
      "Record inserted\n",
      "Record inserted\n",
      "Record inserted\n",
      "Record inserted\n",
      "Record inserted\n",
      "Record inserted\n",
      "Record inserted\n",
      "Record inserted\n",
      "Record inserted\n",
      "Record inserted\n",
      "Record inserted\n",
      "Record inserted\n",
      "Record inserted\n",
      "Record inserted\n",
      "Record inserted\n",
      "Record inserted\n",
      "Record inserted\n",
      "Record inserted\n",
      "Record inserted\n",
      "Record inserted\n",
      "Record inserted\n",
      "Record inserted\n",
      "Record inserted\n",
      "Record inserted\n",
      "Record inserted\n",
      "Record inserted\n",
      "Record inserted\n",
      "Record inserted\n",
      "Record inserted\n",
      "Record inserted\n",
      "Record inserted\n",
      "Record inserted\n",
      "Record inserted\n",
      "Record inserted\n",
      "Record inserted\n",
      "Record inserted\n",
      "Record inserted\n",
      "Record inserted\n",
      "Record inserted\n",
      "Record inserted\n",
      "Record inserted\n",
      "Record inserted\n",
      "Record inserted\n",
      "Record inserted\n",
      "Record inserted\n",
      "Record inserted\n",
      "Record inserted\n",
      "Record inserted\n",
      "Record inserted\n",
      "Record inserted\n",
      "Record inserted\n",
      "Record inserted\n",
      "Record inserted\n",
      "Record inserted\n",
      "Record inserted\n",
      "Record inserted\n",
      "Record inserted\n",
      "Record inserted\n",
      "Record inserted\n",
      "Record inserted\n",
      "Record inserted\n",
      "Record inserted\n",
      "Record inserted\n",
      "Record inserted\n",
      "Record inserted\n",
      "Record inserted\n",
      "Record inserted\n",
      "Record inserted\n",
      "Record inserted\n",
      "Record inserted\n",
      "Record inserted\n",
      "Record inserted\n",
      "Record inserted\n",
      "Record inserted\n",
      "Record inserted\n",
      "Record inserted\n",
      "Record inserted\n",
      "Record inserted\n",
      "Record inserted\n",
      "Record inserted\n",
      "Record inserted\n",
      "Record inserted\n",
      "Record inserted\n",
      "Record inserted\n",
      "Record inserted\n",
      "Record inserted\n",
      "Record inserted\n",
      "Record inserted\n",
      "Record inserted\n",
      "Record inserted\n",
      "Record inserted\n",
      "Record inserted\n",
      "Record inserted\n",
      "Record inserted\n",
      "Record inserted\n",
      "Record inserted\n",
      "Record inserted\n",
      "Record inserted\n",
      "Record inserted\n",
      "Record inserted\n",
      "Record inserted\n",
      "Record inserted\n",
      "Record inserted\n",
      "Record inserted\n",
      "Record inserted\n",
      "Record inserted\n",
      "Record inserted\n",
      "Record inserted\n",
      "Record inserted\n",
      "Record inserted\n",
      "Record inserted\n",
      "Record inserted\n",
      "Record inserted\n",
      "Record inserted\n",
      "Record inserted\n",
      "Record inserted\n",
      "Record inserted\n",
      "Record inserted\n",
      "Record inserted\n",
      "Record inserted\n",
      "Record inserted\n",
      "Record inserted\n",
      "Record inserted\n",
      "MySQL connection is closed\n"
     ]
    }
   ],
   "source": [
    "import mysql.connector as msql\n",
    "from mysql.connector import Error\n",
    "import pandas as pd\n",
    "\n",
    "# Assuming you have the 'data' DataFrame containing the provided data\n",
    "\n",
    "try:\n",
    "    conn = msql.connect(host='localhost', database='Daily_Activity', user='root', password='admin')\n",
    "    if conn.is_connected():\n",
    "        cursor = conn.cursor()\n",
    "        cursor.execute(\"select database();\")\n",
    "        record = cursor.fetchone()\n",
    "        print(\"You're connected to database:\", record)\n",
    "        cursor.execute('DROP TABLE IF EXISTS fitness_data;')\n",
    "        print('Creating table....')\n",
    "        \n",
    "        # Create the table with the appropriate columns\n",
    "        cursor.execute(\"\"\"\n",
    "            CREATE TABLE fitness_data (\n",
    "                Id INT AUTO_INCREMENT PRIMARY KEY,\n",
    "                ActivityDate DATE,\n",
    "                TotalSteps INT,\n",
    "                TotalDistance FLOAT,\n",
    "                TrackerDistance FLOAT,\n",
    "                LoggedActivitiesDistance FLOAT,\n",
    "                VeryActiveDistance FLOAT,\n",
    "                ModeratelyActiveDistance FLOAT,\n",
    "                LightActiveDistance FLOAT,\n",
    "                SedentaryActiveDistance FLOAT,\n",
    "                VeryActiveMinutes INT,\n",
    "                FairlyActiveMinutes INT,\n",
    "                LightlyActiveMinutes INT,\n",
    "                SedentaryMinutes INT,\n",
    "                Calories INT\n",
    "            );\n",
    "        \"\"\")\n",
    "        print(\"Table is created....\")\n",
    "        \n",
    "        # Iterate through the DataFrame and insert records into the table\n",
    "        for i, row in df.iterrows():\n",
    "            sql = \"\"\"\n",
    "                INSERT INTO fitness_data (\n",
    "                    ActivityDate, TotalSteps, TotalDistance, TrackerDistance,\n",
    "                    LoggedActivitiesDistance, VeryActiveDistance,\n",
    "                    ModeratelyActiveDistance, LightActiveDistance,\n",
    "                    SedentaryActiveDistance, VeryActiveMinutes,\n",
    "                    FairlyActiveMinutes, LightlyActiveMinutes,\n",
    "                    SedentaryMinutes, Calories\n",
    "                ) VALUES (%s, %s, %s, %s, %s, %s, %s, %s, %s, %s, %s, %s, %s, %s);\n",
    "            \"\"\"\n",
    "            values = (\n",
    "                row['ActivityDate'], row['TotalSteps'], row['TotalDistance'],\n",
    "                row['TrackerDistance'], row['LoggedActivitiesDistance'],\n",
    "                row['VeryActiveDistance'], row['ModeratelyActiveDistance'],\n",
    "                row['LightActiveDistance'], row['SedentaryActiveDistance'],\n",
    "                row['VeryActiveMinutes'], row['FairlyActiveMinutes'],\n",
    "                row['LightlyActiveMinutes'], row['SedentaryMinutes'],\n",
    "                row['Calories']\n",
    "            )\n",
    "            cursor.execute(sql, values)\n",
    "            print(\"Record inserted\")\n",
    "            \n",
    "            # Commit after each insertion\n",
    "            conn.commit()\n",
    "\n",
    "except Error as e:\n",
    "    print(\"Error while connecting to MySQL:\", e)\n",
    "finally:\n",
    "    if conn.is_connected():\n",
    "        cursor.close()\n",
    "        conn.close()\n",
    "        print(\"MySQL connection is closed\")\n"
   ]
  },
  {
   "cell_type": "code",
   "execution_count": 35,
   "metadata": {},
   "outputs": [
    {
     "name": "stdout",
     "output_type": "stream",
     "text": [
      "(1, datetime.date(2016, 4, 12), 13162, 8.5, 8.5, 0.0, 1.88, 0.55, 6.06, 0.0, 25, 13, 328, 728, 1985)\n",
      "(2, datetime.date(2016, 4, 13), 10735, 6.97, 6.97, 0.0, 1.57, 0.69, 4.71, 0.0, 21, 19, 217, 776, 1797)\n",
      "(3, datetime.date(2016, 4, 14), 10460, 6.74, 6.74, 0.0, 2.44, 0.4, 3.91, 0.0, 30, 11, 181, 1218, 1776)\n",
      "(4, datetime.date(2016, 4, 15), 9762, 6.28, 6.28, 0.0, 2.14, 1.26, 2.83, 0.0, 29, 34, 209, 726, 1745)\n",
      "(5, datetime.date(2016, 4, 16), 12669, 8.16, 8.16, 0.0, 2.71, 0.41, 5.04, 0.0, 36, 10, 221, 773, 1863)\n",
      "(6, datetime.date(2016, 4, 17), 9705, 6.48, 6.48, 0.0, 3.19, 0.78, 2.51, 0.0, 38, 20, 164, 539, 1728)\n",
      "(7, datetime.date(2016, 4, 18), 13019, 8.59, 8.59, 0.0, 3.25, 0.64, 4.71, 0.0, 42, 16, 233, 1149, 1921)\n",
      "(8, datetime.date(2016, 4, 19), 15506, 9.88, 9.88, 0.0, 3.53, 1.32, 5.03, 0.0, 50, 31, 264, 775, 2035)\n",
      "(9, datetime.date(2016, 4, 20), 10544, 6.68, 6.68, 0.0, 1.96, 0.48, 4.24, 0.0, 28, 12, 205, 818, 1786)\n",
      "(10, datetime.date(2016, 4, 21), 9819, 6.34, 6.34, 0.0, 1.34, 0.35, 4.65, 0.0, 19, 8, 211, 838, 1775)\n",
      "(11, datetime.date(2016, 4, 22), 12764, 8.13, 8.13, 0.0, 4.76, 1.12, 2.24, 0.0, 66, 27, 130, 1217, 1827)\n",
      "(12, datetime.date(2016, 4, 23), 14371, 9.04, 9.04, 0.0, 2.81, 0.87, 5.36, 0.0, 41, 21, 262, 732, 1949)\n",
      "(13, datetime.date(2016, 4, 24), 10039, 6.41, 6.41, 0.0, 2.92, 0.21, 3.28, 0.0, 39, 5, 238, 709, 1788)\n",
      "(14, datetime.date(2016, 4, 25), 15355, 9.8, 9.8, 0.0, 5.29, 0.57, 3.94, 0.0, 73, 14, 216, 814, 2013)\n",
      "(15, datetime.date(2016, 4, 26), 13755, 8.79, 8.79, 0.0, 2.33, 0.92, 5.54, 0.0, 31, 23, 279, 833, 1970)\n",
      "(16, datetime.date(2016, 4, 27), 18134, 12.21, 12.21, 0.0, 6.4, 0.41, 5.41, 0.0, 78, 11, 243, 1108, 2159)\n",
      "(17, datetime.date(2016, 4, 28), 13154, 8.53, 8.53, 0.0, 3.54, 1.16, 3.79, 0.0, 48, 28, 189, 782, 1898)\n",
      "(18, datetime.date(2016, 4, 29), 11181, 7.15, 7.15, 0.0, 1.06, 0.5, 5.58, 0.0, 16, 12, 243, 815, 1837)\n",
      "(19, datetime.date(2016, 4, 30), 14673, 9.25, 9.25, 0.0, 3.56, 1.42, 4.27, 0.0, 52, 34, 217, 712, 1947)\n",
      "(20, datetime.date(2016, 5, 1), 10602, 6.81, 6.81, 0.0, 2.29, 1.6, 2.92, 0.0, 33, 35, 246, 730, 1820)\n",
      "(21, datetime.date(2016, 5, 2), 14727, 9.71, 9.71, 0.0, 3.21, 0.57, 5.92, 0.0, 41, 15, 277, 798, 2004)\n",
      "(22, datetime.date(2016, 5, 3), 15103, 9.66, 9.66, 0.0, 3.73, 1.05, 4.88, 0.0, 50, 24, 254, 816, 1990)\n",
      "(23, datetime.date(2016, 5, 4), 11100, 7.15, 7.15, 0.0, 2.46, 0.87, 3.82, 0.0, 36, 22, 203, 1179, 1819)\n",
      "(24, datetime.date(2016, 5, 5), 14070, 8.9, 8.9, 0.0, 2.92, 1.08, 4.88, 0.0, 45, 24, 250, 857, 1959)\n",
      "(25, datetime.date(2016, 5, 6), 12159, 8.03, 8.03, 0.0, 1.97, 0.25, 5.81, 0.0, 24, 6, 289, 754, 1896)\n",
      "(26, datetime.date(2016, 5, 7), 11992, 7.71, 7.71, 0.0, 2.46, 2.12, 3.13, 0.0, 37, 46, 175, 833, 1821)\n",
      "(27, datetime.date(2016, 5, 8), 10060, 6.58, 6.58, 0.0, 3.53, 0.32, 2.73, 0.0, 44, 8, 203, 574, 1740)\n",
      "(28, datetime.date(2016, 5, 9), 12022, 7.72, 7.72, 0.0, 3.45, 0.53, 3.74, 0.0, 46, 11, 206, 835, 1819)\n",
      "(29, datetime.date(2016, 5, 10), 12207, 7.77, 7.77, 0.0, 3.35, 1.16, 3.26, 0.0, 46, 31, 214, 746, 1859)\n",
      "(30, datetime.date(2016, 5, 11), 12770, 8.13, 8.13, 0.0, 2.56, 1.01, 4.55, 0.0, 36, 23, 251, 669, 1783)\n",
      "(31, datetime.date(2016, 5, 12), 0, 0.0, 0.0, 0.0, 0.0, 0.0, 0.0, 0.0, 0, 0, 0, 1440, 0)\n",
      "(32, datetime.date(2016, 4, 12), 8163, 5.31, 5.31, 0.0, 0.0, 0.0, 5.31, 0.0, 0, 0, 146, 1294, 1432)\n",
      "(33, datetime.date(2016, 4, 13), 7007, 4.55, 4.55, 0.0, 0.0, 0.0, 4.55, 0.0, 0, 0, 148, 1292, 1411)\n",
      "(34, datetime.date(2016, 4, 14), 9107, 5.92, 5.92, 0.0, 0.0, 0.0, 5.91, 0.01, 0, 0, 236, 1204, 1572)\n",
      "(35, datetime.date(2016, 4, 15), 1510, 0.98, 0.98, 0.0, 0.0, 0.0, 0.97, 0.0, 0, 0, 96, 1344, 1344)\n",
      "(36, datetime.date(2016, 4, 16), 5370, 3.49, 3.49, 0.0, 0.0, 0.0, 3.49, 0.0, 0, 0, 176, 1264, 1463)\n",
      "(37, datetime.date(2016, 4, 17), 6175, 4.06, 4.06, 0.0, 1.03, 1.52, 1.49, 0.01, 15, 22, 127, 1276, 1554)\n",
      "(38, datetime.date(2016, 4, 18), 10536, 7.41, 7.41, 0.0, 2.15, 0.62, 4.62, 0.01, 17, 7, 202, 1214, 1604)\n",
      "(39, datetime.date(2016, 4, 19), 2916, 1.9, 1.9, 0.0, 0.0, 0.0, 1.9, 0.0, 0, 0, 141, 1299, 1435)\n",
      "(40, datetime.date(2016, 4, 20), 4974, 3.23, 3.23, 0.0, 0.0, 0.0, 3.23, 0.0, 0, 0, 151, 1289, 1446)\n",
      "(41, datetime.date(2016, 4, 21), 6349, 4.13, 4.13, 0.0, 0.0, 0.0, 4.11, 0.02, 0, 0, 186, 1254, 1467)\n",
      "(42, datetime.date(2016, 4, 22), 4026, 2.62, 2.62, 0.0, 0.0, 0.0, 2.6, 0.0, 0, 0, 199, 1241, 1470)\n",
      "(43, datetime.date(2016, 4, 23), 8538, 5.55, 5.55, 0.0, 0.0, 0.0, 5.54, 0.01, 0, 0, 227, 1213, 1562)\n",
      "(44, datetime.date(2016, 4, 24), 6076, 3.95, 3.95, 0.0, 1.15, 0.91, 1.89, 0.0, 16, 18, 185, 1221, 1617)\n",
      "(45, datetime.date(2016, 4, 25), 6497, 4.22, 4.22, 0.0, 0.0, 0.0, 4.2, 0.02, 0, 0, 202, 1238, 1492)\n",
      "(46, datetime.date(2016, 4, 26), 2826, 1.84, 1.84, 0.0, 0.0, 0.0, 1.83, 0.01, 0, 0, 140, 1300, 1402)\n",
      "(47, datetime.date(2016, 4, 27), 8367, 5.44, 5.44, 0.0, 1.11, 1.87, 2.46, 0.0, 17, 36, 154, 1233, 1670)\n",
      "(48, datetime.date(2016, 4, 28), 2759, 1.79, 1.79, 0.0, 0.0, 0.2, 1.6, 0.0, 0, 5, 115, 1320, 1401)\n",
      "(49, datetime.date(2016, 4, 29), 2390, 1.55, 1.55, 0.0, 0.0, 0.0, 1.55, 0.0, 0, 0, 150, 1290, 1404)\n",
      "(50, datetime.date(2016, 4, 30), 6474, 4.3, 4.3, 0.0, 0.9, 1.28, 2.12, 0.01, 11, 23, 224, 1182, 1655)\n",
      "(51, datetime.date(2016, 5, 1), 36019, 28.03, 28.03, 0.0, 21.92, 4.19, 1.91, 0.02, 186, 63, 171, 1020, 2690)\n",
      "(52, datetime.date(2016, 5, 2), 7155, 4.93, 4.93, 0.0, 0.86, 0.59, 3.47, 0.0, 7, 6, 166, 1261, 1497)\n",
      "(53, datetime.date(2016, 5, 3), 2100, 1.37, 1.37, 0.0, 0.0, 0.0, 1.34, 0.02, 0, 0, 96, 1344, 1334)\n",
      "(54, datetime.date(2016, 5, 4), 2193, 1.43, 1.43, 0.0, 0.0, 0.0, 1.42, 0.0, 0, 0, 118, 1322, 1368)\n",
      "(55, datetime.date(2016, 5, 5), 2470, 1.61, 1.61, 0.0, 0.0, 0.0, 1.58, 0.02, 0, 0, 117, 1323, 1370)\n",
      "(56, datetime.date(2016, 5, 6), 1727, 1.12, 1.12, 0.0, 0.0, 0.0, 1.12, 0.01, 0, 0, 102, 1338, 1341)\n",
      "(57, datetime.date(2016, 5, 7), 2104, 1.37, 1.37, 0.0, 0.0, 0.0, 1.37, 0.0, 0, 0, 182, 1258, 1474)\n",
      "(58, datetime.date(2016, 5, 8), 3427, 2.23, 2.23, 0.0, 0.0, 0.0, 2.22, 0.0, 0, 0, 152, 1288, 1427)\n",
      "(59, datetime.date(2016, 5, 9), 1732, 1.13, 1.13, 0.0, 0.0, 0.0, 1.13, 0.0, 0, 0, 91, 1349, 1328)\n",
      "(60, datetime.date(2016, 5, 10), 2969, 1.93, 1.93, 0.0, 0.0, 0.0, 1.92, 0.01, 0, 0, 139, 1301, 1393)\n",
      "(61, datetime.date(2016, 5, 11), 3134, 2.04, 2.04, 0.0, 0.0, 0.0, 2.04, 0.0, 0, 0, 112, 1328, 1359)\n",
      "(62, datetime.date(2016, 5, 12), 2971, 1.93, 1.93, 0.0, 0.0, 0.0, 1.92, 0.01, 0, 0, 107, 890, 1002)\n",
      "(63, datetime.date(2016, 4, 12), 10694, 7.77, 7.77, 0.0, 0.14, 2.3, 5.33, 0.0, 2, 51, 256, 1131, 3199)\n",
      "(64, datetime.date(2016, 4, 13), 8001, 5.82, 5.82, 0.0, 2.28, 0.9, 2.64, 0.0, 30, 16, 135, 1259, 2902)\n",
      "(65, datetime.date(2016, 4, 14), 11037, 8.02, 8.02, 0.0, 0.36, 2.56, 5.1, 0.0, 5, 58, 252, 1125, 3226)\n",
      "(66, datetime.date(2016, 4, 15), 5263, 3.83, 3.83, 0.0, 0.22, 0.15, 3.45, 0.0, 3, 4, 170, 1263, 2750)\n",
      "(67, datetime.date(2016, 4, 16), 15300, 11.12, 11.12, 0.0, 4.1, 1.88, 5.09, 0.0, 51, 42, 212, 1135, 3493)\n",
      "(68, datetime.date(2016, 4, 17), 8757, 6.37, 6.37, 0.0, 2.25, 0.57, 3.55, 0.0, 29, 13, 186, 1212, 3011)\n",
      "(69, datetime.date(2016, 4, 18), 7132, 5.19, 5.19, 0.0, 1.07, 1.67, 2.45, 0.0, 15, 33, 121, 1271, 2806)\n",
      "(70, datetime.date(2016, 4, 19), 11256, 8.18, 8.18, 0.0, 0.36, 2.53, 5.3, 0.0, 5, 58, 278, 1099, 3300)\n",
      "(71, datetime.date(2016, 4, 20), 2436, 1.77, 1.77, 0.0, 0.0, 0.0, 1.76, 0.01, 0, 0, 125, 1315, 2430)\n",
      "(72, datetime.date(2016, 4, 21), 1223, 0.89, 0.89, 0.0, 0.0, 0.0, 0.88, 0.01, 0, 0, 38, 1402, 2140)\n",
      "(73, datetime.date(2016, 4, 22), 3673, 2.67, 2.67, 0.0, 0.0, 0.0, 2.66, 0.01, 0, 0, 86, 1354, 2344)\n",
      "(74, datetime.date(2016, 4, 23), 6637, 4.83, 4.83, 0.0, 0.0, 0.58, 4.25, 0.0, 0, 15, 160, 1265, 2677)\n",
      "(75, datetime.date(2016, 4, 24), 3321, 2.41, 2.41, 0.0, 0.0, 0.0, 2.41, 0.0, 0, 0, 89, 1351, 2413)\n",
      "(76, datetime.date(2016, 4, 25), 3580, 2.6, 2.6, 0.0, 0.59, 0.06, 1.95, 0.0, 8, 1, 94, 1337, 2497)\n",
      "(77, datetime.date(2016, 4, 26), 9919, 7.21, 7.21, 0.0, 0.8, 1.72, 4.69, 0.0, 11, 41, 223, 1165, 3123)\n",
      "(78, datetime.date(2016, 4, 27), 3032, 2.2, 2.2, 0.0, 0.0, 0.0, 2.2, 0.0, 0, 0, 118, 1322, 2489)\n",
      "(79, datetime.date(2016, 4, 28), 9405, 6.84, 6.84, 0.0, 0.2, 2.32, 4.31, 0.0, 3, 53, 227, 1157, 3108)\n",
      "(80, datetime.date(2016, 4, 29), 3176, 2.31, 2.31, 0.0, 0.0, 0.0, 2.31, 0.0, 0, 0, 120, 1193, 2498)\n",
      "(81, datetime.date(2016, 4, 30), 18213, 13.24, 13.24, 0.0, 0.63, 3.14, 9.46, 0.0, 9, 71, 402, 816, 3846)\n",
      "(82, datetime.date(2016, 5, 1), 6132, 4.46, 4.46, 0.0, 0.24, 0.99, 3.23, 0.0, 3, 24, 146, 908, 2696)\n",
      "(83, datetime.date(2016, 5, 2), 3758, 2.73, 2.73, 0.0, 0.07, 0.31, 2.35, 0.0, 1, 7, 148, 682, 2580)\n",
      "(84, datetime.date(2016, 5, 3), 12850, 9.34, 9.34, 0.0, 0.72, 4.09, 4.54, 0.0, 10, 94, 221, 1115, 3324)\n",
      "(85, datetime.date(2016, 5, 4), 2309, 1.68, 1.68, 0.0, 0.0, 0.0, 1.66, 0.02, 0, 0, 52, 1388, 2222)\n",
      "(86, datetime.date(2016, 5, 5), 4363, 3.19, 3.19, 0.0, 0.52, 0.54, 2.13, 0.01, 6, 12, 81, 1341, 2463)\n",
      "(87, datetime.date(2016, 5, 6), 9787, 7.12, 7.12, 0.0, 0.82, 0.27, 6.01, 0.02, 11, 6, 369, 1054, 3328)\n",
      "(88, datetime.date(2016, 5, 7), 13372, 9.72, 9.72, 0.0, 3.26, 0.79, 5.67, 0.01, 41, 17, 243, 1139, 3404)\n",
      "(89, datetime.date(2016, 5, 8), 6724, 4.89, 4.89, 0.0, 0.0, 0.0, 4.88, 0.0, 0, 0, 295, 991, 2987)\n",
      "(90, datetime.date(2016, 5, 9), 6643, 4.83, 4.83, 0.0, 2.39, 0.35, 2.09, 0.01, 32, 6, 303, 1099, 3008)\n",
      "(91, datetime.date(2016, 5, 10), 9167, 6.66, 6.66, 0.0, 0.88, 0.81, 4.97, 0.01, 12, 19, 155, 1254, 2799)\n",
      "(92, datetime.date(2016, 5, 11), 1329, 0.97, 0.97, 0.0, 0.0, 0.0, 0.95, 0.01, 0, 0, 49, 713, 1276)\n",
      "(93, datetime.date(2016, 4, 12), 6697, 4.43, 4.43, 0.0, 0.0, 0.0, 4.43, 0.0, 0, 0, 339, 1101, 2030)\n",
      "(94, datetime.date(2016, 4, 13), 4929, 3.26, 3.26, 0.0, 0.0, 0.0, 3.26, 0.0, 0, 0, 248, 1192, 1860)\n",
      "(95, datetime.date(2016, 4, 14), 7937, 5.25, 5.25, 0.0, 0.0, 0.0, 5.23, 0.0, 0, 0, 373, 843, 2130)\n",
      "(96, datetime.date(2016, 4, 15), 3844, 2.54, 2.54, 0.0, 0.0, 0.0, 2.54, 0.0, 0, 0, 176, 527, 1725)\n",
      "(97, datetime.date(2016, 4, 16), 3414, 2.26, 2.26, 0.0, 0.0, 0.0, 2.26, 0.0, 0, 0, 147, 1293, 1657)\n",
      "(98, datetime.date(2016, 4, 17), 4525, 2.99, 2.99, 0.0, 0.14, 0.26, 2.59, 0.0, 2, 8, 199, 1231, 1793)\n",
      "(99, datetime.date(2016, 4, 18), 4597, 3.04, 3.04, 0.0, 0.0, 0.48, 2.56, 0.0, 0, 12, 217, 1211, 1814)\n",
      "(100, datetime.date(2016, 4, 19), 197, 0.13, 0.13, 0.0, 0.0, 0.0, 0.13, 0.0, 0, 0, 10, 1430, 1366)\n",
      "(101, datetime.date(2016, 4, 20), 8, 0.01, 0.01, 0.0, 0.0, 0.0, 0.01, 0.0, 0, 0, 1, 1439, 1349)\n",
      "(102, datetime.date(2016, 4, 21), 8054, 5.32, 5.32, 0.0, 0.12, 0.52, 4.68, 0.0, 2, 13, 308, 1117, 2062)\n",
      "(103, datetime.date(2016, 4, 22), 5372, 3.55, 3.55, 0.0, 0.0, 0.0, 3.55, 0.0, 0, 0, 220, 1220, 1827)\n",
      "(104, datetime.date(2016, 4, 23), 3570, 2.36, 2.36, 0.0, 0.0, 0.0, 2.36, 0.0, 0, 0, 139, 1301, 1645)\n",
      "(105, datetime.date(2016, 4, 24), 0, 0.0, 0.0, 0.0, 0.0, 0.0, 0.0, 0.0, 0, 0, 0, 1440, 1347)\n",
      "(106, datetime.date(2016, 4, 25), 0, 0.0, 0.0, 0.0, 0.0, 0.0, 0.0, 0.0, 0, 0, 0, 1440, 1347)\n",
      "(107, datetime.date(2016, 4, 26), 0, 0.0, 0.0, 0.0, 0.0, 0.0, 0.0, 0.0, 0, 0, 0, 1440, 1347)\n",
      "(108, datetime.date(2016, 4, 27), 4, 0.0, 0.0, 0.0, 0.0, 0.0, 0.0, 0.0, 0, 0, 1, 1439, 1348)\n",
      "(109, datetime.date(2016, 4, 28), 6907, 4.57, 4.57, 0.0, 0.0, 0.0, 4.56, 0.0, 0, 0, 302, 1138, 1992)\n",
      "(110, datetime.date(2016, 4, 29), 4920, 3.25, 3.25, 0.0, 0.0, 0.0, 3.25, 0.0, 0, 0, 247, 1082, 1856)\n",
      "(111, datetime.date(2016, 4, 30), 4014, 2.67, 2.67, 0.0, 0.0, 0.0, 2.65, 0.0, 0, 0, 184, 218, 1763)\n",
      "(112, datetime.date(2016, 5, 1), 2573, 1.7, 1.7, 0.0, 0.0, 0.26, 1.45, 0.0, 0, 7, 75, 585, 1541)\n",
      "(113, datetime.date(2016, 5, 2), 0, 0.0, 0.0, 0.0, 0.0, 0.0, 0.0, 0.0, 0, 0, 0, 1440, 1348)\n",
      "(114, datetime.date(2016, 5, 3), 4059, 2.68, 2.68, 0.0, 0.0, 0.0, 2.68, 0.0, 0, 0, 184, 1256, 1742)\n",
      "(115, datetime.date(2016, 5, 4), 2080, 1.37, 1.37, 0.0, 0.0, 0.0, 1.37, 0.0, 0, 0, 87, 1353, 1549)\n",
      "(116, datetime.date(2016, 5, 5), 2237, 1.48, 1.48, 0.0, 0.0, 0.0, 1.48, 0.0, 0, 0, 120, 1320, 1589)\n",
      "(117, datetime.date(2016, 5, 6), 44, 0.03, 0.03, 0.0, 0.0, 0.0, 0.03, 0.0, 0, 0, 2, 1438, 1351)\n",
      "(118, datetime.date(2016, 5, 7), 0, 0.0, 0.0, 0.0, 0.0, 0.0, 0.0, 0.0, 0, 0, 0, 1440, 1347)\n",
      "(119, datetime.date(2016, 5, 8), 0, 0.0, 0.0, 0.0, 0.0, 0.0, 0.0, 0.0, 0, 0, 0, 1440, 1347)\n",
      "(120, datetime.date(2016, 5, 9), 0, 0.0, 0.0, 0.0, 0.0, 0.0, 0.0, 0.0, 0, 0, 0, 1440, 1347)\n",
      "(121, datetime.date(2016, 5, 10), 0, 0.0, 0.0, 0.0, 0.0, 0.0, 0.0, 0.0, 0, 0, 0, 1440, 1347)\n",
      "(122, datetime.date(2016, 5, 11), 0, 0.0, 0.0, 0.0, 0.0, 0.0, 0.0, 0.0, 0, 0, 0, 1440, 1347)\n",
      "(123, datetime.date(2016, 5, 12), 0, 0.0, 0.0, 0.0, 0.0, 0.0, 0.0, 0.0, 0, 0, 0, 711, 665)\n",
      "(124, datetime.date(2016, 4, 12), 678, 0.47, 0.47, 0.0, 0.0, 0.0, 0.47, 0.0, 0, 0, 55, 734, 2220)\n",
      "(125, datetime.date(2016, 4, 13), 356, 0.25, 0.25, 0.0, 0.0, 0.0, 0.25, 0.0, 0, 0, 32, 986, 2151)\n",
      "(126, datetime.date(2016, 4, 14), 2163, 1.5, 1.5, 0.0, 0.0, 0.4, 1.1, 0.0, 0, 9, 88, 1292, 2383)\n",
      "(127, datetime.date(2016, 4, 15), 980, 0.68, 0.68, 0.0, 0.0, 0.0, 0.68, 0.0, 0, 0, 51, 941, 2221)\n",
      "(128, datetime.date(2016, 4, 16), 0, 0.0, 0.0, 0.0, 0.0, 0.0, 0.0, 0.0, 0, 0, 0, 1440, 2064)\n",
      "(129, datetime.date(2016, 4, 17), 0, 0.0, 0.0, 0.0, 0.0, 0.0, 0.0, 0.0, 0, 0, 0, 1440, 2063)\n",
      "(130, datetime.date(2016, 4, 18), 244, 0.17, 0.17, 0.0, 0.0, 0.0, 0.17, 0.0, 0, 0, 17, 1423, 2111)\n",
      "(131, datetime.date(2016, 4, 19), 0, 0.0, 0.0, 0.0, 0.0, 0.0, 0.0, 0.0, 0, 0, 0, 1440, 2063)\n",
      "(132, datetime.date(2016, 4, 20), 0, 0.0, 0.0, 0.0, 0.0, 0.0, 0.0, 0.0, 0, 0, 0, 1440, 2063)\n",
      "(133, datetime.date(2016, 4, 21), 0, 0.0, 0.0, 0.0, 0.0, 0.0, 0.0, 0.0, 0, 0, 0, 1440, 2064)\n",
      "(134, datetime.date(2016, 4, 22), 149, 0.1, 0.1, 0.0, 0.0, 0.0, 0.1, 0.0, 0, 0, 10, 1430, 2093)\n",
      "(135, datetime.date(2016, 4, 23), 2945, 2.04, 2.04, 0.0, 0.0, 0.0, 2.04, 0.0, 0, 0, 145, 1295, 2499)\n",
      "(136, datetime.date(2016, 4, 24), 2090, 1.45, 1.45, 0.0, 0.07, 0.24, 1.14, 0.0, 1, 6, 75, 1358, 2324)\n",
      "(137, datetime.date(2016, 4, 25), 152, 0.11, 0.11, 0.0, 0.0, 0.0, 0.11, 0.0, 0, 0, 12, 1303, 2100)\n",
      "(138, datetime.date(2016, 4, 26), 3761, 2.6, 2.6, 0.0, 0.0, 0.0, 2.6, 0.0, 0, 0, 192, 1058, 2638)\n",
      "(139, datetime.date(2016, 4, 27), 0, 0.0, 0.0, 0.0, 0.0, 0.0, 0.0, 0.0, 0, 0, 0, 1440, 2063)\n",
      "(140, datetime.date(2016, 4, 28), 1675, 1.16, 1.16, 0.0, 0.0, 0.0, 1.16, 0.0, 0, 0, 95, 1167, 2351)\n",
      "(141, datetime.date(2016, 4, 29), 0, 0.0, 0.0, 0.0, 0.0, 0.0, 0.0, 0.0, 0, 0, 0, 1440, 2063)\n",
      "(142, datetime.date(2016, 4, 30), 0, 0.0, 0.0, 0.0, 0.0, 0.0, 0.0, 0.0, 0, 0, 0, 1440, 2064)\n",
      "(143, datetime.date(2016, 5, 1), 2704, 1.87, 1.87, 0.0, 1.01, 0.03, 0.83, 0.0, 14, 1, 70, 1355, 2411)\n",
      "(144, datetime.date(2016, 5, 2), 3790, 2.62, 2.62, 0.0, 1.16, 0.3, 1.16, 0.0, 16, 8, 94, 1322, 2505)\n",
      "(145, datetime.date(2016, 5, 3), 1326, 0.92, 0.92, 0.0, 0.73, 0.0, 0.18, 0.0, 10, 0, 17, 1413, 2195)\n",
      "(146, datetime.date(2016, 5, 4), 1786, 1.24, 1.24, 0.0, 0.0, 0.0, 1.24, 0.0, 0, 0, 87, 1353, 2338)\n",
      "(147, datetime.date(2016, 5, 5), 0, 0.0, 0.0, 0.0, 0.0, 0.0, 0.0, 0.0, 0, 0, 0, 1440, 2063)\n",
      "(148, datetime.date(2016, 5, 6), 2091, 1.45, 1.45, 0.0, 0.0, 0.0, 1.45, 0.0, 0, 0, 108, 1332, 2383)\n",
      "(149, datetime.date(2016, 5, 7), 1510, 1.04, 1.04, 0.0, 0.0, 0.0, 1.04, 0.0, 0, 0, 48, 1392, 2229)\n",
      "(150, datetime.date(2016, 5, 8), 0, 0.0, 0.0, 0.0, 0.0, 0.0, 0.0, 0.0, 0, 0, 0, 1440, 2063)\n",
      "(151, datetime.date(2016, 5, 9), 0, 0.0, 0.0, 0.0, 0.0, 0.0, 0.0, 0.0, 0, 0, 0, 1440, 2063)\n",
      "(152, datetime.date(2016, 5, 10), 0, 0.0, 0.0, 0.0, 0.0, 0.0, 0.0, 0.0, 0, 0, 0, 1440, 2063)\n",
      "(153, datetime.date(2016, 5, 11), 0, 0.0, 0.0, 0.0, 0.0, 0.0, 0.0, 0.0, 0, 0, 0, 1440, 2063)\n",
      "(154, datetime.date(2016, 5, 12), 0, 0.0, 0.0, 0.0, 0.0, 0.0, 0.0, 0.0, 0, 0, 0, 966, 1383)\n",
      "(155, datetime.date(2016, 4, 12), 11875, 8.34, 8.34, 0.0, 3.31, 0.77, 4.26, 0.0, 42, 14, 227, 1157, 2390)\n",
      "(156, datetime.date(2016, 4, 13), 12024, 8.5, 8.5, 0.0, 2.99, 0.1, 5.41, 0.0, 43, 5, 292, 1100, 2601)\n",
      "(157, datetime.date(2016, 4, 14), 10690, 7.5, 7.5, 0.0, 2.48, 0.21, 4.82, 0.0, 32, 3, 257, 1148, 2312)\n",
      "(158, datetime.date(2016, 4, 15), 11034, 8.03, 8.03, 0.0, 1.94, 0.31, 5.78, 0.0, 27, 9, 282, 1122, 2525)\n",
      "(159, datetime.date(2016, 4, 16), 10100, 7.09, 7.09, 0.0, 3.15, 0.55, 3.39, 0.0, 41, 11, 151, 1237, 2177)\n",
      "(160, datetime.date(2016, 4, 17), 15112, 11.4, 11.4, 0.0, 3.87, 0.66, 6.88, 0.0, 28, 29, 331, 1052, 2782)\n",
      "(161, datetime.date(2016, 4, 18), 14131, 10.07, 10.07, 0.0, 3.64, 0.12, 6.3, 0.0, 48, 3, 311, 1078, 2770)\n",
      "(162, datetime.date(2016, 4, 19), 11548, 8.53, 8.53, 0.0, 3.29, 0.24, 5.0, 0.0, 31, 7, 250, 1152, 2489)\n",
      "(163, datetime.date(2016, 4, 20), 15112, 10.67, 10.67, 0.0, 3.34, 1.93, 5.4, 0.0, 48, 63, 276, 1053, 2897)\n",
      "(164, datetime.date(2016, 4, 21), 12453, 8.74, 8.74, 0.0, 3.33, 1.11, 4.31, 0.0, 104, 53, 255, 1028, 3158)\n",
      "(165, datetime.date(2016, 4, 22), 12954, 9.33, 9.33, 0.0, 4.43, 0.42, 4.47, 0.0, 52, 10, 273, 1105, 2638)\n",
      "(166, datetime.date(2016, 4, 23), 6001, 4.21, 4.21, 0.0, 0.0, 0.0, 4.21, 0.0, 0, 0, 249, 1191, 2069)\n",
      "(167, datetime.date(2016, 4, 24), 13481, 10.28, 10.28, 0.0, 4.55, 1.15, 4.58, 0.0, 37, 26, 216, 1161, 2529)\n",
      "(168, datetime.date(2016, 4, 25), 11369, 8.01, 8.01, 0.0, 3.33, 0.22, 4.46, 0.0, 44, 8, 217, 1171, 2470)\n",
      "(169, datetime.date(2016, 4, 26), 10119, 7.19, 7.19, 0.0, 1.43, 0.66, 5.11, 0.0, 55, 24, 275, 1086, 2793)\n",
      "(170, datetime.date(2016, 4, 27), 10159, 7.13, 7.13, 0.0, 1.04, 0.97, 5.12, 0.0, 19, 20, 282, 1119, 2463)\n",
      "(171, datetime.date(2016, 4, 28), 10140, 7.12, 7.12, 0.0, 0.41, 1.33, 5.39, 0.0, 6, 20, 291, 1123, 2296)\n",
      "(172, datetime.date(2016, 4, 29), 10245, 7.19, 7.19, 0.0, 0.48, 1.21, 5.5, 0.0, 21, 40, 281, 1098, 2611)\n",
      "(173, datetime.date(2016, 4, 30), 18387, 12.91, 12.91, 0.0, 0.94, 1.4, 10.57, 0.0, 13, 23, 361, 1043, 2732)\n",
      "(174, datetime.date(2016, 5, 1), 10538, 7.4, 7.4, 0.0, 1.94, 0.96, 4.5, 0.0, 25, 28, 245, 1142, 2380)\n",
      "(175, datetime.date(2016, 5, 2), 10379, 7.29, 7.29, 0.0, 2.61, 0.34, 4.33, 0.0, 36, 8, 277, 1119, 2473)\n",
      "(176, datetime.date(2016, 5, 3), 12183, 8.74, 8.74, 0.0, 3.99, 0.46, 4.28, 0.0, 72, 14, 250, 1104, 2752)\n",
      "(177, datetime.date(2016, 5, 4), 11768, 8.29, 8.29, 0.0, 2.51, 0.93, 4.85, 0.0, 36, 27, 272, 1105, 2649)\n",
      "(178, datetime.date(2016, 5, 5), 11895, 8.35, 8.35, 0.0, 2.79, 0.86, 4.7, 0.0, 55, 20, 253, 1112, 2609)\n",
      "(179, datetime.date(2016, 5, 6), 10227, 7.18, 7.18, 0.0, 1.87, 0.67, 4.64, 0.0, 24, 17, 295, 1104, 2498)\n",
      "(180, datetime.date(2016, 5, 7), 6708, 4.71, 4.71, 0.0, 1.61, 0.08, 3.02, 0.0, 20, 2, 149, 1269, 1995)\n",
      "(181, datetime.date(2016, 5, 8), 3292, 2.31, 2.31, 0.0, 0.0, 0.0, 2.31, 0.0, 0, 0, 135, 1305, 1848)\n",
      "(182, datetime.date(2016, 5, 9), 13379, 9.39, 9.39, 0.0, 2.12, 1.63, 5.64, 0.0, 35, 47, 297, 1061, 2709)\n",
      "(183, datetime.date(2016, 5, 10), 12798, 8.98, 8.98, 0.0, 2.22, 1.21, 5.56, 0.0, 57, 28, 271, 1084, 2797)\n",
      "(184, datetime.date(2016, 5, 11), 13272, 9.32, 9.32, 0.0, 4.18, 1.15, 3.99, 0.0, 58, 25, 224, 1133, 2544)\n",
      "(185, datetime.date(2016, 5, 12), 9117, 6.41, 6.41, 0.0, 1.28, 0.67, 4.44, 0.0, 16, 16, 236, 728, 1853)\n",
      "(186, datetime.date(2016, 4, 12), 4414, 2.74, 2.74, 0.0, 0.19, 0.35, 2.2, 0.0, 3, 8, 181, 706, 1459)\n",
      "(187, datetime.date(2016, 4, 13), 4993, 3.1, 3.1, 0.0, 0.0, 0.0, 3.1, 0.0, 0, 0, 238, 663, 1521)\n",
      "(188, datetime.date(2016, 4, 14), 3335, 2.07, 2.07, 0.0, 0.0, 0.0, 2.05, 0.0, 0, 0, 197, 653, 1431)\n",
      "(189, datetime.date(2016, 4, 15), 3821, 2.37, 2.37, 0.0, 0.0, 0.0, 2.37, 0.0, 0, 0, 188, 687, 1444)\n",
      "(190, datetime.date(2016, 4, 16), 2547, 1.58, 1.58, 0.0, 0.0, 0.0, 1.58, 0.0, 0, 0, 150, 728, 1373)\n",
      "(191, datetime.date(2016, 4, 17), 838, 0.52, 0.52, 0.0, 0.0, 0.0, 0.52, 0.0, 0, 0, 60, 1053, 1214)\n",
      "(192, datetime.date(2016, 4, 18), 3325, 2.06, 2.06, 0.0, 0.0, 0.0, 2.06, 0.0, 0, 0, 182, 1062, 1419)\n",
      "(193, datetime.date(2016, 4, 19), 2424, 1.5, 1.5, 0.0, 0.0, 0.0, 1.5, 0.0, 0, 0, 141, 785, 1356)\n",
      "(194, datetime.date(2016, 4, 20), 7222, 4.48, 4.48, 0.0, 0.0, 0.0, 4.48, 0.0, 0, 0, 327, 623, 1667)\n",
      "(195, datetime.date(2016, 4, 21), 2467, 1.53, 1.53, 0.0, 0.0, 0.0, 1.53, 0.0, 0, 0, 153, 749, 1370)\n",
      "(196, datetime.date(2016, 4, 22), 2915, 1.81, 1.81, 0.0, 0.0, 0.0, 1.81, 0.0, 0, 0, 162, 712, 1399)\n",
      "(197, datetime.date(2016, 4, 23), 12357, 7.71, 7.71, 0.0, 0.0, 0.0, 7.71, 0.0, 0, 0, 432, 458, 1916)\n",
      "(198, datetime.date(2016, 4, 24), 3490, 2.16, 2.16, 0.0, 0.0, 0.0, 2.16, 0.0, 0, 0, 164, 704, 1401)\n",
      "(199, datetime.date(2016, 4, 25), 6017, 3.73, 3.73, 0.0, 0.0, 0.0, 3.73, 0.0, 0, 0, 260, 821, 1576)\n",
      "(200, datetime.date(2016, 4, 26), 5933, 3.68, 3.68, 0.0, 0.0, 0.0, 3.68, 0.0, 0, 0, 288, 1018, 1595)\n",
      "(201, datetime.date(2016, 4, 27), 6088, 3.77, 3.77, 0.0, 0.0, 0.0, 3.77, 0.0, 0, 0, 286, 586, 1593)\n",
      "(202, datetime.date(2016, 4, 28), 6375, 3.95, 3.95, 0.0, 0.0, 0.0, 3.95, 0.0, 0, 0, 331, 626, 1649)\n",
      "(203, datetime.date(2016, 4, 29), 7604, 4.71, 4.71, 0.0, 0.0, 0.0, 4.71, 0.0, 0, 0, 352, 492, 1692)\n",
      "(204, datetime.date(2016, 4, 30), 4729, 2.93, 2.93, 0.0, 0.0, 0.0, 2.93, 0.0, 0, 0, 233, 594, 1506)\n",
      "(205, datetime.date(2016, 5, 1), 3609, 2.28, 2.28, 0.0, 0.0, 0.0, 2.28, 0.0, 0, 0, 191, 716, 1447)\n",
      "(206, datetime.date(2016, 5, 2), 7018, 4.35, 4.35, 0.0, 0.0, 0.0, 4.35, 0.0, 0, 0, 355, 716, 1690)\n",
      "(207, datetime.date(2016, 5, 3), 5992, 3.72, 3.72, 0.0, 0.0, 0.0, 3.72, 0.0, 0, 0, 304, 981, 1604)\n",
      "(208, datetime.date(2016, 5, 4), 6564, 4.07, 4.07, 0.0, 0.0, 0.0, 4.07, 0.0, 0, 0, 345, 530, 1658)\n",
      "(209, datetime.date(2016, 5, 5), 12167, 7.54, 7.54, 0.0, 0.0, 0.0, 7.54, 0.0, 0, 0, 475, 479, 1926)\n",
      "(210, datetime.date(2016, 5, 6), 8198, 5.08, 5.08, 0.0, 0.0, 0.0, 5.08, 0.0, 0, 0, 383, 511, 1736)\n",
      "(211, datetime.date(2016, 5, 7), 4193, 2.6, 2.6, 0.0, 0.0, 0.0, 2.6, 0.0, 0, 0, 229, 665, 1491)\n",
      "(212, datetime.date(2016, 5, 8), 5528, 3.45, 3.45, 0.0, 0.0, 0.0, 3.45, 0.0, 0, 0, 258, 610, 1555)\n",
      "(213, datetime.date(2016, 5, 9), 10685, 6.62, 6.62, 0.0, 0.0, 0.0, 6.6, 0.0, 0, 0, 401, 543, 1869)\n",
      "(214, datetime.date(2016, 5, 10), 254, 0.16, 0.16, 0.0, 0.0, 0.0, 0.16, 0.0, 0, 0, 17, 1002, 1141)\n",
      "(215, datetime.date(2016, 5, 11), 8580, 5.32, 5.32, 0.0, 0.0, 0.0, 5.32, 0.0, 0, 0, 330, 569, 1698)\n",
      "(216, datetime.date(2016, 5, 12), 8891, 5.51, 5.51, 0.0, 0.0, 0.0, 5.51, 0.0, 0, 0, 343, 330, 1364)\n",
      "(217, datetime.date(2016, 4, 12), 10725, 7.49, 7.49, 0.0, 1.17, 0.31, 6.01, 0.0, 13, 9, 306, 1112, 2124)\n",
      "(218, datetime.date(2016, 4, 13), 7275, 4.9, 4.9, 0.0, 0.0, 0.0, 4.9, 0.0, 0, 0, 335, 1105, 2003)\n",
      "(219, datetime.date(2016, 4, 14), 3973, 2.68, 2.68, 0.0, 0.0, 0.0, 2.68, 0.0, 0, 0, 191, 1249, 1696)\n",
      "(220, datetime.date(2016, 4, 15), 5205, 3.51, 3.51, 0.0, 0.0, 0.0, 3.51, 0.0, 0, 0, 245, 1195, 1801)\n",
      "(221, datetime.date(2016, 4, 16), 5057, 3.41, 3.41, 0.0, 0.0, 0.0, 3.4, 0.0, 0, 0, 195, 1245, 1724)\n",
      "(222, datetime.date(2016, 4, 17), 6198, 4.18, 4.18, 0.0, 0.0, 0.0, 4.18, 0.0, 0, 0, 249, 1191, 1852)\n",
      "(223, datetime.date(2016, 4, 18), 6559, 4.42, 4.42, 0.0, 0.0, 0.26, 4.14, 0.0, 0, 7, 260, 1173, 1905)\n",
      "(224, datetime.date(2016, 4, 19), 5997, 4.04, 4.04, 0.0, 0.0, 0.38, 3.66, 0.0, 0, 11, 228, 1201, 1811)\n",
      "(225, datetime.date(2016, 4, 20), 7192, 4.85, 4.85, 0.0, 0.0, 0.49, 4.34, 0.0, 0, 11, 283, 1146, 1922)\n",
      "(226, datetime.date(2016, 4, 21), 3404, 2.29, 2.29, 0.0, 0.06, 0.42, 1.81, 0.0, 1, 10, 127, 1302, 1610)\n",
      "(227, datetime.date(2016, 4, 22), 5583, 3.76, 3.76, 0.0, 0.0, 0.0, 3.76, 0.0, 0, 0, 266, 1174, 1851)\n",
      "(228, datetime.date(2016, 4, 23), 5079, 3.42, 3.42, 0.0, 0.0, 0.0, 3.42, 0.0, 0, 0, 242, 1129, 1804)\n",
      "(229, datetime.date(2016, 4, 24), 4165, 2.81, 2.81, 0.0, 0.0, 0.0, 2.8, 0.0, 0, 0, 204, 1236, 1725)\n",
      "(230, datetime.date(2016, 4, 25), 3588, 2.42, 2.42, 0.0, 0.23, 0.2, 1.99, 0.0, 3, 5, 152, 1280, 1654)\n",
      "(231, datetime.date(2016, 4, 26), 3409, 2.3, 2.3, 0.0, 0.0, 0.0, 2.3, 0.0, 0, 0, 147, 1293, 1632)\n",
      "(232, datetime.date(2016, 4, 27), 1715, 1.16, 1.16, 0.0, 0.0, 0.0, 1.16, 0.0, 0, 0, 82, 1358, 1481)\n",
      "(233, datetime.date(2016, 4, 28), 1532, 1.03, 1.03, 0.0, 0.0, 0.0, 1.03, 0.0, 0, 0, 76, 1364, 1473)\n",
      "(234, datetime.date(2016, 4, 29), 924, 0.62, 0.62, 0.0, 0.0, 0.0, 0.62, 0.0, 0, 0, 45, 1395, 1410)\n",
      "(235, datetime.date(2016, 4, 30), 4571, 3.08, 3.08, 0.0, 0.0, 0.0, 3.07, 0.0, 0, 0, 234, 1206, 1779)\n",
      "(236, datetime.date(2016, 5, 1), 772, 0.52, 0.52, 0.0, 0.0, 0.0, 0.52, 0.0, 0, 0, 40, 1400, 1403)\n",
      "(237, datetime.date(2016, 5, 2), 3634, 2.45, 2.45, 0.0, 0.36, 0.21, 1.88, 0.0, 5, 6, 123, 1306, 1613)\n",
      "(238, datetime.date(2016, 5, 3), 7443, 5.02, 5.02, 0.0, 1.49, 0.37, 3.16, 0.0, 20, 10, 206, 1204, 1878)\n",
      "(239, datetime.date(2016, 5, 4), 1201, 0.81, 0.81, 0.0, 0.0, 0.0, 0.81, 0.0, 0, 0, 52, 1388, 1426)\n",
      "(240, datetime.date(2016, 5, 5), 5202, 3.51, 3.51, 0.0, 0.0, 0.39, 3.11, 0.0, 0, 11, 223, 1206, 1780)\n",
      "(241, datetime.date(2016, 5, 6), 4878, 3.29, 3.29, 0.0, 0.0, 0.0, 3.29, 0.0, 0, 0, 204, 1236, 1742)\n",
      "(242, datetime.date(2016, 5, 7), 7379, 4.97, 4.97, 0.0, 0.0, 0.0, 4.97, 0.0, 0, 0, 319, 1121, 1972)\n",
      "(243, datetime.date(2016, 5, 8), 5161, 3.48, 3.48, 0.0, 0.0, 0.0, 3.47, 0.0, 0, 0, 247, 1193, 1821)\n",
      "(244, datetime.date(2016, 5, 9), 3090, 2.08, 2.08, 0.0, 0.0, 0.0, 2.08, 0.0, 0, 0, 145, 1295, 1630)\n",
      "(245, datetime.date(2016, 5, 10), 6227, 4.2, 4.2, 0.0, 0.0, 0.0, 4.2, 0.0, 0, 0, 290, 1150, 1899)\n",
      "(246, datetime.date(2016, 5, 11), 6424, 4.33, 4.33, 0.0, 0.0, 0.0, 4.33, 0.0, 0, 0, 300, 1140, 1903)\n",
      "(247, datetime.date(2016, 5, 12), 2661, 1.79, 1.79, 0.0, 0.0, 0.0, 1.79, 0.0, 0, 0, 128, 830, 1125)\n",
      "(248, datetime.date(2016, 4, 12), 10113, 6.83, 6.83, 0.0, 2.0, 0.62, 4.2, 0.0, 28, 13, 320, 964, 2344)\n",
      "(249, datetime.date(2016, 4, 13), 10352, 7.01, 7.01, 0.0, 1.66, 1.94, 3.41, 0.0, 19, 32, 195, 676, 2038)\n",
      "(250, datetime.date(2016, 4, 14), 10129, 6.7, 6.7, 0.0, 0.02, 2.74, 3.94, 0.0, 1, 48, 206, 705, 2010)\n",
      "(251, datetime.date(2016, 4, 15), 10465, 6.92, 6.92, 0.0, 0.07, 1.42, 5.43, 0.0, 1, 24, 284, 720, 2133)\n",
      "(252, datetime.date(2016, 4, 16), 22244, 15.08, 15.08, 0.0, 5.45, 4.1, 5.53, 0.0, 66, 72, 268, 968, 2670)\n",
      "(253, datetime.date(2016, 4, 17), 5472, 3.62, 3.62, 0.0, 0.08, 0.28, 3.26, 0.0, 1, 7, 249, 508, 1882)\n",
      "(254, datetime.date(2016, 4, 18), 8247, 5.45, 5.45, 0.0, 0.79, 0.86, 3.79, 0.0, 11, 16, 206, 678, 1944)\n",
      "(255, datetime.date(2016, 4, 19), 6711, 4.44, 4.44, 0.0, 0.0, 0.0, 4.44, 0.0, 0, 7, 382, 648, 2346)\n",
      "(256, datetime.date(2016, 4, 20), 10999, 7.27, 7.27, 0.0, 0.68, 1.81, 4.78, 0.0, 11, 43, 269, 1011, 2198)\n",
      "(257, datetime.date(2016, 4, 21), 10080, 6.75, 6.75, 0.0, 1.85, 1.53, 3.38, 0.0, 23, 26, 208, 761, 2048)\n",
      "(258, datetime.date(2016, 4, 22), 7804, 5.16, 5.16, 0.0, 0.56, 1.68, 2.92, 0.0, 9, 27, 206, 781, 1946)\n",
      "(259, datetime.date(2016, 4, 23), 16901, 11.37, 11.37, 0.0, 2.78, 1.45, 7.15, 0.0, 32, 35, 360, 591, 2629)\n",
      "(260, datetime.date(2016, 4, 24), 9471, 6.26, 6.26, 0.0, 0.0, 0.0, 6.26, 0.0, 0, 0, 360, 584, 2187)\n",
      "(261, datetime.date(2016, 4, 25), 9482, 6.38, 6.38, 0.0, 1.27, 0.52, 4.6, 0.0, 15, 11, 277, 653, 2095)\n",
      "(262, datetime.date(2016, 4, 26), 5980, 3.95, 3.95, 0.0, 0.0, 0.0, 3.95, 0.0, 0, 0, 227, 732, 1861)\n",
      "(263, datetime.date(2016, 4, 27), 11423, 7.58, 7.58, 0.0, 1.86, 0.4, 5.32, 0.0, 26, 9, 295, 623, 2194)\n",
      "(264, datetime.date(2016, 4, 28), 5439, 3.6, 3.6, 0.0, 0.0, 0.0, 3.6, 0.0, 0, 0, 229, 764, 1854)\n",
      "(265, datetime.date(2016, 4, 29), 42, 0.03, 0.03, 0.0, 0.0, 0.0, 0.03, 0.0, 0, 0, 4, 2, 403)\n",
      "(266, datetime.date(2016, 4, 12), 8796, 5.91, 5.91, 0.0, 0.11, 0.93, 4.88, 0.0, 2, 21, 356, 1061, 1982)\n",
      "(267, datetime.date(2016, 4, 13), 7618, 5.12, 5.12, 0.0, 0.0, 0.22, 4.88, 0.02, 0, 8, 404, 1028, 2004)\n",
      "(268, datetime.date(2016, 4, 14), 7910, 5.32, 5.32, 0.0, 0.0, 0.0, 5.32, 0.0, 0, 0, 331, 1109, 1893)\n",
      "(269, datetime.date(2016, 4, 15), 8482, 5.7, 5.7, 0.0, 0.0, 0.0, 5.69, 0.01, 0, 0, 448, 992, 2063)\n",
      "(270, datetime.date(2016, 4, 16), 9685, 6.65, 6.65, 0.0, 3.11, 0.02, 3.51, 0.01, 47, 1, 305, 1087, 2148)\n",
      "(271, datetime.date(2016, 4, 17), 2524, 1.7, 1.7, 0.0, 0.0, 0.35, 1.34, 0.0, 0, 8, 160, 1272, 1529)\n",
      "(272, datetime.date(2016, 4, 18), 7762, 5.24, 5.24, 0.0, 0.07, 0.28, 4.89, 0.0, 1, 6, 311, 1122, 1890)\n",
      "(273, datetime.date(2016, 4, 19), 7948, 5.37, 5.37, 0.0, 0.0, 0.0, 5.36, 0.0, 0, 0, 389, 1051, 1956)\n",
      "(274, datetime.date(2016, 4, 20), 9202, 6.3, 6.3, 0.0, 1.51, 0.12, 4.66, 0.01, 22, 5, 378, 1035, 2094)\n",
      "(275, datetime.date(2016, 4, 21), 8859, 5.98, 5.98, 0.0, 0.13, 0.37, 5.47, 0.01, 2, 10, 371, 1057, 1970)\n",
      "(276, datetime.date(2016, 4, 22), 7286, 4.9, 4.9, 0.0, 0.46, 0.0, 4.42, 0.02, 46, 0, 366, 1028, 2241)\n",
      "(277, datetime.date(2016, 4, 23), 9317, 6.35, 6.35, 0.0, 2.09, 0.23, 4.02, 0.01, 28, 5, 330, 1077, 2021)\n",
      "(278, datetime.date(2016, 4, 24), 6873, 4.68, 4.68, 0.0, 3.0, 0.06, 1.62, 0.0, 46, 1, 190, 1203, 1898)\n",
      "(279, datetime.date(2016, 4, 25), 7373, 4.95, 4.95, 0.0, 0.0, 0.0, 4.95, 0.0, 0, 0, 359, 1081, 1907)\n",
      "(280, datetime.date(2016, 4, 26), 8242, 5.54, 5.54, 0.0, 0.12, 0.18, 5.24, 0.0, 2, 5, 309, 1124, 1882)\n",
      "(281, datetime.date(2016, 4, 27), 3516, 2.36, 2.36, 0.0, 0.0, 0.0, 2.36, 0.0, 46, 0, 197, 1197, 1966)\n",
      "(282, datetime.date(2016, 4, 28), 7913, 5.41, 5.41, 0.0, 2.16, 0.34, 2.91, 0.0, 28, 7, 213, 1192, 1835)\n",
      "(283, datetime.date(2016, 4, 29), 7365, 4.95, 4.95, 0.0, 1.36, 1.41, 2.18, 0.0, 20, 23, 206, 1191, 1780)\n",
      "(284, datetime.date(2016, 4, 30), 8452, 5.68, 5.68, 0.0, 0.33, 1.08, 4.26, 0.01, 5, 20, 248, 1167, 1830)\n",
      "(285, datetime.date(2016, 5, 1), 7399, 4.97, 4.97, 0.0, 0.49, 1.04, 3.44, 0.0, 7, 18, 196, 1219, 1739)\n",
      "(286, datetime.date(2016, 5, 2), 7525, 5.06, 5.06, 0.0, 0.0, 0.21, 4.83, 0.02, 0, 7, 334, 1099, 1878)\n",
      "(287, datetime.date(2016, 5, 3), 7412, 4.98, 4.98, 0.0, 0.06, 0.25, 4.66, 0.01, 1, 6, 363, 1070, 1906)\n",
      "(288, datetime.date(2016, 5, 4), 8278, 5.56, 5.56, 0.0, 0.0, 0.0, 5.56, 0.0, 0, 0, 420, 1020, 2015)\n",
      "(289, datetime.date(2016, 5, 5), 8314, 5.61, 5.61, 0.0, 0.78, 0.8, 4.03, 0.0, 13, 23, 311, 1093, 1971)\n",
      "(290, datetime.date(2016, 5, 6), 7063, 4.75, 4.75, 0.0, 0.0, 0.12, 4.61, 0.01, 0, 5, 370, 1065, 1910)\n",
      "(291, datetime.date(2016, 5, 7), 4940, 3.38, 3.38, 0.0, 2.28, 0.55, 0.55, 0.0, 75, 11, 52, 1302, 1897)\n",
      "(292, datetime.date(2016, 5, 8), 8168, 5.54, 5.54, 0.0, 2.9, 0.0, 2.64, 0.0, 46, 0, 326, 1068, 2096)\n",
      "(293, datetime.date(2016, 5, 9), 7726, 5.19, 5.19, 0.0, 0.0, 0.0, 5.19, 0.0, 0, 0, 345, 1095, 1906)\n",
      "(294, datetime.date(2016, 5, 10), 8275, 5.56, 5.56, 0.0, 0.0, 0.0, 5.55, 0.01, 0, 0, 373, 1067, 1962)\n",
      "(295, datetime.date(2016, 5, 11), 6440, 4.33, 4.33, 0.0, 0.0, 0.0, 4.32, 0.01, 0, 0, 319, 1121, 1826)\n",
      "(296, datetime.date(2016, 5, 12), 7566, 5.11, 5.11, 0.0, 0.0, 0.0, 5.11, 0.0, 0, 0, 268, 720, 1431)\n",
      "(297, datetime.date(2016, 4, 12), 4747, 3.24, 3.24, 0.0, 0.0, 0.0, 3.23, 0.01, 0, 0, 280, 1160, 1788)\n",
      "(298, datetime.date(2016, 4, 13), 9715, 6.63, 6.63, 0.0, 0.99, 0.34, 5.27, 0.02, 16, 8, 371, 1045, 2093)\n",
      "(299, datetime.date(2016, 4, 14), 8844, 6.03, 6.03, 0.0, 0.34, 1.03, 4.65, 0.01, 6, 25, 370, 1039, 2065)\n",
      "(300, datetime.date(2016, 4, 15), 7451, 5.08, 5.08, 0.0, 0.0, 0.0, 5.06, 0.02, 0, 0, 335, 1105, 1908)\n",
      "(301, datetime.date(2016, 4, 16), 6905, 4.73, 4.73, 0.0, 0.0, 0.0, 4.7, 0.03, 0, 0, 356, 1084, 1908)\n",
      "(302, datetime.date(2016, 4, 17), 8199, 5.88, 5.88, 0.0, 1.41, 0.1, 4.36, 0.01, 11, 2, 322, 1105, 1964)\n",
      "(303, datetime.date(2016, 4, 18), 6798, 4.64, 4.64, 0.0, 1.08, 0.2, 3.35, 0.0, 20, 7, 343, 1070, 2014)\n",
      "(304, datetime.date(2016, 4, 19), 7711, 5.26, 5.26, 0.0, 0.0, 0.0, 5.24, 0.02, 0, 0, 376, 1064, 1985)\n",
      "(305, datetime.date(2016, 4, 20), 4880, 3.33, 3.33, 0.0, 0.84, 0.09, 2.38, 0.02, 15, 3, 274, 1148, 1867)\n",
      "(306, datetime.date(2016, 4, 21), 8857, 6.07, 6.07, 0.0, 1.15, 0.26, 4.64, 0.01, 18, 9, 376, 1037, 2124)\n",
      "(307, datetime.date(2016, 4, 22), 3843, 2.62, 2.62, 0.0, 0.0, 0.0, 2.61, 0.01, 0, 0, 206, 1234, 1669)\n",
      "(308, datetime.date(2016, 4, 23), 7396, 5.07, 5.07, 0.0, 1.4, 0.08, 3.58, 0.0, 20, 2, 303, 1115, 1995)\n",
      "(309, datetime.date(2016, 4, 24), 6731, 4.59, 4.59, 0.0, 0.89, 0.19, 3.49, 0.02, 14, 7, 292, 1127, 1921)\n",
      "(310, datetime.date(2016, 4, 25), 5995, 4.09, 4.09, 0.0, 0.0, 0.0, 4.09, 0.0, 0, 0, 416, 1024, 2010)\n",
      "(311, datetime.date(2016, 4, 26), 8283, 5.79, 5.79, 0.0, 1.85, 0.05, 3.87, 0.01, 22, 2, 333, 1083, 2057)\n",
      "(312, datetime.date(2016, 4, 27), 7904, 5.42, 5.42, 0.0, 1.58, 0.63, 3.19, 0.01, 24, 13, 346, 1057, 2095)\n",
      "(313, datetime.date(2016, 4, 28), 5512, 3.76, 3.76, 0.0, 0.0, 0.0, 3.76, 0.0, 0, 0, 385, 1055, 1972)\n",
      "(314, datetime.date(2016, 4, 29), 9135, 6.23, 6.23, 0.0, 0.0, 0.0, 6.22, 0.01, 0, 0, 402, 1038, 2044)\n",
      "(315, datetime.date(2016, 4, 30), 5250, 3.58, 3.58, 0.0, 1.06, 0.09, 2.42, 0.01, 17, 4, 300, 1119, 1946)\n",
      "(316, datetime.date(2016, 5, 1), 3077, 2.1, 2.1, 0.0, 0.0, 0.0, 2.09, 0.0, 0, 0, 172, 842, 1237)\n",
      "(317, datetime.date(2016, 4, 12), 8856, 5.98, 5.98, 0.0, 3.06, 0.91, 2.01, 0.0, 44, 19, 131, 777, 1450)\n",
      "(318, datetime.date(2016, 4, 13), 10035, 6.71, 6.71, 0.0, 2.03, 2.13, 2.55, 0.0, 31, 46, 153, 754, 1495)\n",
      "(319, datetime.date(2016, 4, 14), 7641, 5.11, 5.11, 0.0, 0.32, 0.97, 3.82, 0.0, 5, 23, 214, 801, 1433)\n",
      "(320, datetime.date(2016, 4, 15), 9010, 6.06, 6.06, 0.0, 1.05, 1.75, 3.26, 0.0, 15, 42, 183, 644, 1468)\n",
      "(321, datetime.date(2016, 4, 16), 13459, 9.0, 9.0, 0.0, 2.03, 4.0, 2.97, 0.0, 31, 83, 153, 663, 1625)\n",
      "(322, datetime.date(2016, 4, 17), 10415, 6.97, 6.97, 0.0, 0.7, 2.35, 3.92, 0.0, 11, 58, 205, 600, 1529)\n",
      "(323, datetime.date(2016, 4, 18), 11663, 7.8, 7.8, 0.0, 0.25, 3.73, 3.82, 0.0, 4, 95, 214, 605, 1584)\n",
      "(324, datetime.date(2016, 4, 19), 12414, 8.78, 8.78, 0.0, 2.24, 2.45, 3.96, 0.0, 19, 67, 221, 738, 1638)\n",
      "(325, datetime.date(2016, 4, 20), 11658, 7.83, 7.83, 0.0, 0.2, 4.35, 3.28, 0.0, 2, 98, 164, 845, 1554)\n",
      "(326, datetime.date(2016, 4, 21), 6093, 4.08, 4.08, 0.0, 0.0, 0.0, 4.06, 0.0, 0, 0, 242, 712, 1397)\n",
      "(327, datetime.date(2016, 4, 22), 8911, 5.96, 5.96, 0.0, 2.33, 0.58, 3.06, 0.0, 33, 12, 188, 731, 1481)\n",
      "(328, datetime.date(2016, 4, 23), 12058, 8.07, 8.07, 0.0, 0.0, 4.22, 3.85, 0.0, 0, 92, 252, 724, 1638)\n",
      "(329, datetime.date(2016, 4, 24), 14112, 10.0, 10.0, 0.0, 3.27, 4.56, 2.17, 0.0, 30, 95, 129, 660, 1655)\n",
      "(330, datetime.date(2016, 4, 25), 11177, 8.48, 8.48, 0.0, 5.62, 0.43, 2.41, 0.0, 50, 9, 133, 781, 1570)\n",
      "(331, datetime.date(2016, 4, 26), 11388, 7.62, 7.62, 0.0, 0.45, 4.22, 2.95, 0.0, 7, 95, 170, 797, 1551)\n",
      "(332, datetime.date(2016, 4, 27), 7193, 5.04, 5.04, 0.0, 0.0, 0.42, 4.62, 0.0, 0, 10, 176, 714, 1377)\n",
      "(333, datetime.date(2016, 4, 28), 7114, 4.88, 4.88, 0.0, 1.37, 0.29, 3.22, 0.0, 15, 8, 190, 804, 1407)\n",
      "(334, datetime.date(2016, 4, 29), 10645, 7.75, 7.75, 0.0, 3.74, 1.3, 2.71, 0.0, 36, 32, 150, 744, 1545)\n",
      "(335, datetime.date(2016, 4, 30), 13238, 9.2, 9.2, 0.0, 3.69, 2.1, 3.41, 0.0, 43, 52, 194, 687, 1650)\n",
      "(336, datetime.date(2016, 5, 1), 10414, 7.07, 7.07, 0.0, 2.67, 1.98, 2.41, 0.0, 41, 40, 124, 691, 1501)\n",
      "(337, datetime.date(2016, 5, 2), 16520, 11.05, 11.05, 0.0, 1.54, 6.48, 3.02, 0.0, 24, 143, 176, 713, 1760)\n",
      "(338, datetime.date(2016, 5, 3), 14335, 9.59, 9.59, 0.0, 3.32, 1.74, 4.53, 0.0, 47, 41, 258, 594, 1710)\n",
      "(339, datetime.date(2016, 5, 4), 13559, 9.44, 9.44, 0.0, 1.81, 4.58, 2.89, 0.0, 14, 96, 142, 852, 1628)\n",
      "(340, datetime.date(2016, 5, 5), 12312, 8.58, 8.58, 0.0, 1.76, 4.11, 2.71, 0.0, 14, 88, 178, 680, 1618)\n",
      "(341, datetime.date(2016, 5, 6), 11677, 8.28, 8.28, 0.0, 3.11, 2.51, 2.67, 0.0, 29, 55, 168, 676, 1590)\n",
      "(342, datetime.date(2016, 5, 7), 11550, 7.73, 7.73, 0.0, 0.0, 4.13, 3.59, 0.0, 0, 86, 208, 703, 1574)\n",
      "(343, datetime.date(2016, 5, 8), 13585, 9.09, 9.09, 0.0, 0.68, 5.24, 3.17, 0.0, 9, 116, 171, 688, 1633)\n",
      "(344, datetime.date(2016, 5, 9), 14687, 10.08, 10.08, 0.0, 0.77, 5.6, 3.55, 0.0, 8, 122, 151, 1159, 1667)\n",
      "(345, datetime.date(2016, 5, 10), 13072, 8.78, 8.78, 0.0, 0.07, 5.4, 3.31, 0.0, 1, 115, 196, 676, 1630)\n",
      "(346, datetime.date(2016, 5, 11), 746, 0.5, 0.5, 0.0, 0.37, 0.0, 0.13, 0.0, 4, 0, 9, 13, 52)\n",
      "(347, datetime.date(2016, 4, 12), 8539, 6.12, 6.12, 0.0, 0.15, 0.24, 5.68, 0.0, 4, 15, 331, 712, 3654)\n",
      "(348, datetime.date(2016, 4, 13), 0, 0.0, 0.0, 0.0, 0.0, 0.0, 0.0, 0.0, 0, 0, 0, 1440, 1981)\n",
      "(349, datetime.date(2016, 4, 14), 108, 0.08, 0.08, 0.0, 0.0, 0.0, 0.03, 0.0, 0, 0, 3, 1437, 2011)\n",
      "(350, datetime.date(2016, 4, 15), 1882, 1.35, 1.35, 0.0, 0.21, 0.36, 0.77, 0.0, 36, 18, 87, 1299, 2951)\n",
      "(351, datetime.date(2016, 4, 16), 1982, 1.42, 1.42, 0.0, 0.45, 0.37, 0.59, 0.0, 65, 21, 55, 1222, 3051)\n",
      "(352, datetime.date(2016, 4, 17), 16, 0.01, 0.01, 0.0, 0.0, 0.0, 0.01, 0.0, 0, 0, 2, 1438, 1990)\n",
      "(353, datetime.date(2016, 4, 18), 62, 0.04, 0.04, 0.0, 0.0, 0.0, 0.04, 0.0, 0, 0, 2, 1438, 1995)\n",
      "(354, datetime.date(2016, 4, 19), 0, 0.0, 0.0, 0.0, 0.0, 0.0, 0.0, 0.0, 0, 0, 0, 1440, 1980)\n",
      "(355, datetime.date(2016, 4, 20), 0, 0.0, 0.0, 0.0, 0.0, 0.0, 0.0, 0.0, 0, 0, 0, 1440, 1980)\n",
      "(356, datetime.date(2016, 4, 21), 0, 0.0, 0.0, 0.0, 0.0, 0.0, 0.0, 0.0, 0, 0, 0, 1440, 1980)\n",
      "(357, datetime.date(2016, 4, 22), 0, 0.0, 0.0, 0.0, 0.0, 0.0, 0.0, 0.0, 0, 0, 0, 1440, 1980)\n",
      "(358, datetime.date(2016, 4, 23), 0, 0.0, 0.0, 0.0, 0.0, 0.0, 0.0, 0.0, 0, 0, 0, 1440, 1980)\n",
      "(359, datetime.date(2016, 4, 24), 0, 0.0, 0.0, 0.0, 0.0, 0.0, 0.0, 0.0, 0, 0, 0, 1440, 1980)\n",
      "(360, datetime.date(2016, 4, 25), 0, 0.0, 0.0, 0.0, 0.0, 0.0, 0.0, 0.0, 0, 0, 0, 1440, 1980)\n",
      "(361, datetime.date(2016, 4, 26), 0, 0.0, 0.0, 0.0, 0.0, 0.0, 0.0, 0.0, 0, 0, 0, 1440, 1980)\n",
      "(362, datetime.date(2016, 4, 27), 0, 0.0, 0.0, 0.0, 0.0, 0.0, 0.0, 0.0, 0, 0, 0, 1440, 1980)\n",
      "(363, datetime.date(2016, 4, 28), 0, 0.0, 0.0, 0.0, 0.0, 0.0, 0.0, 0.0, 0, 0, 0, 1440, 1980)\n",
      "(364, datetime.date(2016, 4, 29), 0, 0.0, 0.0, 0.0, 0.0, 0.0, 0.0, 0.0, 0, 0, 0, 1440, 1980)\n",
      "(365, datetime.date(2016, 4, 30), 0, 0.0, 0.0, 0.0, 0.0, 0.0, 0.0, 0.0, 0, 0, 0, 1440, 1980)\n",
      "(366, datetime.date(2016, 5, 1), 0, 0.0, 0.0, 0.0, 0.0, 0.0, 0.0, 0.0, 0, 0, 0, 1440, 1980)\n",
      "(367, datetime.date(2016, 5, 2), 475, 0.34, 0.34, 0.0, 0.0, 0.04, 0.29, 0.0, 0, 11, 31, 1350, 2207)\n",
      "(368, datetime.date(2016, 5, 3), 4496, 3.22, 3.22, 0.0, 0.0, 0.0, 3.15, 0.05, 0, 0, 174, 950, 2828)\n",
      "(369, datetime.date(2016, 5, 4), 10252, 7.35, 7.35, 0.0, 0.67, 1.04, 5.58, 0.0, 13, 46, 346, 531, 3879)\n",
      "(370, datetime.date(2016, 5, 5), 11728, 8.43, 8.43, 0.0, 2.62, 1.68, 4.04, 0.07, 38, 42, 196, 916, 3429)\n",
      "(371, datetime.date(2016, 5, 6), 4369, 3.13, 3.13, 0.0, 0.0, 0.0, 3.1, 0.01, 0, 0, 177, 855, 2704)\n",
      "(372, datetime.date(2016, 5, 7), 6132, 4.4, 4.4, 0.0, 0.0, 0.0, 3.58, 0.0, 0, 0, 184, 1256, 2975)\n",
      "(373, datetime.date(2016, 5, 8), 5862, 4.2, 4.2, 0.0, 0.0, 0.0, 4.15, 0.0, 0, 0, 263, 775, 3089)\n",
      "(374, datetime.date(2016, 5, 9), 4556, 3.27, 3.27, 0.0, 0.2, 0.12, 2.94, 0.0, 3, 5, 173, 1225, 2785)\n",
      "(375, datetime.date(2016, 5, 10), 5546, 3.98, 3.98, 0.0, 0.0, 0.0, 3.87, 0.04, 0, 0, 206, 774, 2926)\n",
      "(376, datetime.date(2016, 5, 11), 3689, 2.65, 2.65, 0.0, 0.11, 0.17, 2.33, 0.0, 2, 8, 134, 1296, 2645)\n",
      "(377, datetime.date(2016, 5, 12), 590, 0.42, 0.42, 0.0, 0.0, 0.0, 0.41, 0.0, 0, 0, 21, 721, 1120)\n",
      "(378, datetime.date(2016, 4, 12), 5394, 4.03, 4.03, 0.0, 0.0, 0.0, 3.94, 0.0, 0, 0, 164, 1276, 2286)\n",
      "(379, datetime.date(2016, 4, 13), 5974, 4.47, 4.47, 0.0, 0.0, 0.0, 4.37, 0.0, 0, 0, 160, 1280, 2306)\n",
      "(380, datetime.date(2016, 4, 14), 0, 0.0, 0.0, 0.0, 0.0, 0.0, 0.0, 0.0, 0, 0, 0, 1440, 1776)\n",
      "(381, datetime.date(2016, 4, 15), 3984, 2.95, 2.95, 0.0, 0.21, 0.26, 2.44, 0.0, 3, 6, 88, 873, 1527)\n",
      "(382, datetime.date(2016, 4, 12), 7753, 5.2, 5.2, 0.0, 0.0, 0.0, 0.0, 0.0, 0, 0, 0, 1440, 2115)\n",
      "(383, datetime.date(2016, 4, 13), 8204, 5.5, 5.5, 0.0, 0.53, 0.59, 1.31, 0.0, 8, 15, 96, 1234, 2135)\n",
      "(384, datetime.date(2016, 4, 14), 10210, 6.88, 6.88, 0.0, 0.11, 0.33, 6.44, 0.0, 1, 9, 339, 589, 2302)\n",
      "(385, datetime.date(2016, 4, 15), 5664, 3.8, 3.8, 0.0, 0.0, 0.0, 3.8, 0.0, 0, 0, 228, 752, 1985)\n",
      "(386, datetime.date(2016, 4, 16), 4744, 3.18, 3.18, 0.0, 0.0, 0.0, 3.18, 0.0, 0, 0, 194, 724, 1884)\n",
      "(387, datetime.date(2016, 4, 17), 29, 0.02, 0.02, 0.0, 0.0, 0.0, 0.02, 0.0, 0, 0, 3, 1363, 1464)\n",
      "(388, datetime.date(2016, 4, 18), 2276, 1.55, 1.55, 0.0, 0.07, 0.33, 1.12, 0.0, 1, 9, 58, 824, 1632)\n",
      "(389, datetime.date(2016, 4, 19), 8925, 5.99, 5.99, 0.0, 0.0, 0.0, 5.99, 0.0, 0, 0, 311, 604, 2200)\n",
      "(390, datetime.date(2016, 4, 20), 8954, 6.01, 6.01, 0.0, 0.0, 0.68, 5.31, 0.0, 0, 18, 306, 671, 2220)\n",
      "(391, datetime.date(2016, 4, 21), 3702, 2.48, 2.48, 0.0, 0.0, 0.0, 0.35, 0.0, 0, 0, 34, 1265, 1792)\n",
      "(392, datetime.date(2016, 4, 22), 4500, 3.02, 3.02, 0.0, 0.06, 0.81, 2.15, 0.0, 1, 19, 176, 709, 1886)\n",
      "(393, datetime.date(2016, 4, 23), 4935, 3.31, 3.31, 0.0, 0.0, 0.0, 3.31, 0.0, 0, 0, 233, 546, 1945)\n",
      "(394, datetime.date(2016, 4, 24), 4081, 2.74, 2.74, 0.0, 0.06, 0.2, 2.47, 0.0, 1, 5, 191, 692, 1880)\n",
      "(395, datetime.date(2016, 4, 25), 9259, 6.21, 6.21, 0.0, 0.0, 0.28, 5.93, 0.0, 0, 8, 390, 544, 2314)\n",
      "(396, datetime.date(2016, 4, 26), 9899, 6.64, 6.64, 0.0, 0.57, 0.92, 5.15, 0.0, 8, 21, 288, 649, 2236)\n",
      "(397, datetime.date(2016, 4, 27), 10780, 7.23, 7.23, 0.0, 0.41, 1.92, 4.91, 0.0, 6, 47, 300, 680, 2324)\n",
      "(398, datetime.date(2016, 4, 28), 10817, 7.28, 7.28, 0.0, 1.01, 0.33, 5.94, 0.0, 13, 8, 359, 552, 2367)\n",
      "(399, datetime.date(2016, 4, 29), 7990, 5.36, 5.36, 0.0, 0.45, 0.79, 4.12, 0.0, 6, 18, 289, 624, 2175)\n",
      "(400, datetime.date(2016, 4, 30), 8221, 5.52, 5.52, 0.0, 0.4, 1.61, 3.51, 0.0, 6, 38, 196, 695, 2092)\n",
      "(401, datetime.date(2016, 5, 1), 1251, 0.84, 0.84, 0.0, 0.0, 0.0, 0.84, 0.0, 0, 0, 67, 836, 1593)\n",
      "(402, datetime.date(2016, 5, 2), 9261, 6.24, 6.24, 0.0, 0.0, 0.44, 5.71, 0.0, 0, 11, 344, 585, 2270)\n",
      "(403, datetime.date(2016, 5, 3), 9648, 6.47, 6.47, 0.0, 0.58, 1.07, 4.83, 0.0, 8, 26, 287, 669, 2235)\n",
      "(404, datetime.date(2016, 5, 4), 10429, 7.02, 7.02, 0.0, 0.59, 0.58, 5.85, 0.0, 8, 13, 313, 1106, 2282)\n",
      "(405, datetime.date(2016, 5, 5), 13658, 9.49, 9.49, 0.0, 2.63, 1.41, 5.45, 0.0, 27, 34, 328, 957, 2530)\n",
      "(406, datetime.date(2016, 5, 6), 9524, 6.42, 6.42, 0.0, 0.41, 0.47, 5.46, 0.0, 6, 11, 314, 692, 2266)\n",
      "(407, datetime.date(2016, 5, 7), 7937, 5.33, 5.33, 0.0, 0.19, 1.05, 4.08, 0.0, 3, 28, 279, 586, 2158)\n",
      "(408, datetime.date(2016, 5, 8), 3672, 2.46, 2.46, 0.0, 0.0, 0.0, 2.46, 0.0, 0, 0, 153, 603, 1792)\n",
      "(409, datetime.date(2016, 5, 9), 10378, 6.96, 6.96, 0.0, 0.14, 0.56, 6.25, 0.0, 2, 14, 374, 490, 2345)\n",
      "(410, datetime.date(2016, 5, 10), 9487, 6.37, 6.37, 0.0, 0.21, 0.46, 5.7, 0.0, 3, 12, 329, 555, 2260)\n",
      "(411, datetime.date(2016, 5, 11), 9129, 6.13, 6.13, 0.0, 0.2, 0.74, 5.18, 0.0, 3, 18, 311, 574, 2232)\n",
      "(412, datetime.date(2016, 5, 12), 17, 0.01, 0.01, 0.0, 0.0, 0.0, 0.01, 0.0, 0, 0, 2, 0, 257)\n",
      "(413, datetime.date(2016, 4, 12), 10122, 7.78, 7.78, 0.0, 0.0, 0.0, 0.0, 0.0, 0, 0, 0, 1440, 2955)\n",
      "(414, datetime.date(2016, 4, 13), 10993, 8.45, 8.45, 0.0, 0.06, 0.63, 3.88, 0.0, 1, 14, 150, 1275, 3092)\n",
      "(415, datetime.date(2016, 4, 14), 8863, 6.82, 6.82, 0.0, 0.13, 1.07, 5.62, 0.0, 10, 35, 219, 945, 2998)\n",
      "(416, datetime.date(2016, 4, 15), 8758, 6.73, 6.73, 0.0, 0.0, 0.0, 6.73, 0.0, 0, 0, 299, 837, 3066)\n",
      "(417, datetime.date(2016, 4, 16), 6580, 5.06, 5.06, 0.0, 0.21, 0.4, 4.45, 0.0, 6, 9, 253, 609, 3073)\n",
      "(418, datetime.date(2016, 4, 17), 4660, 3.58, 3.58, 0.0, 0.0, 0.0, 3.58, 0.0, 0, 0, 201, 721, 2572)\n",
      "(419, datetime.date(2016, 4, 18), 11009, 9.1, 9.1, 0.0, 3.56, 0.4, 5.14, 0.0, 27, 8, 239, 1017, 3274)\n",
      "(420, datetime.date(2016, 4, 19), 10181, 7.83, 7.83, 0.0, 1.37, 0.69, 5.77, 0.0, 20, 16, 249, 704, 3015)\n",
      "(421, datetime.date(2016, 4, 20), 10553, 8.12, 8.12, 0.0, 1.1, 1.72, 5.29, 0.0, 19, 42, 228, 696, 3083)\n",
      "(422, datetime.date(2016, 4, 21), 10055, 7.73, 7.73, 0.0, 0.37, 0.39, 6.98, 0.0, 7, 12, 272, 853, 3069)\n",
      "(423, datetime.date(2016, 4, 22), 12139, 9.34, 9.34, 0.0, 3.3, 1.11, 4.92, 0.0, 77, 25, 220, 945, 3544)\n",
      "(424, datetime.date(2016, 4, 23), 13236, 10.18, 10.18, 0.0, 4.5, 0.32, 5.35, 0.0, 58, 5, 215, 749, 3306)\n",
      "(425, datetime.date(2016, 4, 24), 10243, 7.88, 7.88, 0.0, 1.08, 0.51, 6.3, 0.0, 14, 8, 239, 584, 2885)\n",
      "(426, datetime.date(2016, 4, 25), 12961, 9.97, 9.97, 0.0, 0.73, 1.4, 7.84, 0.0, 11, 31, 301, 1054, 3288)\n",
      "(427, datetime.date(2016, 4, 26), 9461, 7.28, 7.28, 0.0, 0.94, 1.06, 5.27, 0.0, 14, 23, 224, 673, 2929)\n",
      "(428, datetime.date(2016, 4, 27), 11193, 8.61, 8.61, 0.0, 0.7, 2.51, 5.39, 0.0, 11, 48, 241, 684, 3074)\n",
      "(429, datetime.date(2016, 4, 28), 10074, 7.75, 7.75, 0.0, 1.29, 0.43, 6.03, 0.0, 19, 9, 234, 878, 2969)\n",
      "(430, datetime.date(2016, 4, 29), 9232, 7.1, 7.1, 0.0, 0.8, 0.89, 5.42, 0.0, 13, 16, 236, 1175, 2979)\n",
      "(431, datetime.date(2016, 4, 30), 12533, 9.64, 9.64, 0.0, 0.7, 2.0, 6.94, 0.0, 14, 43, 300, 537, 3283)\n",
      "(432, datetime.date(2016, 5, 1), 10255, 7.89, 7.89, 0.0, 1.01, 0.68, 6.2, 0.0, 12, 15, 241, 579, 2926)\n",
      "(433, datetime.date(2016, 5, 2), 10096, 8.4, 8.4, 0.0, 3.77, 0.08, 4.55, 0.0, 33, 4, 204, 935, 3147)\n",
      "(434, datetime.date(2016, 5, 3), 12727, 9.79, 9.79, 0.0, 1.13, 0.78, 7.88, 0.0, 18, 18, 306, 984, 3290)\n",
      "(435, datetime.date(2016, 5, 4), 12375, 9.52, 9.52, 0.0, 2.79, 0.93, 5.8, 0.0, 35, 21, 251, 632, 3162)\n",
      "(436, datetime.date(2016, 5, 5), 9603, 7.38, 7.38, 0.0, 0.63, 1.67, 5.09, 0.0, 12, 39, 199, 896, 2899)\n",
      "(437, datetime.date(2016, 5, 6), 13175, 10.13, 10.13, 0.0, 2.11, 2.09, 5.93, 0.0, 33, 45, 262, 1100, 3425)\n",
      "(438, datetime.date(2016, 5, 7), 22770, 17.54, 17.54, 0.0, 9.45, 2.77, 5.33, 0.0, 120, 56, 260, 508, 4022)\n",
      "(439, datetime.date(2016, 5, 8), 17298, 14.38, 14.38, 0.0, 9.89, 1.26, 3.23, 0.0, 107, 38, 178, 576, 3934)\n",
      "(440, datetime.date(2016, 5, 9), 10218, 7.86, 7.86, 0.0, 0.34, 0.73, 6.79, 0.0, 6, 19, 258, 1020, 3013)\n",
      "(441, datetime.date(2016, 5, 10), 10299, 7.92, 7.92, 0.0, 0.81, 0.65, 6.46, 0.0, 13, 14, 267, 648, 3061)\n",
      "(442, datetime.date(2016, 5, 11), 10201, 7.84, 7.84, 0.0, 0.53, 0.79, 6.53, 0.0, 8, 18, 256, 858, 2954)\n",
      "(443, datetime.date(2016, 5, 12), 3369, 2.59, 2.59, 0.0, 0.0, 0.0, 2.59, 0.0, 0, 0, 108, 825, 1623)\n",
      "(444, datetime.date(2016, 4, 12), 3276, 2.2, 2.2, 0.0, 0.0, 0.0, 2.2, 0.0, 0, 0, 196, 787, 2113)\n",
      "(445, datetime.date(2016, 4, 13), 2961, 1.99, 1.99, 0.0, 0.0, 0.0, 1.99, 0.0, 0, 0, 194, 840, 2095)\n",
      "(446, datetime.date(2016, 4, 14), 3974, 2.67, 2.67, 0.0, 0.0, 0.0, 2.67, 0.0, 0, 0, 231, 717, 2194)\n",
      "(447, datetime.date(2016, 4, 15), 7198, 4.83, 4.83, 0.0, 0.0, 0.0, 4.83, 0.0, 0, 0, 350, 711, 2496)\n",
      "(448, datetime.date(2016, 4, 16), 3945, 2.65, 2.65, 0.0, 0.0, 0.0, 2.65, 0.0, 0, 0, 225, 716, 2180)\n",
      "(449, datetime.date(2016, 4, 17), 2268, 1.52, 1.52, 0.0, 0.0, 0.0, 1.52, 0.0, 0, 0, 114, 1219, 1933)\n",
      "(450, datetime.date(2016, 4, 18), 6155, 4.24, 4.24, 0.0, 2.0, 0.29, 1.95, 0.0, 25, 6, 162, 1247, 2248)\n",
      "(451, datetime.date(2016, 4, 19), 2064, 1.39, 1.39, 0.0, 0.0, 0.0, 1.39, 0.0, 0, 0, 121, 895, 1954)\n",
      "(452, datetime.date(2016, 4, 20), 2072, 1.39, 1.39, 0.0, 0.0, 0.0, 1.39, 0.0, 0, 0, 137, 841, 1974)\n",
      "(453, datetime.date(2016, 4, 21), 3809, 2.56, 2.56, 0.0, 0.0, 0.0, 2.54, 0.0, 0, 0, 215, 756, 2150)\n",
      "(454, datetime.date(2016, 4, 22), 6831, 4.58, 4.58, 0.0, 0.0, 0.0, 4.58, 0.0, 0, 0, 317, 706, 2432)\n",
      "(455, datetime.date(2016, 4, 23), 4363, 2.93, 2.93, 0.0, 0.0, 0.0, 2.93, 0.0, 0, 0, 201, 1239, 2149)\n",
      "(456, datetime.date(2016, 4, 24), 5002, 3.36, 3.36, 0.0, 0.0, 0.0, 3.36, 0.0, 0, 0, 244, 1196, 2247)\n",
      "(457, datetime.date(2016, 4, 25), 3385, 2.27, 2.27, 0.0, 0.0, 0.0, 2.27, 0.0, 0, 0, 179, 916, 2070)\n",
      "(458, datetime.date(2016, 4, 26), 6326, 4.41, 4.41, 0.0, 2.41, 0.04, 1.96, 0.0, 29, 1, 180, 839, 2291)\n",
      "(459, datetime.date(2016, 4, 27), 7243, 5.03, 5.03, 0.0, 2.62, 0.03, 2.38, 0.0, 32, 1, 194, 839, 2361)\n",
      "(460, datetime.date(2016, 4, 28), 4493, 3.01, 3.01, 0.0, 0.0, 0.0, 3.01, 0.0, 0, 0, 236, 762, 2203)\n",
      "(461, datetime.date(2016, 4, 29), 4676, 3.14, 3.14, 0.0, 0.0, 0.0, 3.13, 0.0, 0, 0, 226, 1106, 2196)\n",
      "(462, datetime.date(2016, 4, 30), 6222, 4.18, 4.18, 0.0, 0.0, 0.0, 4.18, 0.0, 0, 0, 290, 797, 2363)\n",
      "(463, datetime.date(2016, 5, 1), 5232, 3.51, 3.51, 0.0, 0.0, 0.0, 3.51, 0.0, 0, 0, 240, 741, 2246)\n",
      "(464, datetime.date(2016, 5, 2), 6910, 4.75, 4.75, 0.0, 2.21, 0.19, 2.35, 0.0, 27, 4, 200, 667, 2336)\n",
      "(465, datetime.date(2016, 5, 3), 7502, 5.18, 5.18, 0.0, 2.48, 0.11, 2.58, 0.0, 30, 2, 233, 725, 2421)\n",
      "(466, datetime.date(2016, 5, 4), 2923, 1.96, 1.96, 0.0, 0.0, 0.0, 1.96, 0.0, 0, 0, 180, 897, 2070)\n",
      "(467, datetime.date(2016, 5, 5), 3800, 2.55, 2.55, 0.0, 0.12, 0.24, 2.18, 0.0, 2, 6, 185, 734, 2120)\n",
      "(468, datetime.date(2016, 5, 6), 4514, 3.03, 3.03, 0.0, 0.0, 0.0, 3.03, 0.0, 0, 0, 229, 809, 2211)\n",
      "(469, datetime.date(2016, 5, 7), 5183, 3.59, 3.59, 0.0, 2.13, 0.19, 1.25, 0.0, 26, 4, 108, 866, 2123)\n",
      "(470, datetime.date(2016, 5, 8), 7303, 4.9, 4.9, 0.0, 0.0, 0.25, 4.65, 0.0, 0, 8, 308, 733, 2423)\n",
      "(471, datetime.date(2016, 5, 9), 5275, 3.54, 3.54, 0.0, 0.0, 0.0, 3.54, 0.0, 0, 0, 266, 641, 2281)\n",
      "(472, datetime.date(2016, 5, 10), 3915, 2.63, 2.63, 0.0, 0.0, 0.0, 2.63, 0.0, 0, 0, 231, 783, 2181)\n",
      "(473, datetime.date(2016, 5, 11), 9105, 6.11, 6.11, 0.0, 2.25, 1.0, 2.86, 0.0, 34, 22, 232, 622, 2499)\n",
      "(474, datetime.date(2016, 5, 12), 768, 0.52, 0.52, 0.0, 0.0, 0.0, 0.52, 0.0, 0, 0, 58, 380, 1212)\n",
      "(475, datetime.date(2016, 4, 12), 5135, 3.39, 3.39, 0.0, 0.0, 0.0, 3.39, 0.0, 0, 0, 318, 1122, 1909)\n",
      "(476, datetime.date(2016, 4, 13), 4978, 3.29, 3.29, 0.0, 1.24, 0.44, 1.61, 0.0, 19, 7, 127, 1287, 1722)\n",
      "(477, datetime.date(2016, 4, 14), 6799, 4.49, 4.49, 0.0, 0.0, 0.0, 4.49, 0.0, 0, 0, 279, 1161, 1922)\n",
      "(478, datetime.date(2016, 4, 15), 7795, 5.15, 5.15, 0.0, 0.59, 0.84, 3.73, 0.0, 17, 30, 262, 1131, 2121)\n",
      "(479, datetime.date(2016, 4, 16), 7289, 4.82, 4.82, 0.0, 0.55, 0.75, 3.5, 0.0, 8, 12, 308, 1112, 1997)\n",
      "(480, datetime.date(2016, 4, 17), 9634, 6.4, 6.4, 0.0, 0.55, 1.14, 4.71, 0.0, 7, 19, 304, 1110, 2117)\n",
      "(481, datetime.date(2016, 4, 18), 8940, 5.91, 5.91, 0.0, 0.98, 0.93, 4.0, 0.0, 14, 15, 331, 1080, 2116)\n",
      "(482, datetime.date(2016, 4, 19), 5401, 3.57, 3.57, 0.0, 0.05, 0.36, 3.16, 0.0, 1, 9, 248, 1182, 1876)\n",
      "(483, datetime.date(2016, 4, 20), 4803, 3.17, 3.17, 0.0, 0.0, 0.0, 3.17, 0.0, 0, 0, 222, 1218, 1788)\n",
      "(484, datetime.date(2016, 4, 21), 13743, 9.08, 9.08, 0.0, 0.42, 0.97, 7.7, 0.0, 6, 21, 432, 844, 2486)\n",
      "(485, datetime.date(2016, 4, 22), 9601, 6.35, 6.35, 0.0, 1.37, 1.5, 3.47, 0.0, 20, 25, 273, 1122, 2094)\n",
      "(486, datetime.date(2016, 4, 23), 6890, 4.55, 4.55, 0.0, 0.34, 0.2, 4.01, 0.0, 5, 5, 308, 1122, 2085)\n",
      "(487, datetime.date(2016, 4, 24), 8563, 5.66, 5.66, 0.0, 0.0, 0.0, 5.65, 0.0, 0, 0, 395, 1045, 2173)\n",
      "(488, datetime.date(2016, 4, 25), 8095, 5.35, 5.35, 0.0, 0.59, 0.25, 4.51, 0.0, 18, 10, 340, 993, 2225)\n",
      "(489, datetime.date(2016, 4, 26), 9148, 6.05, 6.05, 0.0, 0.43, 2.03, 3.59, 0.0, 12, 41, 283, 1062, 2223)\n",
      "(490, datetime.date(2016, 4, 27), 9557, 6.32, 6.32, 0.0, 1.96, 0.89, 3.46, 0.0, 27, 14, 312, 1087, 2098)\n",
      "(491, datetime.date(2016, 4, 28), 9451, 6.25, 6.25, 0.0, 0.02, 0.27, 5.95, 0.0, 1, 11, 367, 985, 2185)\n",
      "(492, datetime.date(2016, 4, 29), 7833, 5.18, 5.18, 0.0, 1.02, 1.85, 2.31, 0.0, 15, 29, 197, 1096, 1918)\n",
      "(493, datetime.date(2016, 4, 30), 10319, 6.82, 6.82, 0.0, 0.47, 1.89, 4.46, 0.0, 7, 29, 293, 1111, 2105)\n",
      "(494, datetime.date(2016, 5, 1), 3428, 2.27, 2.27, 0.0, 0.0, 0.0, 2.27, 0.0, 0, 0, 190, 1121, 1692)\n",
      "(495, datetime.date(2016, 5, 2), 7891, 5.22, 5.22, 0.0, 0.0, 0.0, 5.22, 0.0, 0, 0, 383, 1057, 2066)\n",
      "(496, datetime.date(2016, 5, 3), 5267, 3.48, 3.48, 0.0, 0.6, 0.28, 2.6, 0.0, 21, 10, 237, 1172, 1953)\n",
      "(497, datetime.date(2016, 5, 4), 5232, 3.46, 3.46, 0.0, 0.0, 0.0, 3.46, 0.0, 0, 0, 252, 1188, 1842)\n",
      "(498, datetime.date(2016, 5, 5), 10611, 7.01, 7.01, 0.0, 1.01, 0.5, 5.51, 0.0, 14, 8, 370, 1048, 2262)\n",
      "(499, datetime.date(2016, 5, 6), 3755, 2.48, 2.48, 0.0, 0.0, 0.0, 2.48, 0.0, 0, 0, 202, 1238, 1722)\n",
      "(500, datetime.date(2016, 5, 7), 8237, 5.44, 5.44, 0.0, 1.61, 1.0, 2.83, 0.0, 23, 16, 233, 1116, 1973)\n",
      "(501, datetime.date(2016, 5, 8), 6543, 4.33, 4.33, 0.0, 1.8, 0.5, 2.02, 0.0, 66, 35, 238, 1019, 2666)\n",
      "(502, datetime.date(2016, 5, 9), 11451, 7.57, 7.57, 0.0, 0.43, 1.62, 5.52, 0.0, 6, 30, 339, 1065, 2223)\n",
      "(503, datetime.date(2016, 5, 10), 6435, 4.25, 4.25, 0.0, 0.74, 1.12, 2.39, 0.0, 11, 18, 220, 1191, 1889)\n",
      "(504, datetime.date(2016, 5, 11), 9108, 6.02, 6.02, 0.0, 0.26, 1.82, 3.94, 0.0, 4, 31, 324, 1081, 2131)\n",
      "(505, datetime.date(2016, 5, 12), 6307, 4.17, 4.17, 0.0, 0.0, 0.0, 4.17, 0.0, 0, 0, 247, 736, 1452)\n",
      "(506, datetime.date(2016, 4, 12), 7213, 5.88, 5.88, 0.0, 0.0, 0.0, 5.85, 0.0, 0, 0, 263, 718, 2947)\n",
      "(507, datetime.date(2016, 4, 13), 6877, 5.58, 5.58, 0.0, 0.0, 0.0, 5.58, 0.0, 0, 0, 258, 777, 2898)\n",
      "(508, datetime.date(2016, 4, 14), 7860, 6.37, 6.37, 0.0, 0.0, 0.0, 6.37, 0.0, 0, 0, 271, 772, 2984)\n",
      "(509, datetime.date(2016, 4, 15), 6506, 5.28, 5.28, 0.0, 0.07, 0.42, 4.79, 0.0, 1, 8, 256, 944, 2896)\n",
      "(510, datetime.date(2016, 4, 16), 11140, 9.03, 9.03, 0.0, 0.24, 1.25, 7.54, 0.0, 3, 24, 335, 556, 3328)\n",
      "(511, datetime.date(2016, 4, 17), 12692, 10.29, 10.29, 0.0, 0.96, 3.46, 5.88, 0.0, 12, 66, 302, 437, 3394)\n",
      "(512, datetime.date(2016, 4, 18), 9105, 7.38, 7.38, 0.0, 1.82, 1.49, 4.07, 0.0, 22, 30, 191, 890, 3013)\n",
      "(513, datetime.date(2016, 4, 19), 6708, 5.44, 5.44, 0.0, 0.88, 0.37, 4.19, 0.0, 10, 8, 179, 757, 2812)\n",
      "(514, datetime.date(2016, 4, 20), 8793, 7.13, 7.13, 0.0, 0.16, 1.23, 5.73, 0.0, 2, 29, 260, 717, 3061)\n",
      "(515, datetime.date(2016, 4, 21), 6530, 5.3, 5.3, 0.0, 0.31, 2.05, 2.94, 0.0, 4, 41, 144, 901, 2729)\n",
      "(516, datetime.date(2016, 4, 22), 1664, 1.35, 1.35, 0.0, 0.0, 0.0, 1.35, 0.0, 0, 0, 72, 1341, 2241)\n",
      "(517, datetime.date(2016, 4, 23), 15126, 12.27, 12.27, 0.0, 0.76, 3.24, 8.27, 0.0, 9, 66, 408, 469, 3691)\n",
      "(518, datetime.date(2016, 4, 24), 15050, 12.22, 12.22, 0.0, 1.2, 5.12, 5.88, 0.0, 15, 95, 281, 542, 3538)\n",
      "(519, datetime.date(2016, 4, 25), 9167, 7.43, 7.43, 0.0, 0.49, 0.82, 6.11, 0.0, 6, 15, 270, 730, 3064)\n",
      "(520, datetime.date(2016, 4, 26), 6108, 4.95, 4.95, 0.0, 0.07, 0.35, 4.54, 0.0, 1, 8, 216, 765, 2784)\n",
      "(521, datetime.date(2016, 4, 27), 7047, 5.72, 5.72, 0.0, 0.09, 0.8, 4.78, 0.0, 1, 16, 238, 733, 2908)\n",
      "(522, datetime.date(2016, 4, 28), 9023, 7.32, 7.32, 0.0, 1.13, 0.42, 5.77, 0.0, 14, 9, 232, 738, 3033)\n",
      "(523, datetime.date(2016, 4, 29), 9930, 8.05, 8.05, 0.0, 1.06, 0.92, 6.07, 0.0, 12, 19, 267, 692, 3165)\n",
      "(524, datetime.date(2016, 4, 30), 10144, 8.23, 8.23, 0.0, 0.32, 2.03, 5.88, 0.0, 4, 36, 263, 728, 3115)\n",
      "(525, datetime.date(2016, 5, 1), 0, 0.0, 0.0, 0.0, 0.0, 0.0, 0.0, 0.0, 0, 0, 0, 1440, 2017)\n",
      "(526, datetime.date(2016, 5, 2), 7245, 5.92, 5.92, 0.0, 0.38, 1.74, 3.76, 0.0, 5, 40, 195, 1131, 2859)\n",
      "(527, datetime.date(2016, 5, 3), 9454, 7.67, 7.67, 0.0, 0.0, 0.0, 7.67, 0.0, 0, 0, 313, 729, 3145)\n",
      "(528, datetime.date(2016, 5, 4), 8161, 6.62, 6.62, 0.0, 0.34, 0.73, 5.54, 0.0, 4, 15, 251, 757, 3004)\n",
      "(529, datetime.date(2016, 5, 5), 8614, 6.99, 6.99, 0.0, 0.67, 0.22, 6.09, 0.0, 8, 5, 241, 745, 3006)\n",
      "(530, datetime.date(2016, 5, 6), 6943, 5.63, 5.63, 0.0, 0.08, 0.66, 4.87, 0.0, 1, 16, 207, 682, 2859)\n",
      "(531, datetime.date(2016, 5, 7), 14370, 11.65, 11.65, 0.0, 0.37, 2.31, 8.97, 0.0, 5, 46, 439, 577, 3683)\n",
      "(532, datetime.date(2016, 5, 8), 12857, 10.43, 10.43, 0.0, 0.68, 6.21, 3.54, 0.0, 9, 125, 192, 1019, 3287)\n",
      "(533, datetime.date(2016, 5, 9), 8232, 6.68, 6.68, 0.0, 0.0, 0.57, 6.1, 0.0, 0, 12, 253, 746, 2990)\n",
      "(534, datetime.date(2016, 5, 10), 10613, 8.61, 8.61, 0.0, 0.08, 1.88, 6.65, 0.0, 1, 37, 262, 701, 3172)\n",
      "(535, datetime.date(2016, 5, 11), 9810, 7.96, 7.96, 0.0, 0.78, 2.16, 4.98, 0.0, 10, 41, 235, 784, 3069)\n",
      "(536, datetime.date(2016, 5, 12), 2752, 2.23, 2.23, 0.0, 0.0, 0.0, 2.23, 0.0, 0, 0, 68, 241, 1240)\n",
      "(537, datetime.date(2016, 4, 12), 11596, 7.57, 7.57, 0.0, 1.37, 0.79, 5.41, 0.0, 19, 13, 277, 767, 2026)\n",
      "(538, datetime.date(2016, 4, 13), 4832, 3.16, 3.16, 0.0, 0.0, 0.0, 3.16, 0.0, 0, 0, 226, 647, 1718)\n",
      "(539, datetime.date(2016, 4, 14), 17022, 11.12, 11.12, 0.0, 4.0, 2.45, 4.67, 0.0, 61, 41, 256, 693, 2324)\n",
      "(540, datetime.date(2016, 4, 15), 16556, 10.86, 10.86, 0.0, 4.16, 1.98, 4.71, 0.0, 58, 38, 239, 689, 2254)\n",
      "(541, datetime.date(2016, 4, 16), 5771, 3.77, 3.77, 0.0, 0.0, 0.0, 3.77, 0.0, 0, 0, 288, 521, 1831)\n",
      "(542, datetime.date(2016, 4, 17), 655, 0.43, 0.43, 0.0, 0.0, 0.0, 0.43, 0.0, 0, 0, 46, 943, 1397)\n",
      "(543, datetime.date(2016, 4, 18), 3727, 2.43, 2.43, 0.0, 0.0, 0.0, 2.43, 0.0, 0, 0, 206, 622, 1683)\n",
      "(544, datetime.date(2016, 4, 19), 15482, 10.11, 10.11, 0.0, 4.28, 1.66, 4.18, 0.0, 69, 28, 249, 756, 2284)\n",
      "(545, datetime.date(2016, 4, 20), 2713, 1.77, 1.77, 0.0, 0.0, 0.0, 1.77, 0.0, 0, 0, 148, 598, 1570)\n",
      "(546, datetime.date(2016, 4, 21), 12346, 8.06, 8.06, 0.0, 2.95, 2.16, 2.96, 0.0, 47, 42, 177, 801, 2066)\n",
      "(547, datetime.date(2016, 4, 22), 11682, 7.63, 7.63, 0.0, 1.38, 0.63, 5.6, 0.0, 25, 16, 270, 781, 2105)\n",
      "(548, datetime.date(2016, 4, 23), 4112, 2.69, 2.69, 0.0, 0.0, 0.0, 2.68, 0.0, 0, 0, 272, 443, 1776)\n",
      "(549, datetime.date(2016, 4, 24), 1807, 1.18, 1.18, 0.0, 0.0, 0.0, 1.18, 0.0, 0, 0, 104, 582, 1507)\n",
      "(550, datetime.date(2016, 4, 25), 10946, 7.19, 7.19, 0.0, 2.93, 0.57, 3.69, 0.0, 51, 11, 201, 732, 2033)\n",
      "(551, datetime.date(2016, 4, 26), 11886, 7.76, 7.76, 0.0, 2.37, 0.93, 4.46, 0.0, 40, 18, 238, 750, 2093)\n",
      "(552, datetime.date(2016, 4, 27), 10538, 6.88, 6.88, 0.0, 1.14, 1.0, 4.74, 0.0, 16, 16, 206, 745, 1922)\n",
      "(553, datetime.date(2016, 4, 28), 11393, 7.63, 7.63, 0.0, 3.71, 0.75, 3.17, 0.0, 49, 13, 165, 727, 1999)\n",
      "(554, datetime.date(2016, 4, 29), 12764, 8.33, 8.33, 0.0, 2.79, 0.64, 4.91, 0.0, 46, 15, 270, 709, 2169)\n",
      "(555, datetime.date(2016, 4, 30), 1202, 0.78, 0.78, 0.0, 0.0, 0.0, 0.78, 0.0, 0, 0, 84, 506, 1463)\n",
      "(556, datetime.date(2016, 5, 1), 5164, 3.37, 3.37, 0.0, 0.0, 0.0, 3.37, 0.0, 0, 0, 237, 436, 1747)\n",
      "(557, datetime.date(2016, 5, 2), 9769, 6.38, 6.38, 0.0, 1.06, 0.41, 4.9, 0.0, 23, 9, 227, 724, 1996)\n",
      "(558, datetime.date(2016, 5, 3), 12848, 8.39, 8.39, 0.0, 1.5, 1.2, 5.68, 0.0, 26, 29, 247, 812, 2116)\n",
      "(559, datetime.date(2016, 5, 4), 4249, 2.77, 2.77, 0.0, 0.0, 0.0, 2.77, 0.0, 0, 0, 224, 651, 1698)\n",
      "(560, datetime.date(2016, 5, 5), 14331, 9.51, 9.51, 0.0, 3.43, 1.66, 4.43, 0.0, 44, 29, 241, 692, 2156)\n",
      "(561, datetime.date(2016, 5, 6), 9632, 6.29, 6.29, 0.0, 1.52, 0.54, 4.23, 0.0, 21, 9, 229, 761, 1916)\n",
      "(562, datetime.date(2016, 5, 7), 1868, 1.22, 1.22, 0.0, 0.0, 0.0, 1.22, 0.0, 0, 0, 96, 902, 1494)\n",
      "(563, datetime.date(2016, 5, 8), 6083, 4.0, 4.0, 0.0, 0.22, 0.47, 3.3, 0.0, 3, 8, 210, 505, 1762)\n",
      "(564, datetime.date(2016, 5, 9), 11611, 7.58, 7.58, 0.0, 2.13, 0.89, 4.56, 0.0, 59, 22, 251, 667, 2272)\n",
      "(565, datetime.date(2016, 5, 10), 16358, 10.71, 10.71, 0.0, 3.87, 1.61, 5.2, 0.0, 61, 40, 265, 707, 2335)\n",
      "(566, datetime.date(2016, 5, 11), 4926, 3.22, 3.22, 0.0, 0.0, 0.0, 3.22, 0.0, 0, 0, 195, 628, 1693)\n",
      "(567, datetime.date(2016, 5, 12), 3121, 2.04, 2.04, 0.0, 0.58, 0.4, 1.06, 0.0, 8, 6, 48, 222, 741)\n",
      "(568, datetime.date(2016, 4, 12), 8135, 6.08, 6.08, 0.0, 3.6, 0.38, 2.1, 0.0, 86, 16, 140, 728, 3405)\n",
      "(569, datetime.date(2016, 4, 13), 5077, 3.79, 3.79, 0.0, 0.32, 0.22, 3.25, 0.0, 15, 11, 144, 776, 2551)\n",
      "(570, datetime.date(2016, 4, 14), 8596, 6.42, 6.42, 0.0, 3.33, 0.31, 2.78, 0.0, 118, 30, 176, 662, 4022)\n",
      "(571, datetime.date(2016, 4, 15), 12087, 9.08, 9.08, 0.0, 3.92, 1.6, 3.56, 0.0, 115, 54, 199, 695, 4005)\n",
      "(572, datetime.date(2016, 4, 16), 14269, 10.66, 10.66, 0.0, 6.64, 1.28, 2.73, 0.0, 184, 56, 158, 472, 4274)\n",
      "(573, datetime.date(2016, 4, 17), 12231, 9.14, 9.14, 0.0, 5.98, 0.83, 2.32, 0.0, 200, 37, 159, 525, 4552)\n",
      "(574, datetime.date(2016, 4, 18), 9893, 7.39, 7.39, 0.0, 4.86, 0.72, 1.82, 0.0, 114, 32, 130, 623, 3625)\n",
      "(575, datetime.date(2016, 4, 19), 12574, 9.42, 9.42, 0.0, 7.02, 0.64, 1.76, 0.0, 108, 23, 111, 733, 3501)\n",
      "(576, datetime.date(2016, 4, 20), 8330, 6.22, 6.22, 0.0, 4.12, 0.34, 1.76, 0.0, 87, 16, 113, 773, 3192)\n",
      "(577, datetime.date(2016, 4, 21), 10830, 8.09, 8.09, 0.0, 3.65, 1.66, 2.78, 0.0, 110, 74, 175, 670, 4018)\n",
      "(578, datetime.date(2016, 4, 22), 9172, 6.85, 6.85, 0.0, 2.42, 0.79, 3.3, 0.0, 62, 30, 200, 823, 3329)\n",
      "(579, datetime.date(2016, 4, 23), 7638, 5.71, 5.71, 0.0, 1.21, 0.36, 4.14, 0.0, 24, 24, 223, 627, 3152)\n",
      "(580, datetime.date(2016, 4, 24), 15764, 11.78, 11.78, 0.0, 7.65, 2.15, 1.98, 0.0, 210, 65, 141, 425, 4392)\n",
      "(581, datetime.date(2016, 4, 25), 6393, 4.78, 4.78, 0.0, 1.35, 0.67, 2.76, 0.0, 61, 38, 214, 743, 3374)\n",
      "(582, datetime.date(2016, 4, 26), 5325, 3.98, 3.98, 0.0, 0.85, 0.65, 2.47, 0.0, 38, 32, 181, 759, 3088)\n",
      "(583, datetime.date(2016, 4, 27), 6805, 5.14, 5.14, 0.0, 1.81, 0.4, 2.93, 0.0, 63, 16, 190, 773, 3294)\n",
      "(584, datetime.date(2016, 4, 28), 9841, 7.43, 7.43, 0.0, 3.25, 1.17, 3.01, 0.0, 99, 51, 141, 692, 3580)\n",
      "(585, datetime.date(2016, 4, 29), 7924, 5.92, 5.92, 0.0, 2.84, 0.61, 2.47, 0.0, 97, 36, 165, 739, 3544)\n",
      "(586, datetime.date(2016, 4, 30), 12363, 9.24, 9.24, 0.0, 5.83, 0.79, 2.61, 0.0, 207, 45, 163, 621, 4501)\n",
      "(587, datetime.date(2016, 5, 1), 13368, 9.99, 9.99, 0.0, 5.31, 1.44, 3.24, 0.0, 194, 72, 178, 499, 4546)\n",
      "(588, datetime.date(2016, 5, 2), 7439, 5.56, 5.56, 0.0, 1.12, 0.35, 4.07, 0.0, 37, 20, 235, 732, 3014)\n",
      "(589, datetime.date(2016, 5, 3), 11045, 8.25, 8.25, 0.0, 4.52, 0.15, 3.57, 0.0, 97, 8, 212, 580, 3795)\n",
      "(590, datetime.date(2016, 5, 4), 5206, 3.89, 3.89, 0.0, 1.56, 0.25, 2.08, 0.0, 25, 9, 141, 631, 2755)\n",
      "(591, datetime.date(2016, 5, 5), 7550, 5.64, 5.64, 0.0, 2.5, 0.47, 2.67, 0.0, 45, 21, 143, 1153, 3004)\n",
      "(592, datetime.date(2016, 5, 6), 4950, 3.7, 3.7, 0.0, 1.93, 0.32, 1.45, 0.0, 41, 16, 79, 1304, 2643)\n",
      "(593, datetime.date(2016, 5, 7), 0, 0.0, 0.0, 0.0, 0.0, 0.0, 0.0, 0.0, 0, 0, 0, 1440, 1819)\n",
      "(594, datetime.date(2016, 5, 8), 0, 0.0, 0.0, 0.0, 0.0, 0.0, 0.0, 0.0, 0, 0, 0, 1440, 1819)\n",
      "(595, datetime.date(2016, 5, 9), 3421, 2.56, 2.56, 0.0, 1.43, 0.14, 0.99, 0.0, 34, 11, 70, 1099, 2489)\n",
      "(596, datetime.date(2016, 5, 10), 8869, 6.65, 6.65, 0.0, 2.56, 0.75, 3.35, 0.0, 104, 37, 194, 639, 3841)\n",
      "(597, datetime.date(2016, 5, 11), 4038, 3.04, 3.04, 0.0, 1.83, 0.3, 0.89, 0.0, 45, 15, 63, 257, 1665)\n",
      "(598, datetime.date(2016, 4, 12), 0, 0.0, 0.0, 0.0, 0.0, 0.0, 0.0, 0.0, 0, 0, 0, 1440, 1496)\n",
      "(599, datetime.date(2016, 4, 13), 0, 0.0, 0.0, 0.0, 0.0, 0.0, 0.0, 0.0, 0, 0, 0, 1440, 1496)\n",
      "(600, datetime.date(2016, 4, 14), 0, 0.0, 0.0, 0.0, 0.0, 0.0, 0.0, 0.0, 0, 0, 0, 1440, 1496)\n",
      "(601, datetime.date(2016, 4, 15), 14019, 10.59, 10.59, 0.0, 0.0, 0.28, 10.3, 0.0, 0, 6, 513, 921, 2865)\n",
      "(602, datetime.date(2016, 4, 16), 14450, 10.91, 10.91, 0.0, 0.58, 0.85, 9.48, 0.0, 7, 15, 518, 502, 2828)\n",
      "(603, datetime.date(2016, 4, 17), 7150, 5.4, 5.4, 0.0, 0.0, 0.0, 5.4, 0.0, 0, 0, 312, 702, 2225)\n",
      "(604, datetime.date(2016, 4, 18), 5153, 3.91, 3.91, 0.0, 0.0, 0.0, 3.89, 0.0, 0, 0, 241, 759, 2018)\n",
      "(605, datetime.date(2016, 4, 19), 11135, 8.41, 8.41, 0.0, 0.0, 0.0, 8.41, 0.0, 0, 0, 480, 425, 2606)\n",
      "(606, datetime.date(2016, 4, 20), 10449, 8.02, 8.02, 0.0, 2.03, 0.48, 5.52, 0.0, 26, 10, 349, 587, 2536)\n",
      "(607, datetime.date(2016, 4, 21), 19542, 15.01, 15.01, 0.0, 0.98, 0.4, 5.62, 0.0, 11, 19, 294, 579, 4900)\n",
      "(608, datetime.date(2016, 4, 22), 8206, 6.2, 6.2, 0.0, 0.0, 0.0, 6.2, 0.0, 0, 0, 402, 413, 2409)\n",
      "(609, datetime.date(2016, 4, 23), 11495, 8.68, 8.68, 0.0, 0.0, 0.0, 8.68, 0.0, 0, 0, 512, 468, 2651)\n",
      "(610, datetime.date(2016, 4, 24), 7623, 5.76, 5.76, 0.0, 0.0, 0.0, 5.76, 0.0, 0, 0, 362, 711, 2305)\n",
      "(611, datetime.date(2016, 4, 25), 0, 0.0, 0.0, 0.0, 0.0, 0.0, 0.0, 0.0, 0, 0, 0, 1440, 1497)\n",
      "(612, datetime.date(2016, 4, 26), 9543, 7.21, 7.21, 0.0, 0.0, 0.34, 6.87, 0.0, 0, 7, 352, 1077, 2450)\n",
      "(613, datetime.date(2016, 4, 27), 9411, 7.11, 7.11, 0.0, 0.0, 0.0, 7.11, 0.0, 0, 0, 458, 417, 2576)\n",
      "(614, datetime.date(2016, 4, 28), 3403, 2.6, 2.6, 0.0, 0.0, 0.0, 2.6, 0.0, 0, 0, 141, 758, 1879)\n",
      "(615, datetime.date(2016, 4, 29), 9592, 7.24, 7.24, 0.0, 0.0, 0.0, 7.24, 0.0, 0, 0, 461, 479, 2560)\n",
      "(616, datetime.date(2016, 4, 30), 6987, 5.28, 5.28, 0.0, 0.0, 0.0, 5.28, 0.0, 0, 0, 343, 1040, 2275)\n",
      "(617, datetime.date(2016, 5, 1), 8915, 6.73, 6.73, 0.0, 0.0, 0.0, 6.73, 0.0, 0, 0, 397, 525, 2361)\n",
      "(618, datetime.date(2016, 5, 2), 4933, 3.73, 3.73, 0.0, 0.0, 0.0, 3.73, 0.0, 0, 0, 236, 1204, 2044)\n",
      "(619, datetime.date(2016, 5, 3), 0, 0.0, 0.0, 0.0, 0.0, 0.0, 0.0, 0.0, 0, 0, 0, 1440, 1496)\n",
      "(620, datetime.date(2016, 5, 4), 2997, 2.26, 2.26, 0.0, 0.0, 0.0, 2.26, 0.0, 0, 0, 156, 1279, 1902)\n",
      "(621, datetime.date(2016, 5, 5), 9799, 7.4, 7.4, 0.0, 0.0, 0.0, 7.4, 0.0, 0, 0, 487, 479, 2636)\n",
      "(622, datetime.date(2016, 5, 6), 3365, 2.68, 2.68, 0.0, 0.0, 0.0, 2.68, 0.0, 0, 0, 133, 673, 1838)\n",
      "(623, datetime.date(2016, 5, 7), 7336, 5.54, 5.54, 0.0, 0.0, 0.0, 5.54, 0.0, 0, 0, 412, 456, 2469)\n",
      "(624, datetime.date(2016, 5, 8), 7328, 5.53, 5.53, 0.0, 0.0, 0.0, 5.53, 0.0, 0, 0, 318, 517, 2250)\n",
      "(625, datetime.date(2016, 5, 9), 4477, 3.38, 3.38, 0.0, 0.0, 0.0, 3.38, 0.0, 0, 0, 197, 125, 1248)\n",
      "(626, datetime.date(2016, 4, 12), 4562, 3.45, 3.45, 0.0, 0.0, 0.0, 3.45, 0.0, 0, 0, 199, 1241, 2560)\n",
      "(627, datetime.date(2016, 4, 13), 7142, 5.4, 5.4, 0.0, 0.0, 0.0, 5.39, 0.01, 0, 0, 350, 1090, 2905)\n",
      "(628, datetime.date(2016, 4, 14), 7671, 5.8, 5.8, 0.0, 0.0, 0.0, 5.77, 0.03, 0, 0, 363, 1077, 2952)\n",
      "(629, datetime.date(2016, 4, 15), 9501, 7.18, 7.18, 0.0, 0.0, 0.0, 7.17, 0.01, 0, 0, 328, 1112, 2896)\n",
      "(630, datetime.date(2016, 4, 16), 8301, 6.28, 6.28, 0.0, 0.0, 0.0, 6.27, 0.01, 0, 0, 258, 1182, 2783)\n",
      "(631, datetime.date(2016, 4, 17), 7851, 5.94, 5.94, 0.0, 1.14, 0.79, 4.0, 0.0, 31, 12, 225, 1172, 3171)\n",
      "(632, datetime.date(2016, 4, 18), 6885, 5.21, 5.21, 0.0, 0.0, 0.0, 5.19, 0.02, 0, 0, 271, 1169, 2766)\n",
      "(633, datetime.date(2016, 4, 19), 7142, 5.4, 5.4, 0.0, 0.0, 0.0, 5.39, 0.01, 0, 0, 321, 1119, 2839)\n",
      "(634, datetime.date(2016, 4, 20), 6361, 4.81, 4.81, 0.0, 0.0, 0.0, 4.8, 0.01, 0, 0, 258, 1182, 2701)\n",
      "(635, datetime.date(2016, 4, 21), 0, 0.0, 0.0, 0.0, 0.0, 0.0, 0.0, 0.0, 0, 0, 0, 1440, 2060)\n",
      "(636, datetime.date(2016, 4, 22), 6238, 4.72, 4.72, 0.0, 0.0, 0.0, 4.72, 0.0, 0, 0, 302, 1138, 2796)\n",
      "(637, datetime.date(2016, 4, 23), 0, 0.0, 0.0, 0.0, 0.0, 0.0, 0.0, 0.0, 33, 0, 0, 1407, 2664)\n",
      "(638, datetime.date(2016, 4, 24), 5896, 4.46, 4.46, 0.0, 0.0, 0.0, 4.46, 0.0, 0, 0, 258, 1182, 2703)\n",
      "(639, datetime.date(2016, 4, 25), 7802, 5.9, 5.9, 0.0, 0.68, 0.18, 5.03, 0.01, 8, 3, 249, 1180, 2771)\n",
      "(640, datetime.date(2016, 4, 26), 0, 0.0, 0.0, 0.0, 0.0, 0.0, 0.0, 0.0, 0, 0, 0, 1440, 2060)\n",
      "(641, datetime.date(2016, 4, 27), 5565, 4.21, 4.21, 0.0, 0.0, 0.0, 4.18, 0.03, 0, 0, 287, 1153, 2743)\n",
      "(642, datetime.date(2016, 4, 28), 5731, 4.33, 4.33, 0.0, 0.0, 0.0, 4.33, 0.0, 0, 0, 255, 1185, 2687)\n",
      "(643, datetime.date(2016, 4, 29), 0, 0.0, 0.0, 0.0, 0.0, 0.0, 0.0, 0.0, 0, 0, 0, 1440, 2060)\n",
      "(644, datetime.date(2016, 4, 30), 6744, 5.1, 5.1, 0.0, 0.0, 0.0, 5.09, 0.01, 0, 0, 324, 1116, 2843)\n",
      "(645, datetime.date(2016, 5, 1), 9837, 7.44, 7.44, 0.0, 0.66, 2.75, 4.0, 0.02, 8, 95, 282, 1055, 3327)\n",
      "(646, datetime.date(2016, 5, 2), 6781, 5.13, 5.13, 0.0, 0.0, 0.0, 5.11, 0.02, 0, 0, 268, 1172, 2725)\n",
      "(647, datetime.date(2016, 5, 3), 6047, 4.57, 4.57, 0.0, 0.0, 0.0, 4.57, 0.0, 0, 0, 240, 1200, 2671)\n",
      "(648, datetime.date(2016, 5, 4), 5832, 4.41, 4.41, 0.0, 0.0, 0.0, 4.4, 0.01, 0, 0, 272, 1168, 2718)\n",
      "(649, datetime.date(2016, 5, 5), 6339, 4.79, 4.79, 0.0, 0.0, 0.0, 4.79, 0.0, 0, 0, 239, 1201, 2682)\n",
      "(650, datetime.date(2016, 5, 6), 6116, 4.62, 4.62, 0.0, 0.0, 0.0, 4.59, 0.03, 0, 0, 305, 1135, 2806)\n",
      "(651, datetime.date(2016, 5, 7), 5510, 4.17, 4.17, 0.0, 0.0, 0.0, 4.16, 0.0, 0, 0, 227, 1213, 2613)\n",
      "(652, datetime.date(2016, 5, 8), 7706, 5.83, 5.83, 0.0, 0.0, 0.0, 5.82, 0.0, 0, 0, 251, 1189, 2712)\n",
      "(653, datetime.date(2016, 5, 9), 6277, 4.75, 4.75, 0.0, 0.0, 0.0, 4.73, 0.02, 0, 0, 264, 800, 2175)\n",
      "(654, datetime.date(2016, 5, 10), 0, 0.0, 0.0, 0.0, 0.0, 0.0, 0.0, 0.0, 0, 0, 0, 1440, 0)\n",
      "(655, datetime.date(2016, 4, 12), 0, 0.0, 0.0, 0.0, 0.0, 0.0, 0.0, 0.0, 0, 0, 0, 1440, 1841)\n",
      "(656, datetime.date(2016, 4, 13), 4053, 2.91, 2.91, 0.0, 1.11, 0.58, 1.22, 0.0, 17, 18, 85, 1053, 2400)\n",
      "(657, datetime.date(2016, 4, 14), 5162, 3.7, 3.7, 0.0, 0.87, 0.86, 1.97, 0.0, 14, 24, 105, 863, 2507)\n",
      "(658, datetime.date(2016, 4, 15), 1282, 0.92, 0.92, 0.0, 0.0, 0.0, 0.92, 0.0, 0, 0, 58, 976, 2127)\n",
      "(659, datetime.date(2016, 4, 16), 4732, 3.39, 3.39, 0.0, 2.52, 0.81, 0.06, 0.0, 36, 18, 9, 1377, 2225)\n",
      "(660, datetime.date(2016, 4, 17), 2497, 1.79, 1.79, 0.0, 0.35, 1.13, 0.31, 0.0, 5, 24, 19, 1392, 2067)\n",
      "(661, datetime.date(2016, 4, 18), 8294, 5.95, 5.95, 0.0, 2.0, 0.77, 3.17, 0.0, 30, 31, 146, 1233, 2798)\n",
      "(662, datetime.date(2016, 4, 19), 0, 0.0, 0.0, 0.0, 0.0, 0.0, 0.0, 0.0, 0, 0, 0, 1440, 1841)\n",
      "(663, datetime.date(2016, 4, 20), 10771, 7.72, 7.72, 0.0, 3.77, 1.74, 2.22, 0.0, 70, 113, 178, 1079, 3727)\n",
      "(664, datetime.date(2016, 4, 21), 0, 0.0, 0.0, 0.0, 0.0, 0.0, 0.0, 0.0, 0, 0, 0, 1440, 1841)\n",
      "(665, datetime.date(2016, 4, 22), 637, 0.46, 0.46, 0.0, 0.0, 0.0, 0.46, 0.0, 0, 0, 20, 1420, 1922)\n",
      "(666, datetime.date(2016, 4, 23), 0, 0.0, 0.0, 0.0, 0.0, 0.0, 0.0, 0.0, 0, 0, 0, 1440, 1841)\n",
      "(667, datetime.date(2016, 4, 24), 2153, 1.54, 1.54, 0.0, 0.77, 0.62, 0.15, 0.0, 11, 18, 11, 1400, 2053)\n",
      "(668, datetime.date(2016, 4, 25), 6474, 4.64, 4.64, 0.0, 2.27, 0.46, 1.9, 0.0, 33, 13, 92, 1302, 2484)\n",
      "(669, datetime.date(2016, 4, 26), 7091, 5.27, 5.27, 1.9596, 3.48, 0.87, 0.73, 0.0, 42, 30, 47, 1321, 2584)\n",
      "(670, datetime.date(2016, 4, 27), 0, 0.0, 0.0, 0.0, 0.0, 0.0, 0.0, 0.0, 0, 0, 0, 1440, 1841)\n",
      "(671, datetime.date(2016, 4, 28), 703, 0.5, 0.5, 0.0, 0.06, 0.2, 0.24, 0.0, 2, 13, 15, 1410, 1993)\n",
      "(672, datetime.date(2016, 4, 29), 0, 0.0, 0.0, 0.0, 0.0, 0.0, 0.0, 0.0, 0, 0, 0, 1440, 1841)\n",
      "(673, datetime.date(2016, 4, 30), 2503, 1.79, 1.79, 0.0, 0.16, 0.16, 1.48, 0.0, 3, 9, 84, 1344, 2280)\n",
      "(674, datetime.date(2016, 5, 1), 2487, 1.78, 1.78, 0.0, 0.48, 0.62, 0.68, 0.0, 9, 34, 50, 1347, 2319)\n",
      "(675, datetime.date(2016, 5, 2), 0, 0.0, 0.0, 0.0, 0.0, 0.0, 0.0, 0.0, 0, 0, 0, 1440, 1841)\n",
      "(676, datetime.date(2016, 5, 3), 9, 0.01, 0.01, 0.0, 0.0, 0.0, 0.01, 0.0, 0, 0, 1, 1439, 1843)\n",
      "(677, datetime.date(2016, 5, 4), 0, 0.0, 0.0, 0.0, 0.0, 0.0, 0.0, 0.0, 0, 0, 0, 1440, 1841)\n",
      "(678, datetime.date(2016, 5, 5), 0, 0.0, 0.0, 0.0, 0.0, 0.0, 0.0, 0.0, 0, 0, 0, 1440, 1841)\n",
      "(679, datetime.date(2016, 5, 6), 4697, 3.37, 3.37, 0.0, 0.47, 0.93, 1.93, 0.0, 12, 35, 75, 1318, 2496)\n",
      "(680, datetime.date(2016, 5, 7), 1967, 1.41, 1.41, 0.0, 0.13, 0.24, 1.05, 0.0, 2, 5, 49, 551, 1032)\n",
      "(681, datetime.date(2016, 4, 12), 10199, 6.74, 6.74, 0.0, 3.4, 0.83, 2.51, 0.0, 50, 14, 189, 796, 1994)\n",
      "(682, datetime.date(2016, 4, 13), 5652, 3.74, 3.74, 0.0, 0.57, 1.21, 1.96, 0.0, 8, 24, 142, 548, 1718)\n",
      "(683, datetime.date(2016, 4, 14), 1551, 1.03, 1.03, 0.0, 0.0, 0.0, 1.03, 0.0, 0, 0, 86, 862, 1466)\n",
      "(684, datetime.date(2016, 4, 15), 5563, 3.68, 3.68, 0.0, 0.0, 0.0, 3.68, 0.0, 0, 0, 217, 837, 1756)\n",
      "(685, datetime.date(2016, 4, 16), 13217, 8.74, 8.74, 0.0, 3.66, 0.19, 4.88, 0.0, 50, 3, 280, 741, 2173)\n",
      "(686, datetime.date(2016, 4, 17), 10145, 6.71, 6.71, 0.0, 0.33, 0.68, 5.69, 0.0, 5, 13, 295, 634, 2027)\n",
      "(687, datetime.date(2016, 4, 18), 11404, 7.54, 7.54, 0.0, 0.83, 2.39, 4.32, 0.0, 13, 42, 238, 689, 2039)\n",
      "(688, datetime.date(2016, 4, 19), 10742, 7.1, 7.1, 0.0, 2.1, 2.13, 2.87, 0.0, 35, 41, 195, 659, 2046)\n",
      "(689, datetime.date(2016, 4, 20), 13928, 9.55, 9.55, 0.0, 4.28, 0.19, 5.09, 0.0, 48, 4, 297, 639, 2174)\n",
      "(690, datetime.date(2016, 4, 21), 11835, 9.71, 7.88, 4.08169, 3.99, 2.1, 3.51, 0.11, 53, 27, 214, 708, 2179)\n",
      "(691, datetime.date(2016, 4, 22), 10725, 7.09, 7.09, 0.0, 1.77, 1.55, 3.77, 0.0, 30, 33, 240, 659, 2086)\n",
      "(692, datetime.date(2016, 4, 23), 20031, 13.24, 13.24, 0.0, 4.2, 2.0, 7.04, 0.0, 58, 41, 347, 484, 2571)\n",
      "(693, datetime.date(2016, 4, 24), 5029, 3.32, 3.32, 0.0, 0.0, 0.0, 3.32, 0.0, 0, 0, 199, 720, 1705)\n",
      "(694, datetime.date(2016, 4, 25), 13239, 9.27, 9.08, 2.78518, 3.02, 1.68, 4.46, 0.1, 35, 31, 282, 637, 2194)\n",
      "(695, datetime.date(2016, 4, 26), 10433, 6.9, 6.9, 0.0, 2.58, 0.42, 3.9, 0.0, 36, 7, 254, 680, 2012)\n",
      "(696, datetime.date(2016, 4, 27), 10320, 6.82, 6.82, 0.0, 0.55, 2.02, 4.25, 0.0, 7, 38, 279, 697, 2034)\n",
      "(697, datetime.date(2016, 4, 28), 12627, 8.35, 8.35, 0.0, 2.51, 0.24, 5.59, 0.0, 38, 8, 288, 621, 2182)\n",
      "(698, datetime.date(2016, 4, 29), 10762, 7.11, 7.11, 0.0, 0.82, 0.48, 5.81, 0.0, 12, 15, 369, 645, 2254)\n",
      "(699, datetime.date(2016, 4, 30), 10081, 6.66, 6.66, 0.0, 2.24, 0.76, 3.67, 0.0, 32, 16, 237, 731, 2002)\n",
      "(700, datetime.date(2016, 5, 1), 5454, 3.61, 3.61, 0.0, 0.0, 0.0, 3.61, 0.0, 0, 0, 215, 722, 1740)\n",
      "(701, datetime.date(2016, 5, 2), 12912, 8.54, 8.54, 0.0, 1.2, 2.0, 5.34, 0.0, 18, 39, 313, 655, 2162)\n",
      "(702, datetime.date(2016, 5, 3), 12109, 8.12, 8.12, 0.0, 1.74, 2.04, 4.33, 0.0, 21, 36, 267, 654, 2072)\n",
      "(703, datetime.date(2016, 5, 4), 10147, 6.71, 6.71, 0.0, 0.47, 1.68, 4.55, 0.0, 15, 36, 284, 683, 2086)\n",
      "(704, datetime.date(2016, 5, 5), 10524, 6.96, 6.96, 0.0, 0.99, 1.16, 4.81, 0.0, 14, 22, 305, 591, 2066)\n",
      "(705, datetime.date(2016, 5, 6), 5908, 3.91, 3.91, 0.0, 0.0, 0.0, 3.91, 0.0, 0, 0, 299, 717, 1850)\n",
      "(706, datetime.date(2016, 5, 7), 6815, 4.5, 4.5, 0.0, 0.0, 0.0, 4.5, 0.0, 0, 0, 328, 745, 1947)\n",
      "(707, datetime.date(2016, 5, 8), 4188, 2.77, 2.77, 0.0, 0.0, 0.52, 2.25, 0.0, 0, 14, 151, 709, 1659)\n",
      "(708, datetime.date(2016, 5, 9), 12342, 8.72, 8.68, 3.16782, 3.9, 1.18, 3.65, 0.0, 43, 21, 231, 607, 2105)\n",
      "(709, datetime.date(2016, 5, 10), 15448, 10.21, 10.21, 0.0, 3.47, 1.75, 4.99, 0.0, 62, 34, 275, 626, 2361)\n",
      "(710, datetime.date(2016, 5, 11), 6722, 4.44, 4.44, 0.0, 1.49, 0.31, 2.65, 0.0, 24, 7, 199, 709, 1855)\n",
      "(711, datetime.date(2016, 5, 12), 3587, 2.37, 2.37, 0.0, 0.0, 0.25, 2.11, 0.0, 0, 8, 105, 127, 928)\n",
      "(712, datetime.date(2016, 4, 12), 14172, 10.29, 9.48, 4.86978, 4.5, 0.38, 5.41, 0.0, 53, 8, 355, 1024, 2937)\n",
      "(713, datetime.date(2016, 4, 13), 12862, 9.65, 8.6, 4.85131, 4.61, 0.56, 4.48, 0.0, 56, 22, 261, 1101, 2742)\n",
      "(714, datetime.date(2016, 4, 14), 11179, 8.24, 7.48, 3.28541, 2.95, 0.34, 4.96, 0.0, 34, 6, 304, 1096, 2668)\n",
      "(715, datetime.date(2016, 4, 15), 5273, 3.53, 3.53, 0.0, 0.0, 0.0, 3.53, 0.0, 0, 0, 202, 1238, 2098)\n",
      "(716, datetime.date(2016, 4, 16), 4631, 3.1, 3.1, 0.0, 0.0, 0.0, 3.1, 0.0, 0, 0, 203, 1155, 2076)\n",
      "(717, datetime.date(2016, 4, 17), 8059, 5.39, 5.39, 0.0, 0.0, 0.0, 5.39, 0.0, 0, 0, 305, 1135, 2383)\n",
      "(718, datetime.date(2016, 4, 18), 14816, 10.98, 9.91, 4.93055, 3.79, 2.12, 5.05, 0.02, 48, 31, 284, 1077, 2832)\n",
      "(719, datetime.date(2016, 4, 19), 14194, 10.48, 9.5, 4.94214, 4.41, 0.76, 5.31, 0.0, 53, 17, 304, 1066, 2812)\n",
      "(720, datetime.date(2016, 4, 20), 15566, 11.31, 10.41, 4.92484, 4.79, 0.67, 5.86, 0.0, 60, 33, 347, 1000, 3096)\n",
      "(721, datetime.date(2016, 4, 21), 13744, 9.19, 9.19, 0.0, 2.15, 1.87, 5.17, 0.0, 30, 34, 327, 1049, 2763)\n",
      "(722, datetime.date(2016, 4, 22), 15299, 10.24, 10.24, 0.0, 4.1, 1.76, 4.37, 0.0, 64, 50, 261, 1065, 2889)\n",
      "(723, datetime.date(2016, 4, 23), 8093, 5.41, 5.41, 0.0, 0.13, 1.13, 4.15, 0.0, 2, 25, 223, 1190, 2284)\n",
      "(724, datetime.date(2016, 4, 24), 11085, 7.42, 7.42, 0.0, 0.0, 0.0, 7.42, 0.0, 0, 0, 419, 1021, 2667)\n",
      "(725, datetime.date(2016, 4, 25), 18229, 13.34, 12.2, 4.86179, 4.31, 1.37, 7.67, 0.0, 51, 24, 379, 986, 3055)\n",
      "(726, datetime.date(2016, 4, 26), 15090, 10.1, 10.1, 0.0, 0.93, 0.94, 8.23, 0.0, 16, 22, 424, 978, 2939)\n",
      "(727, datetime.date(2016, 4, 27), 13541, 10.22, 9.06, 4.8856, 4.27, 0.66, 5.29, 0.0, 50, 12, 337, 1041, 2830)\n",
      "(728, datetime.date(2016, 4, 28), 15128, 10.12, 10.12, 0.0, 1.09, 0.77, 8.26, 0.0, 16, 16, 401, 1007, 2836)\n",
      "(729, datetime.date(2016, 4, 29), 20067, 14.3, 13.42, 4.91115, 4.31, 2.05, 7.95, 0.0, 55, 42, 382, 961, 3180)\n",
      "(730, datetime.date(2016, 4, 30), 3761, 2.52, 2.52, 0.0, 0.0, 0.0, 2.52, 0.0, 0, 0, 200, 1240, 2051)\n",
      "(731, datetime.date(2016, 5, 1), 5600, 3.75, 3.75, 0.0, 0.0, 0.0, 3.75, 0.0, 0, 0, 237, 1142, 2225)\n",
      "(732, datetime.date(2016, 5, 2), 13041, 9.18, 8.72, 2.83233, 4.64, 0.7, 3.83, 0.0, 64, 14, 250, 1112, 2642)\n",
      "(733, datetime.date(2016, 5, 3), 14510, 10.87, 9.71, 4.91237, 4.48, 1.02, 5.36, 0.0, 58, 31, 330, 1021, 2976)\n",
      "(734, datetime.date(2016, 5, 4), 0, 0.0, 0.0, 0.0, 0.0, 0.0, 0.0, 0.0, 0, 0, 0, 1440, 1557)\n",
      "(735, datetime.date(2016, 5, 5), 15010, 11.1, 10.04, 4.87823, 4.33, 1.29, 5.48, 0.0, 53, 23, 317, 1047, 2933)\n",
      "(736, datetime.date(2016, 5, 6), 11459, 7.67, 7.67, 0.0, 3.0, 0.81, 3.86, 0.0, 44, 13, 247, 1136, 2553)\n",
      "(737, datetime.date(2016, 5, 7), 0, 0.0, 0.0, 0.0, 0.0, 0.0, 0.0, 0.0, 0, 0, 0, 111, 120)\n",
      "(738, datetime.date(2016, 4, 12), 11317, 8.41, 8.41, 0.0, 5.27, 0.15, 2.97, 0.0, 59, 6, 153, 745, 2772)\n",
      "(739, datetime.date(2016, 4, 13), 5813, 3.62, 3.62, 0.0, 0.56, 0.21, 2.84, 0.0, 31, 26, 155, 744, 2516)\n",
      "(740, datetime.date(2016, 4, 14), 9123, 6.12, 6.12, 0.0, 2.03, 0.33, 3.66, 0.0, 35, 32, 189, 787, 2734)\n",
      "(741, datetime.date(2016, 4, 15), 8585, 5.67, 5.67, 0.0, 2.04, 1.11, 2.53, 0.0, 30, 21, 139, 864, 2395)\n",
      "(742, datetime.date(2016, 4, 16), 31, 0.01, 0.01, 0.0, 0.0, 0.0, 0.01, 0.0, 0, 0, 3, 1437, 1635)\n",
      "(743, datetime.date(2016, 4, 17), 0, 0.0, 0.0, 0.0, 0.0, 0.0, 0.0, 0.0, 0, 0, 0, 1440, 1629)\n",
      "(744, datetime.date(2016, 4, 18), 9827, 6.71, 6.71, 0.0, 3.17, 1.22, 2.31, 0.0, 61, 51, 114, 1136, 2743)\n",
      "(745, datetime.date(2016, 4, 19), 10688, 7.29, 7.29, 0.0, 3.53, 1.23, 2.51, 0.0, 67, 69, 124, 671, 2944)\n",
      "(746, datetime.date(2016, 4, 20), 14365, 10.64, 10.64, 0.0, 7.64, 0.45, 2.54, 0.0, 87, 13, 145, 797, 2997)\n",
      "(747, datetime.date(2016, 4, 21), 9469, 6.18, 6.18, 0.0, 1.36, 0.3, 4.51, 0.0, 19, 6, 206, 758, 2463)\n",
      "(748, datetime.date(2016, 4, 22), 9753, 6.53, 6.53, 0.0, 2.87, 0.97, 2.67, 0.0, 58, 59, 153, 762, 2846)\n",
      "(749, datetime.date(2016, 4, 23), 2817, 1.81, 1.81, 0.0, 0.0, 0.0, 1.8, 0.0, 0, 0, 90, 1350, 1965)\n",
      "(750, datetime.date(2016, 4, 24), 3520, 2.16, 2.16, 0.0, 0.0, 0.0, 2.15, 0.0, 0, 0, 125, 566, 2049)\n",
      "(751, datetime.date(2016, 4, 25), 10091, 6.82, 6.82, 0.0, 3.75, 0.7, 2.37, 0.0, 69, 39, 129, 706, 2752)\n",
      "(752, datetime.date(2016, 4, 26), 10387, 7.07, 7.07, 0.0, 4.16, 0.77, 2.12, 0.0, 70, 33, 132, 726, 2781)\n",
      "(753, datetime.date(2016, 4, 27), 11107, 8.34, 8.34, 0.0, 5.63, 0.18, 2.53, 0.0, 55, 6, 145, 829, 2693)\n",
      "(754, datetime.date(2016, 4, 28), 11584, 7.8, 7.8, 0.0, 2.79, 1.64, 3.36, 0.0, 54, 48, 161, 810, 2862)\n",
      "(755, datetime.date(2016, 4, 29), 7881, 4.95, 4.95, 0.0, 0.49, 0.45, 4.0, 0.0, 24, 36, 182, 1198, 2616)\n",
      "(756, datetime.date(2016, 4, 30), 14560, 9.41, 9.41, 0.0, 3.12, 1.04, 5.24, 0.0, 42, 17, 308, 584, 2995)\n",
      "(757, datetime.date(2016, 5, 1), 12390, 8.07, 8.07, 0.0, 2.3, 0.9, 4.85, 0.0, 30, 15, 258, 685, 2730)\n",
      "(758, datetime.date(2016, 5, 2), 10052, 6.81, 6.81, 0.0, 3.48, 0.66, 2.66, 0.0, 66, 26, 139, 737, 2754)\n",
      "(759, datetime.date(2016, 5, 3), 10288, 6.76, 6.76, 0.0, 2.74, 0.85, 3.16, 0.0, 57, 36, 152, 761, 2754)\n",
      "(760, datetime.date(2016, 5, 4), 10988, 8.31, 8.31, 0.0, 5.28, 0.12, 2.9, 0.0, 45, 12, 135, 843, 2655)\n",
      "(761, datetime.date(2016, 5, 5), 8564, 5.6, 5.6, 0.0, 1.78, 0.83, 2.95, 0.0, 24, 14, 149, 1253, 2386)\n",
      "(762, datetime.date(2016, 5, 6), 12461, 8.38, 8.38, 0.0, 3.82, 1.43, 3.12, 0.0, 84, 35, 154, 834, 2924)\n",
      "(763, datetime.date(2016, 5, 7), 12827, 8.48, 8.48, 0.0, 1.46, 2.33, 4.68, 0.0, 20, 42, 209, 621, 2739)\n",
      "(764, datetime.date(2016, 5, 8), 10677, 7.1, 7.1, 0.0, 2.31, 1.53, 3.25, 0.0, 32, 27, 147, 695, 2534)\n",
      "(765, datetime.date(2016, 5, 9), 13566, 9.11, 9.11, 0.0, 4.26, 1.71, 3.12, 0.0, 67, 50, 171, 743, 2960)\n",
      "(766, datetime.date(2016, 5, 10), 14433, 10.79, 10.79, 0.0, 7.11, 1.2, 2.45, 0.0, 72, 23, 106, 1182, 2800)\n",
      "(767, datetime.date(2016, 5, 11), 9572, 6.52, 6.52, 0.0, 2.89, 1.39, 2.23, 0.0, 57, 40, 128, 757, 2735)\n",
      "(768, datetime.date(2016, 5, 12), 3789, 2.56, 2.56, 0.0, 0.38, 0.27, 1.89, 0.0, 5, 4, 58, 343, 1199)\n",
      "(769, datetime.date(2016, 4, 12), 18060, 14.12, 14.12, 0.0, 11.64, 0.39, 2.1, 0.0, 116, 8, 123, 1193, 3186)\n",
      "(770, datetime.date(2016, 4, 13), 16433, 13.35, 13.35, 0.0, 10.43, 0.47, 2.45, 0.0, 95, 12, 156, 1177, 3140)\n",
      "(771, datetime.date(2016, 4, 14), 20159, 15.97, 15.97, 0.0, 12.34, 0.21, 3.36, 0.0, 119, 5, 193, 1123, 3411)\n",
      "(772, datetime.date(2016, 4, 15), 20669, 16.24, 16.24, 0.0, 13.26, 0.39, 2.59, 0.0, 132, 8, 158, 1142, 3410)\n",
      "(773, datetime.date(2016, 4, 16), 14549, 11.11, 11.11, 0.0, 9.36, 0.27, 1.49, 0.0, 96, 6, 83, 1255, 2867)\n",
      "(774, datetime.date(2016, 4, 17), 18827, 13.69, 13.69, 0.0, 9.24, 0.8, 3.64, 0.0, 111, 21, 195, 1113, 3213)\n",
      "(775, datetime.date(2016, 4, 18), 17076, 12.66, 12.66, 0.0, 9.08, 0.23, 3.35, 0.0, 102, 6, 195, 1137, 3133)\n",
      "(776, datetime.date(2016, 4, 19), 15929, 12.48, 12.48, 0.0, 9.22, 0.31, 2.95, 0.0, 90, 7, 191, 1152, 3114)\n",
      "(777, datetime.date(2016, 4, 20), 15108, 12.19, 12.19, 0.0, 9.58, 0.23, 2.38, 0.0, 89, 5, 158, 695, 3043)\n",
      "(778, datetime.date(2016, 4, 21), 16057, 12.51, 12.51, 0.0, 9.67, 0.25, 2.58, 0.0, 100, 6, 170, 1164, 3103)\n",
      "(779, datetime.date(2016, 4, 22), 10520, 8.29, 8.29, 0.0, 6.26, 0.15, 1.88, 0.0, 60, 3, 117, 1260, 2655)\n",
      "(780, datetime.date(2016, 4, 23), 22359, 17.19, 17.19, 0.0, 12.54, 0.63, 4.02, 0.0, 125, 14, 223, 741, 3554)\n",
      "(781, datetime.date(2016, 4, 24), 22988, 17.95, 17.95, 0.0, 13.13, 1.55, 3.26, 0.0, 129, 33, 182, 1096, 3577)\n",
      "(782, datetime.date(2016, 4, 25), 20500, 15.69, 15.69, 0.0, 11.37, 0.46, 3.86, 0.0, 118, 9, 209, 1104, 3403)\n",
      "(783, datetime.date(2016, 4, 26), 12685, 9.62, 9.62, 0.0, 6.31, 0.2, 3.1, 0.0, 68, 5, 185, 1182, 2846)\n",
      "(784, datetime.date(2016, 4, 27), 12422, 9.82, 9.82, 0.0, 6.46, 0.43, 2.93, 0.0, 60, 10, 183, 1187, 2852)\n",
      "(785, datetime.date(2016, 4, 28), 15447, 12.4, 12.4, 0.0, 9.67, 0.39, 2.35, 0.0, 90, 9, 153, 1188, 3062)\n",
      "(786, datetime.date(2016, 4, 29), 12315, 9.65, 9.65, 0.0, 6.17, 0.31, 3.17, 0.0, 58, 8, 159, 1215, 2794)\n",
      "(787, datetime.date(2016, 4, 30), 7135, 5.59, 5.59, 0.0, 2.99, 0.06, 2.54, 0.0, 27, 1, 131, 1281, 2408)\n",
      "(788, datetime.date(2016, 5, 1), 1170, 0.85, 0.85, 0.0, 0.0, 0.0, 0.85, 0.0, 0, 0, 51, 1389, 1886)\n",
      "(789, datetime.date(2016, 5, 2), 1969, 1.43, 1.43, 0.0, 0.0, 0.0, 1.43, 0.0, 0, 0, 95, 1345, 1988)\n",
      "(790, datetime.date(2016, 5, 3), 15484, 11.9, 11.9, 0.0, 8.39, 0.93, 2.59, 0.0, 87, 22, 165, 1166, 3023)\n",
      "(791, datetime.date(2016, 5, 4), 14581, 11.15, 11.15, 0.0, 8.82, 0.4, 1.91, 0.0, 89, 8, 123, 1220, 2918)\n",
      "(792, datetime.date(2016, 5, 5), 14990, 11.51, 11.51, 0.0, 8.85, 0.45, 2.21, 0.0, 93, 9, 130, 1208, 2950)\n",
      "(793, datetime.date(2016, 5, 6), 13953, 11.0, 11.0, 0.0, 9.1, 0.69, 1.21, 0.0, 90, 15, 90, 1245, 2859)\n",
      "(794, datetime.date(2016, 5, 7), 19769, 15.67, 15.67, 0.0, 12.44, 0.88, 2.35, 0.0, 121, 20, 148, 1076, 3331)\n",
      "(795, datetime.date(2016, 5, 8), 22026, 17.65, 17.65, 0.0, 13.4, 0.59, 3.66, 0.0, 125, 14, 228, 1073, 3589)\n",
      "(796, datetime.date(2016, 5, 9), 12465, 9.38, 9.38, 0.0, 6.12, 0.57, 2.69, 0.0, 66, 12, 148, 1214, 2765)\n",
      "(797, datetime.date(2016, 5, 10), 14810, 11.36, 11.36, 0.0, 9.09, 0.42, 1.85, 0.0, 96, 10, 115, 1219, 2926)\n",
      "(798, datetime.date(2016, 5, 11), 12209, 9.4, 9.4, 0.0, 6.08, 0.28, 3.04, 0.0, 60, 7, 184, 1189, 2809)\n",
      "(799, datetime.date(2016, 5, 12), 4998, 3.91, 3.91, 0.0, 2.95, 0.2, 0.76, 0.0, 28, 4, 39, 839, 1505)\n",
      "(800, datetime.date(2016, 4, 12), 9033, 7.16, 7.16, 0.0, 5.43, 0.14, 1.59, 0.0, 40, 2, 154, 1244, 2044)\n",
      "(801, datetime.date(2016, 4, 13), 8053, 6.1, 6.1, 0.0, 4.17, 0.63, 1.31, 0.0, 35, 11, 96, 1298, 1935)\n",
      "(802, datetime.date(2016, 4, 14), 5234, 3.46, 3.46, 0.0, 1.93, 0.99, 0.54, 0.0, 29, 16, 33, 1362, 1705)\n",
      "(803, datetime.date(2016, 4, 15), 2672, 1.77, 1.77, 0.0, 0.0, 0.0, 1.76, 0.0, 0, 0, 105, 1335, 1632)\n",
      "(804, datetime.date(2016, 4, 16), 9256, 6.14, 6.14, 0.0, 0.43, 3.27, 2.45, 0.0, 6, 51, 115, 1268, 1880)\n",
      "(805, datetime.date(2016, 4, 17), 10204, 7.91, 7.91, 0.0, 5.43, 0.15, 2.33, 0.0, 41, 5, 157, 1237, 2112)\n",
      "(806, datetime.date(2016, 4, 18), 5151, 3.48, 3.48, 0.0, 1.04, 0.63, 1.8, 0.0, 16, 16, 130, 1278, 1829)\n",
      "(807, datetime.date(2016, 4, 19), 4212, 2.78, 2.78, 0.0, 0.0, 0.0, 2.78, 0.0, 0, 0, 164, 1276, 1763)\n",
      "(808, datetime.date(2016, 4, 20), 6466, 4.27, 4.27, 0.0, 0.33, 0.82, 3.11, 0.01, 5, 18, 216, 1201, 1931)\n",
      "(809, datetime.date(2016, 4, 21), 11268, 8.56, 8.56, 0.0, 5.88, 0.93, 1.75, 0.0, 49, 20, 172, 1199, 2218)\n",
      "(810, datetime.date(2016, 4, 22), 2824, 1.87, 1.87, 0.0, 0.0, 0.0, 1.87, 0.0, 0, 0, 120, 1320, 1651)\n",
      "(811, datetime.date(2016, 4, 23), 9282, 6.26, 6.26, 0.0, 2.09, 1.04, 3.13, 0.0, 30, 26, 191, 1193, 2132)\n",
      "(812, datetime.date(2016, 4, 24), 8905, 7.13, 7.13, 0.0, 5.6, 0.19, 1.34, 0.0, 41, 4, 82, 1313, 1976)\n",
      "(813, datetime.date(2016, 4, 25), 6829, 4.51, 4.51, 0.0, 0.36, 2.39, 1.77, 0.0, 7, 54, 118, 1261, 1909)\n",
      "(814, datetime.date(2016, 4, 26), 4562, 3.04, 3.04, 0.0, 1.18, 0.49, 1.37, 0.0, 19, 14, 108, 1299, 1813)\n",
      "(815, datetime.date(2016, 4, 27), 10232, 8.18, 8.18, 0.0, 6.24, 0.23, 1.7, 0.0, 45, 5, 104, 1286, 2008)\n",
      "(816, datetime.date(2016, 4, 28), 2718, 1.8, 1.8, 0.0, 0.67, 0.78, 0.34, 0.0, 11, 16, 20, 1393, 1580)\n",
      "(817, datetime.date(2016, 4, 29), 6260, 4.26, 4.26, 0.0, 1.29, 0.54, 2.4, 0.0, 16, 14, 136, 1257, 1854)\n",
      "(818, datetime.date(2016, 4, 30), 0, 0.0, 0.0, 0.0, 0.0, 0.0, 0.0, 0.0, 0, 0, 0, 1440, 0)\n",
      "(819, datetime.date(2016, 4, 12), 7626, 6.05, 6.05, 2.25308, 0.83, 0.71, 4.5, 0.0, 65, 15, 156, 723, 3635)\n",
      "(820, datetime.date(2016, 4, 13), 12386, 9.82, 9.82, 2.09215, 4.96, 0.65, 4.21, 0.0, 116, 14, 169, 680, 4079)\n",
      "(821, datetime.date(2016, 4, 14), 13318, 10.56, 10.56, 2.25308, 5.62, 1.03, 3.91, 0.0, 123, 21, 174, 699, 4163)\n",
      "(822, datetime.date(2016, 4, 15), 14461, 11.47, 11.47, 0.0, 4.91, 1.15, 5.41, 0.0, 60, 23, 190, 729, 3666)\n",
      "(823, datetime.date(2016, 4, 16), 11207, 8.89, 8.89, 0.0, 5.37, 1.07, 2.44, 0.0, 64, 21, 142, 563, 3363)\n",
      "(824, datetime.date(2016, 4, 17), 2132, 1.69, 1.69, 0.0, 0.0, 0.0, 1.69, 0.0, 0, 0, 93, 599, 2572)\n",
      "(825, datetime.date(2016, 4, 18), 13630, 10.81, 10.81, 2.09215, 5.05, 0.56, 5.2, 0.0, 117, 10, 174, 720, 4157)\n",
      "(826, datetime.date(2016, 4, 19), 13070, 10.36, 10.36, 2.25308, 5.3, 0.88, 4.18, 0.0, 120, 19, 154, 737, 4092)\n",
      "(827, datetime.date(2016, 4, 20), 9388, 7.44, 7.44, 2.09215, 2.23, 0.44, 4.78, 0.0, 82, 8, 169, 763, 3787)\n",
      "(828, datetime.date(2016, 4, 21), 15148, 12.01, 12.01, 2.25308, 6.9, 0.82, 4.29, 0.0, 137, 16, 145, 677, 4236)\n",
      "(829, datetime.date(2016, 4, 22), 12200, 9.67, 9.67, 2.09215, 4.91, 0.59, 4.18, 0.0, 113, 12, 159, 769, 4044)\n",
      "(830, datetime.date(2016, 4, 23), 5709, 4.53, 4.53, 0.0, 1.52, 0.52, 2.48, 0.0, 19, 10, 136, 740, 2908)\n",
      "(831, datetime.date(2016, 4, 24), 3703, 2.94, 2.94, 0.0, 0.0, 0.0, 2.94, 0.0, 0, 0, 135, 734, 2741)\n",
      "(832, datetime.date(2016, 4, 25), 12405, 9.84, 9.84, 2.09215, 5.05, 0.87, 3.92, 0.0, 117, 16, 141, 692, 4005)\n",
      "(833, datetime.date(2016, 4, 26), 16208, 12.85, 12.85, 0.0, 7.51, 0.92, 4.42, 0.0, 90, 18, 161, 593, 3763)\n",
      "(834, datetime.date(2016, 4, 27), 7359, 5.84, 5.84, 0.0, 0.33, 0.18, 5.33, 0.0, 4, 4, 192, 676, 3061)\n",
      "(835, datetime.date(2016, 4, 28), 5417, 4.3, 4.3, 0.0, 0.9, 0.49, 2.91, 0.0, 11, 10, 139, 711, 2884)\n",
      "(836, datetime.date(2016, 4, 29), 6175, 4.9, 4.9, 0.0, 0.25, 0.36, 4.27, 0.0, 3, 7, 172, 767, 2982)\n",
      "(837, datetime.date(2016, 4, 30), 2946, 2.34, 2.34, 0.0, 0.0, 0.0, 2.34, 0.0, 0, 0, 121, 780, 2660)\n",
      "(838, datetime.date(2016, 5, 1), 11419, 9.06, 9.06, 0.0, 6.03, 0.56, 2.47, 0.0, 71, 10, 127, 669, 3369)\n",
      "(839, datetime.date(2016, 5, 2), 6064, 4.81, 4.81, 2.09215, 0.63, 0.17, 4.01, 0.0, 63, 4, 142, 802, 3491)\n",
      "(840, datetime.date(2016, 5, 3), 8712, 6.91, 6.91, 2.25308, 1.34, 1.06, 4.5, 0.0, 71, 20, 195, 822, 3784)\n",
      "(841, datetime.date(2016, 5, 4), 7875, 6.24, 6.24, 0.0, 1.56, 0.49, 4.2, 0.0, 19, 10, 167, 680, 3110)\n",
      "(842, datetime.date(2016, 5, 5), 8567, 6.79, 6.79, 2.25308, 0.89, 0.16, 5.74, 0.0, 66, 3, 214, 764, 3783)\n",
      "(843, datetime.date(2016, 5, 6), 7045, 5.59, 5.59, 2.09215, 1.55, 0.25, 3.78, 0.0, 74, 5, 166, 831, 3644)\n",
      "(844, datetime.date(2016, 5, 7), 4468, 3.54, 3.54, 0.0, 0.0, 0.0, 3.54, 0.0, 0, 0, 158, 851, 2799)\n",
      "(845, datetime.date(2016, 5, 8), 2943, 2.33, 2.33, 0.0, 0.0, 0.0, 2.33, 0.0, 0, 0, 139, 621, 2685)\n",
      "(846, datetime.date(2016, 5, 9), 8382, 6.65, 6.65, 2.09215, 1.27, 0.66, 4.72, 0.0, 71, 13, 171, 772, 3721)\n",
      "(847, datetime.date(2016, 5, 10), 6582, 5.22, 5.22, 2.25308, 0.66, 0.64, 3.92, 0.0, 63, 13, 152, 840, 3586)\n",
      "(848, datetime.date(2016, 5, 11), 9143, 7.25, 7.25, 2.09215, 1.39, 0.59, 5.27, 0.0, 72, 10, 184, 763, 3788)\n",
      "(849, datetime.date(2016, 5, 12), 4561, 3.62, 3.62, 0.0, 0.65, 0.27, 2.69, 0.0, 8, 6, 102, 433, 1976)\n",
      "(850, datetime.date(2016, 4, 12), 5014, 3.91, 3.91, 0.0, 0.0, 0.33, 3.58, 0.0, 0, 7, 196, 1237, 2650)\n",
      "(851, datetime.date(2016, 4, 13), 5571, 4.35, 4.35, 0.0, 0.15, 0.97, 3.23, 0.0, 2, 23, 163, 1252, 2654)\n",
      "(852, datetime.date(2016, 4, 14), 3135, 2.45, 2.45, 0.0, 0.0, 0.0, 2.43, 0.0, 0, 0, 134, 1306, 2443)\n",
      "(853, datetime.date(2016, 4, 15), 3430, 2.68, 2.68, 0.0, 0.0, 0.0, 0.9, 0.0, 0, 0, 65, 1375, 2505)\n",
      "(854, datetime.date(2016, 4, 16), 5319, 4.15, 4.15, 0.0, 0.0, 0.0, 0.0, 0.0, 0, 0, 0, 1440, 2693)\n",
      "(855, datetime.date(2016, 4, 17), 3008, 2.35, 2.35, 0.0, 0.0, 0.0, 0.0, 0.0, 0, 0, 0, 1440, 2439)\n",
      "(856, datetime.date(2016, 4, 18), 3864, 3.01, 3.01, 0.0, 0.31, 1.06, 1.35, 0.0, 4, 22, 105, 1309, 2536)\n",
      "(857, datetime.date(2016, 4, 19), 5697, 4.44, 4.44, 0.0, 0.53, 0.48, 3.44, 0.0, 7, 10, 166, 1257, 2668)\n",
      "(858, datetime.date(2016, 4, 20), 5273, 4.11, 4.11, 0.0, 0.0, 1.04, 3.07, 0.0, 0, 27, 167, 1246, 2647)\n",
      "(859, datetime.date(2016, 4, 21), 8538, 6.66, 6.66, 0.0, 2.63, 1.02, 3.01, 0.0, 35, 18, 158, 1229, 2883)\n",
      "(860, datetime.date(2016, 4, 22), 8687, 6.78, 6.78, 0.0, 0.29, 2.41, 4.08, 0.0, 4, 54, 212, 1170, 2944)\n",
      "(861, datetime.date(2016, 4, 23), 9423, 7.35, 7.35, 0.0, 0.53, 2.03, 4.75, 0.0, 7, 44, 238, 1151, 3012)\n",
      "(862, datetime.date(2016, 4, 24), 8286, 6.46, 6.46, 0.0, 0.15, 2.05, 4.27, 0.0, 2, 44, 206, 1188, 2889)\n",
      "(863, datetime.date(2016, 4, 25), 4503, 3.51, 3.51, 0.0, 1.47, 0.24, 1.81, 0.0, 18, 6, 122, 1294, 2547)\n",
      "(864, datetime.date(2016, 4, 26), 10499, 8.19, 8.19, 0.0, 0.07, 4.22, 3.89, 0.0, 1, 91, 214, 1134, 3093)\n",
      "(865, datetime.date(2016, 4, 27), 12474, 9.73, 9.73, 0.0, 6.6, 0.27, 2.87, 0.0, 77, 5, 129, 1229, 3142)\n",
      "(866, datetime.date(2016, 4, 28), 6174, 4.82, 4.82, 0.0, 0.0, 1.2, 3.61, 0.0, 0, 28, 203, 1209, 2757)\n",
      "(867, datetime.date(2016, 4, 29), 15168, 11.83, 11.83, 0.0, 3.9, 3.0, 4.92, 0.0, 46, 67, 258, 1069, 3513)\n",
      "(868, datetime.date(2016, 4, 30), 10085, 7.87, 7.87, 0.0, 0.15, 1.28, 6.43, 0.0, 2, 28, 317, 1093, 3164)\n",
      "(869, datetime.date(2016, 5, 1), 4512, 3.52, 3.52, 0.0, 0.78, 0.12, 2.04, 0.0, 10, 2, 117, 1311, 2596)\n",
      "(870, datetime.date(2016, 5, 2), 8469, 6.61, 6.61, 0.0, 0.0, 0.0, 0.0, 0.0, 0, 0, 0, 1440, 2894)\n",
      "(871, datetime.date(2016, 5, 3), 12015, 9.37, 9.37, 0.0, 0.0, 0.0, 0.0, 0.0, 0, 0, 0, 1440, 3212)\n",
      "(872, datetime.date(2016, 5, 4), 3588, 2.8, 2.8, 0.0, 0.0, 0.0, 0.0, 0.0, 0, 0, 0, 1440, 2516)\n",
      "(873, datetime.date(2016, 5, 5), 12427, 9.69, 9.69, 0.0, 0.0, 0.0, 1.18, 0.0, 0, 0, 70, 1370, 3266)\n",
      "(874, datetime.date(2016, 5, 6), 5843, 4.56, 4.56, 0.0, 0.14, 1.19, 3.23, 0.0, 2, 22, 166, 1250, 2683)\n",
      "(875, datetime.date(2016, 5, 7), 6117, 4.77, 4.77, 0.0, 0.0, 0.0, 4.77, 0.0, 0, 0, 250, 1190, 2810)\n",
      "(876, datetime.date(2016, 5, 8), 9217, 7.19, 7.19, 0.0, 0.22, 3.31, 3.66, 0.0, 3, 72, 182, 1183, 2940)\n",
      "(877, datetime.date(2016, 5, 9), 9877, 7.7, 7.7, 0.0, 5.76, 0.17, 1.73, 0.0, 66, 4, 110, 1260, 2947)\n",
      "(878, datetime.date(2016, 5, 10), 8240, 6.43, 6.43, 0.0, 0.69, 2.01, 3.72, 0.0, 9, 43, 162, 1226, 2846)\n",
      "(879, datetime.date(2016, 5, 11), 8701, 6.79, 6.79, 0.0, 0.37, 3.24, 3.17, 0.0, 5, 71, 177, 1106, 2804)\n",
      "(880, datetime.date(2016, 5, 12), 0, 0.0, 0.0, 0.0, 0.0, 0.0, 0.0, 0.0, 0, 0, 0, 1440, 0)\n",
      "(881, datetime.date(2016, 4, 12), 2564, 1.64, 1.64, 0.0, 0.0, 0.0, 1.64, 0.0, 0, 0, 116, 831, 2044)\n",
      "(882, datetime.date(2016, 4, 13), 1320, 0.84, 0.84, 0.0, 0.0, 0.0, 0.84, 0.0, 0, 0, 82, 806, 1934)\n",
      "(883, datetime.date(2016, 4, 14), 1219, 0.78, 0.78, 0.0, 0.0, 0.0, 0.78, 0.0, 0, 0, 84, 853, 1963)\n",
      "(884, datetime.date(2016, 4, 15), 2483, 1.59, 1.59, 0.0, 0.0, 0.0, 1.59, 0.0, 0, 0, 126, 937, 2009)\n",
      "(885, datetime.date(2016, 4, 16), 244, 0.16, 0.16, 0.0, 0.0, 0.0, 0.16, 0.0, 0, 0, 12, 1428, 1721)\n",
      "(886, datetime.date(2016, 4, 17), 0, 0.0, 0.0, 0.0, 0.0, 0.0, 0.0, 0.0, 0, 0, 0, 1440, 1688)\n",
      "(887, datetime.date(2016, 4, 18), 0, 0.0, 0.0, 0.0, 0.0, 0.0, 0.0, 0.0, 0, 0, 0, 1440, 1688)\n",
      "(888, datetime.date(2016, 4, 19), 0, 0.0, 0.0, 0.0, 0.0, 0.0, 0.0, 0.0, 0, 0, 0, 1440, 1688)\n",
      "(889, datetime.date(2016, 4, 20), 3147, 2.01, 2.01, 0.0, 0.0, 0.28, 1.74, 0.0, 0, 10, 139, 744, 2188)\n",
      "(890, datetime.date(2016, 4, 21), 144, 0.09, 0.09, 0.0, 0.0, 0.0, 0.09, 0.0, 0, 0, 9, 1431, 1720)\n",
      "(891, datetime.date(2016, 4, 22), 4068, 2.6, 2.6, 0.0, 0.05, 0.28, 2.27, 0.0, 1, 20, 195, 817, 2419)\n",
      "(892, datetime.date(2016, 4, 23), 5245, 3.36, 3.36, 0.0, 0.16, 0.44, 2.75, 0.0, 8, 45, 232, 795, 2748)\n",
      "(893, datetime.date(2016, 4, 24), 400, 0.26, 0.26, 0.0, 0.04, 0.05, 0.16, 0.0, 3, 8, 19, 1410, 1799)\n",
      "(894, datetime.date(2016, 4, 25), 0, 0.0, 0.0, 0.0, 0.0, 0.0, 0.0, 0.0, 0, 0, 0, 1440, 1688)\n",
      "(895, datetime.date(2016, 4, 26), 1321, 0.85, 0.85, 0.0, 0.0, 0.0, 0.85, 0.0, 0, 0, 80, 1360, 1928)\n",
      "(896, datetime.date(2016, 4, 27), 1758, 1.13, 1.13, 0.0, 0.0, 0.0, 1.13, 0.0, 0, 0, 112, 900, 2067)\n",
      "(897, datetime.date(2016, 4, 28), 6157, 3.94, 3.94, 0.0, 0.0, 0.0, 3.94, 0.0, 0, 0, 310, 714, 2780)\n",
      "(898, datetime.date(2016, 4, 29), 8360, 5.35, 5.35, 0.0, 0.14, 0.28, 4.93, 0.0, 6, 14, 380, 634, 3101)\n",
      "(899, datetime.date(2016, 4, 30), 7174, 4.59, 4.59, 0.0, 0.33, 0.36, 3.91, 0.0, 10, 20, 301, 749, 2896)\n",
      "(900, datetime.date(2016, 5, 1), 1619, 1.04, 1.04, 0.0, 0.0, 0.0, 1.04, 0.0, 0, 0, 79, 834, 1962)\n",
      "(901, datetime.date(2016, 5, 2), 1831, 1.17, 1.17, 0.0, 0.0, 0.0, 1.17, 0.0, 0, 0, 101, 916, 2015)\n",
      "(902, datetime.date(2016, 5, 3), 2421, 1.55, 1.55, 0.0, 0.0, 0.0, 1.55, 0.0, 0, 0, 156, 739, 2297)\n",
      "(903, datetime.date(2016, 5, 4), 2283, 1.46, 1.46, 0.0, 0.0, 0.0, 1.46, 0.0, 0, 0, 129, 848, 2067)\n",
      "(904, datetime.date(2016, 5, 5), 0, 0.0, 0.0, 0.0, 0.0, 0.0, 0.0, 0.0, 0, 0, 0, 1440, 1688)\n",
      "(905, datetime.date(2016, 5, 6), 0, 0.0, 0.0, 0.0, 0.0, 0.0, 0.0, 0.0, 0, 0, 0, 1440, 1688)\n",
      "(906, datetime.date(2016, 5, 7), 0, 0.0, 0.0, 0.0, 0.0, 0.0, 0.0, 0.0, 0, 0, 0, 1440, 1688)\n",
      "(907, datetime.date(2016, 5, 8), 0, 0.0, 0.0, 0.0, 0.0, 0.0, 0.0, 0.0, 0, 0, 0, 1440, 1688)\n",
      "(908, datetime.date(2016, 5, 9), 0, 0.0, 0.0, 0.0, 0.0, 0.0, 0.0, 0.0, 0, 0, 0, 1440, 1688)\n",
      "(909, datetime.date(2016, 5, 10), 0, 0.0, 0.0, 0.0, 0.0, 0.0, 0.0, 0.0, 0, 0, 0, 48, 57)\n",
      "(910, datetime.date(2016, 4, 12), 23186, 20.4, 20.4, 0.0, 12.22, 0.34, 7.82, 0.0, 85, 7, 312, 1036, 3921)\n",
      "(911, datetime.date(2016, 4, 13), 15337, 9.58, 9.58, 0.0, 3.55, 0.38, 5.64, 0.0, 108, 18, 216, 1098, 3566)\n",
      "(912, datetime.date(2016, 4, 14), 21129, 18.98, 18.98, 0.0, 10.55, 0.59, 7.75, 0.02, 68, 13, 298, 1061, 3793)\n",
      "(913, datetime.date(2016, 4, 15), 13422, 7.17, 7.17, 0.0, 0.05, 0.05, 7.01, 0.01, 106, 1, 281, 1052, 3934)\n",
      "(914, datetime.date(2016, 4, 16), 29326, 25.29, 25.29, 0.0, 13.24, 1.21, 10.71, 0.0, 94, 29, 429, 888, 4547)\n",
      "(915, datetime.date(2016, 4, 17), 15118, 8.87, 8.87, 0.0, 0.0, 0.07, 8.79, 0.0, 58, 15, 307, 1060, 3545)\n",
      "(916, datetime.date(2016, 4, 18), 11423, 8.67, 8.67, 0.0, 2.44, 0.27, 5.94, 0.0, 29, 5, 191, 1215, 2761)\n",
      "(917, datetime.date(2016, 4, 19), 18785, 17.4, 17.4, 0.0, 12.15, 0.18, 5.03, 0.0, 82, 13, 214, 1131, 3676)\n",
      "(918, datetime.date(2016, 4, 20), 19948, 18.11, 18.11, 0.0, 11.02, 0.69, 6.34, 0.0, 73, 19, 225, 1123, 3679)\n",
      "(919, datetime.date(2016, 4, 21), 19377, 17.62, 17.62, 0.0, 12.29, 0.42, 4.89, 0.0, 82, 13, 226, 1119, 3659)\n",
      "(920, datetime.date(2016, 4, 22), 18258, 16.31, 16.31, 0.0, 10.23, 0.03, 5.97, 0.05, 61, 2, 236, 1141, 3427)\n",
      "(921, datetime.date(2016, 4, 23), 11200, 7.43, 7.43, 0.0, 0.0, 0.0, 7.4, 0.01, 102, 6, 300, 1032, 3891)\n",
      "(922, datetime.date(2016, 4, 24), 16674, 15.74, 15.74, 0.0, 11.01, 0.01, 4.69, 0.0, 64, 1, 227, 1148, 3455)\n",
      "(923, datetime.date(2016, 4, 25), 12986, 8.74, 8.74, 0.0, 2.37, 0.07, 6.27, 0.01, 113, 8, 218, 1101, 3802)\n",
      "(924, datetime.date(2016, 4, 26), 11101, 8.43, 8.43, 0.0, 1.76, 0.13, 6.5, 0.0, 22, 3, 258, 1157, 2860)\n",
      "(925, datetime.date(2016, 4, 27), 23629, 20.65, 20.65, 0.0, 13.07, 0.44, 7.1, 0.0, 93, 8, 235, 1104, 3808)\n",
      "(926, datetime.date(2016, 4, 28), 14890, 11.3, 11.3, 0.0, 4.93, 0.38, 5.97, 0.0, 58, 8, 231, 1143, 3060)\n",
      "(927, datetime.date(2016, 4, 29), 9733, 7.39, 7.39, 0.0, 1.38, 0.17, 5.79, 0.0, 18, 5, 210, 1207, 2698)\n",
      "(928, datetime.date(2016, 4, 30), 27745, 26.72, 26.72, 0.0, 21.66, 0.08, 4.93, 0.0, 124, 4, 223, 1089, 4398)\n",
      "(929, datetime.date(2016, 5, 1), 10930, 8.32, 8.32, 0.0, 3.13, 0.57, 4.57, 0.0, 36, 12, 166, 1226, 2786)\n",
      "(930, datetime.date(2016, 5, 2), 4790, 3.64, 3.64, 0.0, 0.0, 0.0, 3.56, 0.0, 0, 0, 105, 1335, 2189)\n",
      "(931, datetime.date(2016, 5, 3), 10818, 8.21, 8.21, 0.0, 1.39, 0.1, 6.67, 0.01, 19, 3, 229, 1189, 2817)\n",
      "(932, datetime.date(2016, 5, 4), 18193, 16.3, 16.3, 0.0, 10.42, 0.31, 5.53, 0.0, 66, 8, 212, 1154, 3477)\n",
      "(933, datetime.date(2016, 5, 5), 14055, 10.67, 10.67, 0.0, 5.46, 0.82, 4.37, 0.0, 67, 15, 188, 1170, 3052)\n",
      "(934, datetime.date(2016, 5, 6), 21727, 19.34, 19.34, 0.0, 12.79, 0.29, 6.16, 0.0, 96, 17, 232, 1095, 4015)\n",
      "(935, datetime.date(2016, 5, 7), 12332, 8.13, 8.13, 0.0, 0.08, 0.96, 6.99, 0.0, 105, 28, 271, 1036, 4142)\n",
      "(936, datetime.date(2016, 5, 8), 10686, 8.11, 8.11, 0.0, 1.08, 0.2, 6.8, 0.0, 17, 4, 245, 1174, 2847)\n",
      "(937, datetime.date(2016, 5, 9), 20226, 18.25, 18.25, 0.0, 11.1, 0.8, 6.24, 0.05, 73, 19, 217, 1131, 3710)\n",
      "(938, datetime.date(2016, 5, 10), 10733, 8.15, 8.15, 0.0, 1.35, 0.46, 6.28, 0.0, 18, 11, 224, 1187, 2832)\n",
      "(939, datetime.date(2016, 5, 11), 21420, 19.56, 19.56, 0.0, 13.22, 0.41, 5.89, 0.0, 88, 12, 213, 1127, 3832)\n",
      "(940, datetime.date(2016, 5, 12), 8064, 6.12, 6.12, 0.0, 1.82, 0.04, 4.25, 0.0, 23, 1, 137, 770, 1849)\n"
     ]
    }
   ],
   "source": [
    "conn = msql.connect(host='localhost', database='Daily_Activity', user='root', password='admin')\n",
    "cursor = conn.cursor()\n",
    "# Execute query\n",
    "sql = \"SELECT * FROM Daily_Activity.fitness_data\"\n",
    "cursor.execute(sql)\n",
    "\n",
    "# Fetch all the records\n",
    "result = cursor.fetchall()\n",
    "\n",
    "for i in result:\n",
    "    print(i)\n"
   ]
  },
  {
   "attachments": {},
   "cell_type": "markdown",
   "metadata": {},
   "source": [
    "SUMMARY:"
   ]
  },
  {
   "attachments": {},
   "cell_type": "markdown",
   "metadata": {},
   "source": [
    "This Python code performs a comprehensive analysis of fitness activity data. It starts by loading data from a CSV file into a Pandas DataFrame and carries out several data transformations, including date formatting, data aggregation, and the creation of new columns. The code then explores the data through SQL queries and produces insightful visualizations using Seaborn, Matplotlib, and Plotly.\n",
    "\n",
    "In the data retrieval and transformation stages, the code ensures that the data is appropriately prepared for analysis. It extracts temporal information like year and month from the 'ActivityDate' column and categorizes users into activity levels based on their step counts. Additionally, it computes summary statistics, such as mean and percentile values, for 'TotalSteps' and 'Calories' to gain a better understanding of the dataset.\n",
    "\n",
    "For data analysis, the code calculates total steps for each user and identifies the top 5 users with the highest step counts. It also computes the average daily steps for each month, providing insights into the dataset's temporal trends.\n",
    "\n",
    "To facilitate future access and sharing of the data, the code establishes a MySQL database connection, creates a new database, defines a table schema, and inserts the fitness data into the database. This enables users to query the data directly from the database for various analytical tasks.\n",
    "\n",
    "Finally, in the data visualization section, the code generates informative charts and graphs. It presents a histogram of 'TotalSteps' to visualize the distribution of step counts, a box plot to compare step counts across different activity levels, and a pair plot to explore relationships between numeric variables. Additionally, it displays a time series plot illustrating the trend of 'Total Steps' over time. Using Plotly, the code creates pie charts to depict average active minutes for different activity levels and daily calories burned.\n",
    "\n",
    "In summary, this code provides a comprehensive analysis of fitness activity data, from data retrieval and transformation to analysis and visualization. It employs a variety of Python libraries to explore and communicate insights effectively, making it a valuable resource for anyone interested in understanding and visualizing fitness activity patterns."
   ]
  }
 ],
 "metadata": {
  "kernelspec": {
   "display_name": "Python 3",
   "language": "python",
   "name": "python3"
  },
  "language_info": {
   "codemirror_mode": {
    "name": "ipython",
    "version": 3
   },
   "file_extension": ".py",
   "mimetype": "text/x-python",
   "name": "python",
   "nbconvert_exporter": "python",
   "pygments_lexer": "ipython3",
   "version": "3.11.4"
  },
  "orig_nbformat": 4
 },
 "nbformat": 4,
 "nbformat_minor": 2
}
